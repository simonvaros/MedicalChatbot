{
 "cells": [
  {
   "cell_type": "markdown",
   "metadata": {
    "id": "iltjzM3EWE51"
   },
   "source": [
    "# QnA Data"
   ]
  },
  {
   "cell_type": "code",
   "execution_count": 151,
   "metadata": {},
   "outputs": [
    {
     "name": "stdout",
     "output_type": "stream",
     "text": [
      "Requirement already satisfied: pandas in /Users/simonvaros/opt/miniconda3/lib/python3.8/site-packages (1.1.3)\n",
      "Requirement already satisfied: pytz>=2017.2 in /Users/simonvaros/opt/miniconda3/lib/python3.8/site-packages (from pandas) (2020.1)\n",
      "Requirement already satisfied: python-dateutil>=2.7.3 in /Users/simonvaros/opt/miniconda3/lib/python3.8/site-packages (from pandas) (2.8.1)\n",
      "Requirement already satisfied: numpy>=1.15.4 in /Users/simonvaros/opt/miniconda3/lib/python3.8/site-packages (from pandas) (1.19.2)\n",
      "Requirement already satisfied: six>=1.5 in /Users/simonvaros/opt/miniconda3/lib/python3.8/site-packages (from python-dateutil>=2.7.3->pandas) (1.15.0)\n",
      "Requirement already satisfied: matplotlib in /Users/simonvaros/opt/miniconda3/lib/python3.8/site-packages (3.3.2)\n",
      "Requirement already satisfied: numpy>=1.15 in /Users/simonvaros/opt/miniconda3/lib/python3.8/site-packages (from matplotlib) (1.19.2)\n",
      "Requirement already satisfied: pyparsing!=2.0.4,!=2.1.2,!=2.1.6,>=2.0.3 in /Users/simonvaros/opt/miniconda3/lib/python3.8/site-packages (from matplotlib) (2.4.7)\n",
      "Requirement already satisfied: pillow>=6.2.0 in /Users/simonvaros/opt/miniconda3/lib/python3.8/site-packages (from matplotlib) (7.2.0)\n",
      "Requirement already satisfied: python-dateutil>=2.1 in /Users/simonvaros/opt/miniconda3/lib/python3.8/site-packages (from matplotlib) (2.8.1)\n",
      "Requirement already satisfied: cycler>=0.10 in /Users/simonvaros/opt/miniconda3/lib/python3.8/site-packages (from matplotlib) (0.10.0)\n",
      "Requirement already satisfied: certifi>=2020.06.20 in /Users/simonvaros/opt/miniconda3/lib/python3.8/site-packages (from matplotlib) (2020.6.20)\n",
      "Requirement already satisfied: kiwisolver>=1.0.1 in /Users/simonvaros/opt/miniconda3/lib/python3.8/site-packages (from matplotlib) (1.2.0)\n",
      "Requirement already satisfied: six>=1.5 in /Users/simonvaros/opt/miniconda3/lib/python3.8/site-packages (from python-dateutil>=2.1->matplotlib) (1.15.0)\n",
      "Requirement already satisfied: numpy in /Users/simonvaros/opt/miniconda3/lib/python3.8/site-packages (1.19.2)\n"
     ]
    }
   ],
   "source": [
    "import sys\n",
    "!{sys.executable} -m pip install pandas\n",
    "!{sys.executable} -m pip install matplotlib\n",
    "!{sys.executable} -m pip install numpy\n",
    "\n",
    "import pandas as pd\n",
    "import numpy as np\n",
    "import matplotlib\n",
    "import json\n",
    "from pandas import json_normalize"
   ]
  },
  {
   "cell_type": "markdown",
   "metadata": {},
   "source": [
    "## Load dataset and print info"
   ]
  },
  {
   "cell_type": "code",
   "execution_count": 152,
   "metadata": {
    "id": "n2tFRjfASKFf"
   },
   "outputs": [],
   "source": [
    "dataset_path = './healthtap/healthtap_medical_qna_dataset_PART1-1.csv'\n",
    "data = pd.read_csv(dataset_path, sep=',', index_col=0)"
   ]
  },
  {
   "cell_type": "code",
   "execution_count": 153,
   "metadata": {},
   "outputs": [
    {
     "name": "stdout",
     "output_type": "stream",
     "text": [
      "<class 'pandas.core.frame.DataFrame'>\n",
      "Int64Index: 95189 entries, 0 to 95188\n",
      "Data columns (total 7 columns):\n",
      " #   Column          Non-Null Count  Dtype \n",
      "---  ------          --------------  ----- \n",
      " 0   Unnamed: 0.1    95189 non-null  int64 \n",
      " 1   answers         95189 non-null  object\n",
      " 2   main_category   95189 non-null  object\n",
      " 3   question        95189 non-null  object\n",
      " 4   question_url    95189 non-null  object\n",
      " 5   related_topics  95189 non-null  object\n",
      " 6   sub_category    95189 non-null  object\n",
      "dtypes: int64(1), object(6)\n",
      "memory usage: 5.8+ MB\n"
     ]
    }
   ],
   "source": [
    "data.info()"
   ]
  },
  {
   "cell_type": "code",
   "execution_count": 154,
   "metadata": {},
   "outputs": [
    {
     "data": {
      "text/html": [
       "<div>\n",
       "<style scoped>\n",
       "    .dataframe tbody tr th:only-of-type {\n",
       "        vertical-align: middle;\n",
       "    }\n",
       "\n",
       "    .dataframe tbody tr th {\n",
       "        vertical-align: top;\n",
       "    }\n",
       "\n",
       "    .dataframe thead th {\n",
       "        text-align: right;\n",
       "    }\n",
       "</style>\n",
       "<table border=\"1\" class=\"dataframe\">\n",
       "  <thead>\n",
       "    <tr style=\"text-align: right;\">\n",
       "      <th></th>\n",
       "      <th>Unnamed: 0.1</th>\n",
       "      <th>answers</th>\n",
       "      <th>main_category</th>\n",
       "      <th>question</th>\n",
       "      <th>question_url</th>\n",
       "      <th>related_topics</th>\n",
       "      <th>sub_category</th>\n",
       "    </tr>\n",
       "  </thead>\n",
       "  <tbody>\n",
       "    <tr>\n",
       "      <th>0</th>\n",
       "      <td>0</td>\n",
       "      <td>[{'doctor_name': 'Dr. Glynis Ablon', 'doctor_profession': 'Dermatology', 'short_answer': 'You can get blood', 'answer': 'test to see if you are a carrier of herpes simplex. or see gynecologist or dermatologist when burning or itching starts, but would need to see lesions if possible. perhaps it could be a yeast infection which can be cultured'}]</td>\n",
       "      <td>vagina</td>\n",
       "      <td>Like 5 yrs ago to now I've had some reoccurring itching and when I scratched some burning n vagina no pain never and never noticed sores..is it herpes?</td>\n",
       "      <td>/user_questions/1578652-like-5-yrs-ago-to-now-i-ve-had-some-reoccurring-itching-and-when-i-scratched-some-burning-n-vagina-n</td>\n",
       "      <td>['Does herpes cause burning?', 'Itching and burning but no discharge', 'Itching burning skin but no rash', 'Std that causes itching and burning', 'Burning and itching during period', 'Herpes burning urination', 'Std symptoms itching burning', 'External feminine itching and burning', 'Vaginal burning and itch', 'Herpes and itching']</td>\n",
       "      <td>vagina burning sensation</td>\n",
       "    </tr>\n",
       "    <tr>\n",
       "      <th>1</th>\n",
       "      <td>1</td>\n",
       "      <td>[{'doctor_name': 'Dr. Charlene Sojico', 'doctor_profession': 'Pediatrics', 'short_answer': '', 'answer': 'Make sure she is not. Wearing tight fitting underwears or tight jeans. Cottons are better. You can try using vagisil powder to help vaginal itching.Hygiene is also very important.'}, {'doctor_name': 'Dr. Melissa Moffitt', 'doctor_profession': 'Gynecology - Oncology', 'short_answer': '', 'answer': 'Take her to a Gyn. Gynecologists are trained to perform vulvar or vaginal exams on children.  Call your own gyn and see if she could do it or if she could refer you to a colleague who may have a special focus on pediatric gynecology.'}]</td>\n",
       "      <td>vagina</td>\n",
       "      <td>My 6 year old daughter complains about vaginal itching and discomfort. We don't do bubble baths. What can I do for her?</td>\n",
       "      <td>/user_questions/812576-my-6-year-old-daughter-complains-about-vaginal-itching-and-discomfort-we-don-t-do-bubble-baths-wha</td>\n",
       "      <td>['Vaginal itching', 'Convulsion', 'Female health']</td>\n",
       "      <td>vagina burning sensation</td>\n",
       "    </tr>\n",
       "    <tr>\n",
       "      <th>2</th>\n",
       "      <td>2</td>\n",
       "      <td>[{'doctor_name': 'Dr. Pierrette Mimi Poinsett', 'doctor_profession': 'Pediatrics', 'short_answer': '', 'answer': 'Followup with doc. Some women use yoghurt as a home remedy for vaginitis.  However as she is now having swelling in addition to irritation, she needs to follow up with a doctor.  Also avoid douching and any other home remedies in her vagina.'}, {'doctor_name': 'Dr. James Ferguson', 'doctor_profession': 'Pediatrics', 'short_answer': '', 'answer': 'Worrisome. Sounds like a self treatment for vaginosis. There may be something in the yogurt that she is reacting to or the original problem may be getting worse.It may be a good idea to remove the tampon and rinse the area with a plain douche &amp; schedule a visit with her doc soon.'}]</td>\n",
       "      <td>vagina</td>\n",
       "      <td>My Friend is experiencing irritation and she said it's swollen down their she told me that she put a tampon with yogurt up and it swollen?</td>\n",
       "      <td>/user_questions/6976359-my-friend-is-experiencing-irritation-and-she-said-it-s-swollen-down-their-she-told-me-that-she-put</td>\n",
       "      <td>['Vaginal irritation', 'Vaginitis', 'Female health']</td>\n",
       "      <td>vagina burning sensation</td>\n",
       "    </tr>\n",
       "    <tr>\n",
       "      <th>3</th>\n",
       "      <td>3</td>\n",
       "      <td>[{'doctor_name': 'Dr. Hunter Handsfield', 'doctor_profession': 'Internal Medicine - Infectious Disease', 'short_answer': 'Yeast is possible', 'answer': \"Many women don't understand that yeast often causes no vaginal discharge. The main symptoms are itching and irritation, without discharge. In other words, it sounds like you have pretty typical symptoms. See your doctor for professional diagnosis. Or you could try an OTC yeast treatment -- but for sure see your doctor it that doesn't clear things up in a few days.\"}]</td>\n",
       "      <td>vagina</td>\n",
       "      <td>My VG is itchy and feels irritated, no pain, no burning sens no white discharg Washing myself with bottled water and seems helping Can it be a yeast?</td>\n",
       "      <td>/user_questions/6731827-my-vg-is-itchy-and-feels-irritated-no-pain-no-burning-sens-no-white-discharg-washing-myself-with-b</td>\n",
       "      <td>['Candida die off itching', 'Burning itching back pain', 'Burning mouth and throat candidas', 'Yellow discharge and burning and itching', 'Burning itching sensation down there', 'Eyes itching and burning', 'Itching and burning belly button', 'Burning tingling numbness pain along with itching in outer thigh', 'External feminine itching and burning', 'Ears itching and burning']</td>\n",
       "      <td>vagina burning sensation</td>\n",
       "    </tr>\n",
       "    <tr>\n",
       "      <th>4</th>\n",
       "      <td>4</td>\n",
       "      <td>[{'doctor_name': 'Dr. David Drewitz', 'doctor_profession': 'Internal Medicine - Gastroenterology', 'short_answer': 'Dermatitis', 'answer': 'Red excoriated skin is likely from a dermatitis sometimes caused by candida (fungus). Try applying a topical anti-fungal cream like Clotrimazole to the affected area daily. Good luck!'}]</td>\n",
       "      <td>vagina</td>\n",
       "      <td>My anus has been itchy and burning. Went away and is now back. No discharge of pus or blood. No problem with bowl movement. Also red around area. Help?</td>\n",
       "      <td>/user_questions/759694-my-anus-has-been-itchy-and-burning-went-away-and-is-now-back-no-discharge-of-pus-or-blood-no-prob</td>\n",
       "      <td>['Blood after a bowel movement', 'Blood and mucus after bowel movement', 'Bright red blood in bowel movement', 'Blood drips when bowel movement', 'Blood wipe after bowel movement', 'Causes of blood in bowel movement', 'Red blood bowel movement', 'Passing blood in bowel movement', 'Blood while bowel movement', 'Blood bowel movement']</td>\n",
       "      <td>vagina burning sensation</td>\n",
       "    </tr>\n",
       "  </tbody>\n",
       "</table>\n",
       "</div>"
      ],
      "text/plain": [
       "   Unnamed: 0.1  \\\n",
       "0  0              \n",
       "1  1              \n",
       "2  2              \n",
       "3  3              \n",
       "4  4              \n",
       "\n",
       "                                                                                                                                                                                                                                                                                                                                                                                                                                                                                                                                                                                                                                                                                                                                                                      answers  \\\n",
       "0  [{'doctor_name': 'Dr. Glynis Ablon', 'doctor_profession': 'Dermatology', 'short_answer': 'You can get blood', 'answer': 'test to see if you are a carrier of herpes simplex. or see gynecologist or dermatologist when burning or itching starts, but would need to see lesions if possible. perhaps it could be a yeast infection which can be cultured'}]                                                                                                                                                                                                                                                                                                                                                                                                                  \n",
       "1  [{'doctor_name': 'Dr. Charlene Sojico', 'doctor_profession': 'Pediatrics', 'short_answer': '', 'answer': 'Make sure she is not. Wearing tight fitting underwears or tight jeans. Cottons are better. You can try using vagisil powder to help vaginal itching.Hygiene is also very important.'}, {'doctor_name': 'Dr. Melissa Moffitt', 'doctor_profession': 'Gynecology - Oncology', 'short_answer': '', 'answer': 'Take her to a Gyn. Gynecologists are trained to perform vulvar or vaginal exams on children.  Call your own gyn and see if she could do it or if she could refer you to a colleague who may have a special focus on pediatric gynecology.'}]                                                                                                            \n",
       "2  [{'doctor_name': 'Dr. Pierrette Mimi Poinsett', 'doctor_profession': 'Pediatrics', 'short_answer': '', 'answer': 'Followup with doc. Some women use yoghurt as a home remedy for vaginitis.  However as she is now having swelling in addition to irritation, she needs to follow up with a doctor.  Also avoid douching and any other home remedies in her vagina.'}, {'doctor_name': 'Dr. James Ferguson', 'doctor_profession': 'Pediatrics', 'short_answer': '', 'answer': 'Worrisome. Sounds like a self treatment for vaginosis. There may be something in the yogurt that she is reacting to or the original problem may be getting worse.It may be a good idea to remove the tampon and rinse the area with a plain douche & schedule a visit with her doc soon.'}]   \n",
       "3  [{'doctor_name': 'Dr. Hunter Handsfield', 'doctor_profession': 'Internal Medicine - Infectious Disease', 'short_answer': 'Yeast is possible', 'answer': \"Many women don't understand that yeast often causes no vaginal discharge. The main symptoms are itching and irritation, without discharge. In other words, it sounds like you have pretty typical symptoms. See your doctor for professional diagnosis. Or you could try an OTC yeast treatment -- but for sure see your doctor it that doesn't clear things up in a few days.\"}]                                                                                                                                                                                                                                   \n",
       "4  [{'doctor_name': 'Dr. David Drewitz', 'doctor_profession': 'Internal Medicine - Gastroenterology', 'short_answer': 'Dermatitis', 'answer': 'Red excoriated skin is likely from a dermatitis sometimes caused by candida (fungus). Try applying a topical anti-fungal cream like Clotrimazole to the affected area daily. Good luck!'}]                                                                                                                                                                                                                                                                                                                                                                                                                                       \n",
       "\n",
       "  main_category  \\\n",
       "0  vagina         \n",
       "1  vagina         \n",
       "2  vagina         \n",
       "3  vagina         \n",
       "4  vagina         \n",
       "\n",
       "                                                                                                                                                  question  \\\n",
       "0  Like 5 yrs ago to now I've had some reoccurring itching and when I scratched some burning n vagina no pain never and never noticed sores..is it herpes?   \n",
       "1  My 6 year old daughter complains about vaginal itching and discomfort. We don't do bubble baths. What can I do for her?                                   \n",
       "2  My Friend is experiencing irritation and she said it's swollen down their she told me that she put a tampon with yogurt up and it swollen?                \n",
       "3  My VG is itchy and feels irritated, no pain, no burning sens no white discharg Washing myself with bottled water and seems helping Can it be a yeast?     \n",
       "4  My anus has been itchy and burning. Went away and is now back. No discharge of pus or blood. No problem with bowl movement. Also red around area. Help?   \n",
       "\n",
       "                                                                                                                   question_url  \\\n",
       "0  /user_questions/1578652-like-5-yrs-ago-to-now-i-ve-had-some-reoccurring-itching-and-when-i-scratched-some-burning-n-vagina-n   \n",
       "1  /user_questions/812576-my-6-year-old-daughter-complains-about-vaginal-itching-and-discomfort-we-don-t-do-bubble-baths-wha      \n",
       "2  /user_questions/6976359-my-friend-is-experiencing-irritation-and-she-said-it-s-swollen-down-their-she-told-me-that-she-put     \n",
       "3  /user_questions/6731827-my-vg-is-itchy-and-feels-irritated-no-pain-no-burning-sens-no-white-discharg-washing-myself-with-b     \n",
       "4  /user_questions/759694-my-anus-has-been-itchy-and-burning-went-away-and-is-now-back-no-discharge-of-pus-or-blood-no-prob       \n",
       "\n",
       "                                                                                                                                                                                                                                                                                                                                                                               related_topics  \\\n",
       "0  ['Does herpes cause burning?', 'Itching and burning but no discharge', 'Itching burning skin but no rash', 'Std that causes itching and burning', 'Burning and itching during period', 'Herpes burning urination', 'Std symptoms itching burning', 'External feminine itching and burning', 'Vaginal burning and itch', 'Herpes and itching']                                                \n",
       "1  ['Vaginal itching', 'Convulsion', 'Female health']                                                                                                                                                                                                                                                                                                                                           \n",
       "2  ['Vaginal irritation', 'Vaginitis', 'Female health']                                                                                                                                                                                                                                                                                                                                         \n",
       "3  ['Candida die off itching', 'Burning itching back pain', 'Burning mouth and throat candidas', 'Yellow discharge and burning and itching', 'Burning itching sensation down there', 'Eyes itching and burning', 'Itching and burning belly button', 'Burning tingling numbness pain along with itching in outer thigh', 'External feminine itching and burning', 'Ears itching and burning']   \n",
       "4  ['Blood after a bowel movement', 'Blood and mucus after bowel movement', 'Bright red blood in bowel movement', 'Blood drips when bowel movement', 'Blood wipe after bowel movement', 'Causes of blood in bowel movement', 'Red blood bowel movement', 'Passing blood in bowel movement', 'Blood while bowel movement', 'Blood bowel movement']                                               \n",
       "\n",
       "               sub_category  \n",
       "0  vagina burning sensation  \n",
       "1  vagina burning sensation  \n",
       "2  vagina burning sensation  \n",
       "3  vagina burning sensation  \n",
       "4  vagina burning sensation  "
      ]
     },
     "execution_count": 154,
     "metadata": {},
     "output_type": "execute_result"
    }
   ],
   "source": [
    "data.head()"
   ]
  },
  {
   "cell_type": "markdown",
   "metadata": {},
   "source": [
    "## Drop unnamed column"
   ]
  },
  {
   "cell_type": "code",
   "execution_count": 155,
   "metadata": {},
   "outputs": [],
   "source": [
    "data = data.drop(columns=['Unnamed: 0.1'])"
   ]
  },
  {
   "cell_type": "code",
   "execution_count": 156,
   "metadata": {},
   "outputs": [],
   "source": [
    "#pd.set_option('display.max_colwidth', -1)"
   ]
  },
  {
   "cell_type": "markdown",
   "metadata": {},
   "source": [
    "## Remove questions that have no answers "
   ]
  },
  {
   "cell_type": "code",
   "execution_count": 157,
   "metadata": {},
   "outputs": [
    {
     "name": "stdout",
     "output_type": "stream",
     "text": [
      "<class 'pandas.core.frame.DataFrame'>\n",
      "RangeIndex: 94939 entries, 0 to 94938\n",
      "Data columns (total 6 columns):\n",
      " #   Column          Non-Null Count  Dtype \n",
      "---  ------          --------------  ----- \n",
      " 0   answers         94939 non-null  object\n",
      " 1   main_category   94939 non-null  object\n",
      " 2   question        94939 non-null  object\n",
      " 3   question_url    94939 non-null  object\n",
      " 4   related_topics  94939 non-null  object\n",
      " 5   sub_category    94939 non-null  object\n",
      "dtypes: object(6)\n",
      "memory usage: 4.3+ MB\n"
     ]
    }
   ],
   "source": [
    "data = data[data.answers != '[]']\n",
    "data = new_data.reset_index(drop=True)\n",
    "data.info()"
   ]
  },
  {
   "cell_type": "markdown",
   "metadata": {},
   "source": [
    "## Transform answers column to doctor_name, doctor_profession, short_answer, answer - if more than 1 answer, take first"
   ]
  },
  {
   "cell_type": "code",
   "execution_count": 158,
   "metadata": {},
   "outputs": [
    {
     "data": {
      "text/html": [
       "<div>\n",
       "<style scoped>\n",
       "    .dataframe tbody tr th:only-of-type {\n",
       "        vertical-align: middle;\n",
       "    }\n",
       "\n",
       "    .dataframe tbody tr th {\n",
       "        vertical-align: top;\n",
       "    }\n",
       "\n",
       "    .dataframe thead th {\n",
       "        text-align: right;\n",
       "    }\n",
       "</style>\n",
       "<table border=\"1\" class=\"dataframe\">\n",
       "  <thead>\n",
       "    <tr style=\"text-align: right;\">\n",
       "      <th></th>\n",
       "      <th>answers</th>\n",
       "      <th>main_category</th>\n",
       "      <th>question</th>\n",
       "      <th>question_url</th>\n",
       "      <th>related_topics</th>\n",
       "      <th>sub_category</th>\n",
       "      <th>doctor_name</th>\n",
       "      <th>doctor_profession</th>\n",
       "      <th>short_answer</th>\n",
       "      <th>answer</th>\n",
       "    </tr>\n",
       "  </thead>\n",
       "  <tbody>\n",
       "    <tr>\n",
       "      <th>0</th>\n",
       "      <td>[{'doctor_name': 'Dr. Glynis Ablon', 'doctor_profession': 'Dermatology', 'short_answer': 'You can get blood', 'answer': 'test to see if you are a carrier of herpes simplex. or see gynecologist or dermatologist when burning or itching starts, but would need to see lesions if possible. perhaps it could be a yeast infection which can be cultured'}]</td>\n",
       "      <td>vagina</td>\n",
       "      <td>Like 5 yrs ago to now I've had some reoccurring itching and when I scratched some burning n vagina no pain never and never noticed sores..is it herpes?</td>\n",
       "      <td>/user_questions/1578652-like-5-yrs-ago-to-now-i-ve-had-some-reoccurring-itching-and-when-i-scratched-some-burning-n-vagina-n</td>\n",
       "      <td>['Does herpes cause burning?', 'Itching and burning but no discharge', 'Itching burning skin but no rash', 'Std that causes itching and burning', 'Burning and itching during period', 'Herpes burning urination', 'Std symptoms itching burning', 'External feminine itching and burning', 'Vaginal burning and itch', 'Herpes and itching']</td>\n",
       "      <td>vagina burning sensation</td>\n",
       "      <td>Dr. Glynis Ablon</td>\n",
       "      <td>Dermatology</td>\n",
       "      <td>You can get blood</td>\n",
       "      <td>test to see if you are a carrier of herpes simplex. or see gynecologist or dermatologist when burning or itching starts, but would need to see lesions if possible. perhaps it could be a yeast infection which can be cultured</td>\n",
       "    </tr>\n",
       "    <tr>\n",
       "      <th>1</th>\n",
       "      <td>[{'doctor_name': 'Dr. Charlene Sojico', 'doctor_profession': 'Pediatrics', 'short_answer': '', 'answer': 'Make sure she is not. Wearing tight fitting underwears or tight jeans. Cottons are better. You can try using vagisil powder to help vaginal itching.Hygiene is also very important.'}, {'doctor_name': 'Dr. Melissa Moffitt', 'doctor_profession': 'Gynecology - Oncology', 'short_answer': '', 'answer': 'Take her to a Gyn. Gynecologists are trained to perform vulvar or vaginal exams on children.  Call your own gyn and see if she could do it or if she could refer you to a colleague who may have a special focus on pediatric gynecology.'}]</td>\n",
       "      <td>vagina</td>\n",
       "      <td>My 6 year old daughter complains about vaginal itching and discomfort. We don't do bubble baths. What can I do for her?</td>\n",
       "      <td>/user_questions/812576-my-6-year-old-daughter-complains-about-vaginal-itching-and-discomfort-we-don-t-do-bubble-baths-wha</td>\n",
       "      <td>['Vaginal itching', 'Convulsion', 'Female health']</td>\n",
       "      <td>vagina burning sensation</td>\n",
       "      <td>Dr. Charlene Sojico</td>\n",
       "      <td>Pediatrics</td>\n",
       "      <td></td>\n",
       "      <td>Make sure she is not. Wearing tight fitting underwears or tight jeans. Cottons are better. You can try using vagisil powder to help vaginal itching.Hygiene is also very important.</td>\n",
       "    </tr>\n",
       "    <tr>\n",
       "      <th>2</th>\n",
       "      <td>[{'doctor_name': 'Dr. Pierrette Mimi Poinsett', 'doctor_profession': 'Pediatrics', 'short_answer': '', 'answer': 'Followup with doc. Some women use yoghurt as a home remedy for vaginitis.  However as she is now having swelling in addition to irritation, she needs to follow up with a doctor.  Also avoid douching and any other home remedies in her vagina.'}, {'doctor_name': 'Dr. James Ferguson', 'doctor_profession': 'Pediatrics', 'short_answer': '', 'answer': 'Worrisome. Sounds like a self treatment for vaginosis. There may be something in the yogurt that she is reacting to or the original problem may be getting worse.It may be a good idea to remove the tampon and rinse the area with a plain douche &amp; schedule a visit with her doc soon.'}]</td>\n",
       "      <td>vagina</td>\n",
       "      <td>My Friend is experiencing irritation and she said it's swollen down their she told me that she put a tampon with yogurt up and it swollen?</td>\n",
       "      <td>/user_questions/6976359-my-friend-is-experiencing-irritation-and-she-said-it-s-swollen-down-their-she-told-me-that-she-put</td>\n",
       "      <td>['Vaginal irritation', 'Vaginitis', 'Female health']</td>\n",
       "      <td>vagina burning sensation</td>\n",
       "      <td>Dr. Pierrette Mimi Poinsett</td>\n",
       "      <td>Pediatrics</td>\n",
       "      <td></td>\n",
       "      <td>Followup with doc. Some women use yoghurt as a home remedy for vaginitis.  However as she is now having swelling in addition to irritation, she needs to follow up with a doctor.  Also avoid douching and any other home remedies in her vagina.</td>\n",
       "    </tr>\n",
       "    <tr>\n",
       "      <th>3</th>\n",
       "      <td>[{'doctor_name': 'Dr. Hunter Handsfield', 'doctor_profession': 'Internal Medicine - Infectious Disease', 'short_answer': 'Yeast is possible', 'answer': \"Many women don't understand that yeast often causes no vaginal discharge. The main symptoms are itching and irritation, without discharge. In other words, it sounds like you have pretty typical symptoms. See your doctor for professional diagnosis. Or you could try an OTC yeast treatment -- but for sure see your doctor it that doesn't clear things up in a few days.\"}]</td>\n",
       "      <td>vagina</td>\n",
       "      <td>My VG is itchy and feels irritated, no pain, no burning sens no white discharg Washing myself with bottled water and seems helping Can it be a yeast?</td>\n",
       "      <td>/user_questions/6731827-my-vg-is-itchy-and-feels-irritated-no-pain-no-burning-sens-no-white-discharg-washing-myself-with-b</td>\n",
       "      <td>['Candida die off itching', 'Burning itching back pain', 'Burning mouth and throat candidas', 'Yellow discharge and burning and itching', 'Burning itching sensation down there', 'Eyes itching and burning', 'Itching and burning belly button', 'Burning tingling numbness pain along with itching in outer thigh', 'External feminine itching and burning', 'Ears itching and burning']</td>\n",
       "      <td>vagina burning sensation</td>\n",
       "      <td>Dr. Hunter Handsfield</td>\n",
       "      <td>Internal Medicine - Infectious Disease</td>\n",
       "      <td>Yeast is possible</td>\n",
       "      <td>Many women don't understand that yeast often causes no vaginal discharge. The main symptoms are itching and irritation, without discharge. In other words, it sounds like you have pretty typical symptoms. See your doctor for professional diagnosis. Or you could try an OTC yeast treatment -- but for sure see your doctor it that doesn't clear things up in a few days.</td>\n",
       "    </tr>\n",
       "    <tr>\n",
       "      <th>4</th>\n",
       "      <td>[{'doctor_name': 'Dr. David Drewitz', 'doctor_profession': 'Internal Medicine - Gastroenterology', 'short_answer': 'Dermatitis', 'answer': 'Red excoriated skin is likely from a dermatitis sometimes caused by candida (fungus). Try applying a topical anti-fungal cream like Clotrimazole to the affected area daily. Good luck!'}]</td>\n",
       "      <td>vagina</td>\n",
       "      <td>My anus has been itchy and burning. Went away and is now back. No discharge of pus or blood. No problem with bowl movement. Also red around area. Help?</td>\n",
       "      <td>/user_questions/759694-my-anus-has-been-itchy-and-burning-went-away-and-is-now-back-no-discharge-of-pus-or-blood-no-prob</td>\n",
       "      <td>['Blood after a bowel movement', 'Blood and mucus after bowel movement', 'Bright red blood in bowel movement', 'Blood drips when bowel movement', 'Blood wipe after bowel movement', 'Causes of blood in bowel movement', 'Red blood bowel movement', 'Passing blood in bowel movement', 'Blood while bowel movement', 'Blood bowel movement']</td>\n",
       "      <td>vagina burning sensation</td>\n",
       "      <td>Dr. David Drewitz</td>\n",
       "      <td>Internal Medicine - Gastroenterology</td>\n",
       "      <td>Dermatitis</td>\n",
       "      <td>Red excoriated skin is likely from a dermatitis sometimes caused by candida (fungus). Try applying a topical anti-fungal cream like Clotrimazole to the affected area daily. Good luck!</td>\n",
       "    </tr>\n",
       "    <tr>\n",
       "      <th>5</th>\n",
       "      <td>[{'doctor_name': 'Dr. Philip Miller', 'doctor_profession': 'Family Medicine', 'short_answer': '', 'answer': 'Infection. This sounds like 2 separate issues: vaginitis and a urinary tract infection. Cannot be diagnosed online. Make an appointment with a GYN for definitive diagnosis, evaluation and treatment.'}, {'doctor_name': 'Dr. Scott Hacking', 'doctor_profession': 'Family Medicine', 'short_answer': '', 'answer': 'Burning. itching and burning can be from a yeast infection or from an STD. Please consult a doctor and also get tested.'}]</td>\n",
       "      <td>vagina</td>\n",
       "      <td>My anus itching and my pubic hair also my inside vagina too...when l go to pee is burning and painful my abdorminal is painful is that any std help?</td>\n",
       "      <td>/user_questions/6907265-my-anus-itching-and-my-pubic-hair-also-my-inside-vagina-too-when-l-go-to-pee-is-burning-and-painfu</td>\n",
       "      <td>['Std', 'Sexually transmitted infections', 'Sexually transmitted diseases', 'Vaginal infections', 'Vaginitis']</td>\n",
       "      <td>vagina burning sensation</td>\n",
       "      <td>Dr. Philip Miller</td>\n",
       "      <td>Family Medicine</td>\n",
       "      <td></td>\n",
       "      <td>Infection. This sounds like 2 separate issues: vaginitis and a urinary tract infection. Cannot be diagnosed online. Make an appointment with a GYN for definitive diagnosis, evaluation and treatment.</td>\n",
       "    </tr>\n",
       "    <tr>\n",
       "      <th>6</th>\n",
       "      <td>[{'doctor_name': 'Dr. Steven Weissberg', 'doctor_profession': 'Obstetrics &amp; Gynecology', 'short_answer': '', 'answer': 'Vaginitis? vulvitis? See her doctor.'}]</td>\n",
       "      <td>vagina</td>\n",
       "      <td>My friend had redness in her vagina and and it hurts. What is wrong with her?</td>\n",
       "      <td>/user_questions/1308734-my-friend-had-redness-in-her-vagina-and-and-it-hurts-what-is-wrong-with-her</td>\n",
       "      <td>['Female health']</td>\n",
       "      <td>vagina burning sensation</td>\n",
       "      <td>Dr. Steven Weissberg</td>\n",
       "      <td>Obstetrics &amp; Gynecology</td>\n",
       "      <td></td>\n",
       "      <td>Vaginitis? vulvitis? See her doctor.</td>\n",
       "    </tr>\n",
       "    <tr>\n",
       "      <th>7</th>\n",
       "      <td>[{'doctor_name': 'Dr. Jeff Livingston', 'doctor_profession': 'Obstetrics &amp; Gynecology', 'short_answer': '', 'answer': 'Get tested . Lumps, bumps, blisters and other skin abnormalities on the genitals need to be evaluated. An examination will be needed to know the cause and treatment.  When one area of the vagina has burning and stinging we get concerned for possible herpes infections.'}]</td>\n",
       "      <td>vagina</td>\n",
       "      <td>My inner vagina lip is burning/stinging. No bumps. Only a little part that hangs down is burning/stinging. What's wrong?</td>\n",
       "      <td>/user_questions/758279-my-inner-vagina-lip-is-burning-stinging-no-bumps-only-a-little-part-that-hangs-down-is-burning-sti</td>\n",
       "      <td>['Herpes', 'Skin abnormalities', 'Female health']</td>\n",
       "      <td>vagina burning sensation</td>\n",
       "      <td>Dr. Jeff Livingston</td>\n",
       "      <td>Obstetrics &amp; Gynecology</td>\n",
       "      <td></td>\n",
       "      <td>Get tested . Lumps, bumps, blisters and other skin abnormalities on the genitals need to be evaluated. An examination will be needed to know the cause and treatment.  When one area of the vagina has burning and stinging we get concerned for possible herpes infections.</td>\n",
       "    </tr>\n",
       "    <tr>\n",
       "      <th>8</th>\n",
       "      <td>[{'doctor_name': 'Dr. Christina Adberg', 'doctor_profession': 'Obstetrics &amp; Gynecology', 'short_answer': '', 'answer': \"Get an exam. It's so hard to tell without visually examining the swelling. If it looks significant, i think it's best to make an appointment.\"}]</td>\n",
       "      <td>vagina</td>\n",
       "      <td>My left vaginal lip is swollen. I don't have pain or itching. Wat should I do now?</td>\n",
       "      <td>/user_questions/1200155-my-left-vaginal-lip-is-swollen-i-don-t-have-pain-or-itching-wat-should-i-do-now</td>\n",
       "      <td>['Vulvar disorders']</td>\n",
       "      <td>vagina burning sensation</td>\n",
       "      <td>Dr. Christina Adberg</td>\n",
       "      <td>Obstetrics &amp; Gynecology</td>\n",
       "      <td></td>\n",
       "      <td>Get an exam. It's so hard to tell without visually examining the swelling. If it looks significant, i think it's best to make an appointment.</td>\n",
       "    </tr>\n",
       "    <tr>\n",
       "      <th>9</th>\n",
       "      <td>[{'doctor_name': 'Dr. Joseph Eastern', 'doctor_profession': 'Dermatology', 'short_answer': '', 'answer': \"Probably. Friction is a likely cause. If it doesn't resolve promptly, you'll want to check with your doctor to be sure that something else isn't causing it.\"}]</td>\n",
       "      <td>vagina</td>\n",
       "      <td>My perineum is achy and burns when pee. Normal discharge, no itching, just irritating. Is this just from rough sex monday or is there a medical issue?</td>\n",
       "      <td>/user_questions/839617-my-perineum-is-achy-and-burns-when-pee-normal-discharge-no-itching-just-irritating-is-this-just</td>\n",
       "      <td>['Old health', 'Young health', 'Urine', 'Urination', 'Sex']</td>\n",
       "      <td>vagina burning sensation</td>\n",
       "      <td>Dr. Joseph Eastern</td>\n",
       "      <td>Dermatology</td>\n",
       "      <td></td>\n",
       "      <td>Probably. Friction is a likely cause. If it doesn't resolve promptly, you'll want to check with your doctor to be sure that something else isn't causing it.</td>\n",
       "    </tr>\n",
       "  </tbody>\n",
       "</table>\n",
       "</div>"
      ],
      "text/plain": [
       "                                                                                                                                                                                                                                                                                                                                                                                                                                                                                                                                                                                                                                                                                                                                                                      answers  \\\n",
       "0  [{'doctor_name': 'Dr. Glynis Ablon', 'doctor_profession': 'Dermatology', 'short_answer': 'You can get blood', 'answer': 'test to see if you are a carrier of herpes simplex. or see gynecologist or dermatologist when burning or itching starts, but would need to see lesions if possible. perhaps it could be a yeast infection which can be cultured'}]                                                                                                                                                                                                                                                                                                                                                                                                                  \n",
       "1  [{'doctor_name': 'Dr. Charlene Sojico', 'doctor_profession': 'Pediatrics', 'short_answer': '', 'answer': 'Make sure she is not. Wearing tight fitting underwears or tight jeans. Cottons are better. You can try using vagisil powder to help vaginal itching.Hygiene is also very important.'}, {'doctor_name': 'Dr. Melissa Moffitt', 'doctor_profession': 'Gynecology - Oncology', 'short_answer': '', 'answer': 'Take her to a Gyn. Gynecologists are trained to perform vulvar or vaginal exams on children.  Call your own gyn and see if she could do it or if she could refer you to a colleague who may have a special focus on pediatric gynecology.'}]                                                                                                            \n",
       "2  [{'doctor_name': 'Dr. Pierrette Mimi Poinsett', 'doctor_profession': 'Pediatrics', 'short_answer': '', 'answer': 'Followup with doc. Some women use yoghurt as a home remedy for vaginitis.  However as she is now having swelling in addition to irritation, she needs to follow up with a doctor.  Also avoid douching and any other home remedies in her vagina.'}, {'doctor_name': 'Dr. James Ferguson', 'doctor_profession': 'Pediatrics', 'short_answer': '', 'answer': 'Worrisome. Sounds like a self treatment for vaginosis. There may be something in the yogurt that she is reacting to or the original problem may be getting worse.It may be a good idea to remove the tampon and rinse the area with a plain douche & schedule a visit with her doc soon.'}]   \n",
       "3  [{'doctor_name': 'Dr. Hunter Handsfield', 'doctor_profession': 'Internal Medicine - Infectious Disease', 'short_answer': 'Yeast is possible', 'answer': \"Many women don't understand that yeast often causes no vaginal discharge. The main symptoms are itching and irritation, without discharge. In other words, it sounds like you have pretty typical symptoms. See your doctor for professional diagnosis. Or you could try an OTC yeast treatment -- but for sure see your doctor it that doesn't clear things up in a few days.\"}]                                                                                                                                                                                                                                   \n",
       "4  [{'doctor_name': 'Dr. David Drewitz', 'doctor_profession': 'Internal Medicine - Gastroenterology', 'short_answer': 'Dermatitis', 'answer': 'Red excoriated skin is likely from a dermatitis sometimes caused by candida (fungus). Try applying a topical anti-fungal cream like Clotrimazole to the affected area daily. Good luck!'}]                                                                                                                                                                                                                                                                                                                                                                                                                                       \n",
       "5  [{'doctor_name': 'Dr. Philip Miller', 'doctor_profession': 'Family Medicine', 'short_answer': '', 'answer': 'Infection. This sounds like 2 separate issues: vaginitis and a urinary tract infection. Cannot be diagnosed online. Make an appointment with a GYN for definitive diagnosis, evaluation and treatment.'}, {'doctor_name': 'Dr. Scott Hacking', 'doctor_profession': 'Family Medicine', 'short_answer': '', 'answer': 'Burning. itching and burning can be from a yeast infection or from an STD. Please consult a doctor and also get tested.'}]                                                                                                                                                                                                                \n",
       "6  [{'doctor_name': 'Dr. Steven Weissberg', 'doctor_profession': 'Obstetrics & Gynecology', 'short_answer': '', 'answer': 'Vaginitis? vulvitis? See her doctor.'}]                                                                                                                                                                                                                                                                                                                                                                                                                                                                                                                                                                                                              \n",
       "7  [{'doctor_name': 'Dr. Jeff Livingston', 'doctor_profession': 'Obstetrics & Gynecology', 'short_answer': '', 'answer': 'Get tested . Lumps, bumps, blisters and other skin abnormalities on the genitals need to be evaluated. An examination will be needed to know the cause and treatment.  When one area of the vagina has burning and stinging we get concerned for possible herpes infections.'}]                                                                                                                                                                                                                                                                                                                                                                       \n",
       "8  [{'doctor_name': 'Dr. Christina Adberg', 'doctor_profession': 'Obstetrics & Gynecology', 'short_answer': '', 'answer': \"Get an exam. It's so hard to tell without visually examining the swelling. If it looks significant, i think it's best to make an appointment.\"}]                                                                                                                                                                                                                                                                                                                                                                                                                                                                                                     \n",
       "9  [{'doctor_name': 'Dr. Joseph Eastern', 'doctor_profession': 'Dermatology', 'short_answer': '', 'answer': \"Probably. Friction is a likely cause. If it doesn't resolve promptly, you'll want to check with your doctor to be sure that something else isn't causing it.\"}]                                                                                                                                                                                                                                                                                                                                                                                                                                                                                                    \n",
       "\n",
       "  main_category  \\\n",
       "0  vagina         \n",
       "1  vagina         \n",
       "2  vagina         \n",
       "3  vagina         \n",
       "4  vagina         \n",
       "5  vagina         \n",
       "6  vagina         \n",
       "7  vagina         \n",
       "8  vagina         \n",
       "9  vagina         \n",
       "\n",
       "                                                                                                                                                  question  \\\n",
       "0  Like 5 yrs ago to now I've had some reoccurring itching and when I scratched some burning n vagina no pain never and never noticed sores..is it herpes?   \n",
       "1  My 6 year old daughter complains about vaginal itching and discomfort. We don't do bubble baths. What can I do for her?                                   \n",
       "2  My Friend is experiencing irritation and she said it's swollen down their she told me that she put a tampon with yogurt up and it swollen?                \n",
       "3  My VG is itchy and feels irritated, no pain, no burning sens no white discharg Washing myself with bottled water and seems helping Can it be a yeast?     \n",
       "4  My anus has been itchy and burning. Went away and is now back. No discharge of pus or blood. No problem with bowl movement. Also red around area. Help?   \n",
       "5  My anus itching and my pubic hair also my inside vagina too...when l go to pee is burning and painful my abdorminal is painful is that any std help?      \n",
       "6  My friend had redness in her vagina and and it hurts. What is wrong with her?                                                                             \n",
       "7  My inner vagina lip is burning/stinging. No bumps. Only a little part that hangs down is burning/stinging. What's wrong?                                  \n",
       "8  My left vaginal lip is swollen. I don't have pain or itching. Wat should I do now?                                                                        \n",
       "9  My perineum is achy and burns when pee. Normal discharge, no itching, just irritating. Is this just from rough sex monday or is there a medical issue?    \n",
       "\n",
       "                                                                                                                   question_url  \\\n",
       "0  /user_questions/1578652-like-5-yrs-ago-to-now-i-ve-had-some-reoccurring-itching-and-when-i-scratched-some-burning-n-vagina-n   \n",
       "1  /user_questions/812576-my-6-year-old-daughter-complains-about-vaginal-itching-and-discomfort-we-don-t-do-bubble-baths-wha      \n",
       "2  /user_questions/6976359-my-friend-is-experiencing-irritation-and-she-said-it-s-swollen-down-their-she-told-me-that-she-put     \n",
       "3  /user_questions/6731827-my-vg-is-itchy-and-feels-irritated-no-pain-no-burning-sens-no-white-discharg-washing-myself-with-b     \n",
       "4  /user_questions/759694-my-anus-has-been-itchy-and-burning-went-away-and-is-now-back-no-discharge-of-pus-or-blood-no-prob       \n",
       "5  /user_questions/6907265-my-anus-itching-and-my-pubic-hair-also-my-inside-vagina-too-when-l-go-to-pee-is-burning-and-painfu     \n",
       "6  /user_questions/1308734-my-friend-had-redness-in-her-vagina-and-and-it-hurts-what-is-wrong-with-her                            \n",
       "7  /user_questions/758279-my-inner-vagina-lip-is-burning-stinging-no-bumps-only-a-little-part-that-hangs-down-is-burning-sti      \n",
       "8  /user_questions/1200155-my-left-vaginal-lip-is-swollen-i-don-t-have-pain-or-itching-wat-should-i-do-now                        \n",
       "9  /user_questions/839617-my-perineum-is-achy-and-burns-when-pee-normal-discharge-no-itching-just-irritating-is-this-just         \n",
       "\n",
       "                                                                                                                                                                                                                                                                                                                                                                               related_topics  \\\n",
       "0  ['Does herpes cause burning?', 'Itching and burning but no discharge', 'Itching burning skin but no rash', 'Std that causes itching and burning', 'Burning and itching during period', 'Herpes burning urination', 'Std symptoms itching burning', 'External feminine itching and burning', 'Vaginal burning and itch', 'Herpes and itching']                                                \n",
       "1  ['Vaginal itching', 'Convulsion', 'Female health']                                                                                                                                                                                                                                                                                                                                           \n",
       "2  ['Vaginal irritation', 'Vaginitis', 'Female health']                                                                                                                                                                                                                                                                                                                                         \n",
       "3  ['Candida die off itching', 'Burning itching back pain', 'Burning mouth and throat candidas', 'Yellow discharge and burning and itching', 'Burning itching sensation down there', 'Eyes itching and burning', 'Itching and burning belly button', 'Burning tingling numbness pain along with itching in outer thigh', 'External feminine itching and burning', 'Ears itching and burning']   \n",
       "4  ['Blood after a bowel movement', 'Blood and mucus after bowel movement', 'Bright red blood in bowel movement', 'Blood drips when bowel movement', 'Blood wipe after bowel movement', 'Causes of blood in bowel movement', 'Red blood bowel movement', 'Passing blood in bowel movement', 'Blood while bowel movement', 'Blood bowel movement']                                               \n",
       "5  ['Std', 'Sexually transmitted infections', 'Sexually transmitted diseases', 'Vaginal infections', 'Vaginitis']                                                                                                                                                                                                                                                                               \n",
       "6  ['Female health']                                                                                                                                                                                                                                                                                                                                                                            \n",
       "7  ['Herpes', 'Skin abnormalities', 'Female health']                                                                                                                                                                                                                                                                                                                                            \n",
       "8  ['Vulvar disorders']                                                                                                                                                                                                                                                                                                                                                                         \n",
       "9  ['Old health', 'Young health', 'Urine', 'Urination', 'Sex']                                                                                                                                                                                                                                                                                                                                  \n",
       "\n",
       "               sub_category                  doctor_name  \\\n",
       "0  vagina burning sensation  Dr. Glynis Ablon              \n",
       "1  vagina burning sensation  Dr. Charlene Sojico           \n",
       "2  vagina burning sensation  Dr. Pierrette Mimi Poinsett   \n",
       "3  vagina burning sensation  Dr. Hunter Handsfield         \n",
       "4  vagina burning sensation  Dr. David Drewitz             \n",
       "5  vagina burning sensation  Dr. Philip Miller             \n",
       "6  vagina burning sensation  Dr. Steven Weissberg          \n",
       "7  vagina burning sensation  Dr. Jeff Livingston           \n",
       "8  vagina burning sensation  Dr. Christina Adberg          \n",
       "9  vagina burning sensation  Dr. Joseph Eastern            \n",
       "\n",
       "                        doctor_profession       short_answer  \\\n",
       "0  Dermatology                             You can get blood   \n",
       "1  Pediatrics                                                  \n",
       "2  Pediatrics                                                  \n",
       "3  Internal Medicine - Infectious Disease  Yeast is possible   \n",
       "4  Internal Medicine - Gastroenterology    Dermatitis          \n",
       "5  Family Medicine                                             \n",
       "6  Obstetrics & Gynecology                                     \n",
       "7  Obstetrics & Gynecology                                     \n",
       "8  Obstetrics & Gynecology                                     \n",
       "9  Dermatology                                                 \n",
       "\n",
       "                                                                                                                                                                                                                                                                                                                                                                           answer  \n",
       "0  test to see if you are a carrier of herpes simplex. or see gynecologist or dermatologist when burning or itching starts, but would need to see lesions if possible. perhaps it could be a yeast infection which can be cultured                                                                                                                                                 \n",
       "1  Make sure she is not. Wearing tight fitting underwears or tight jeans. Cottons are better. You can try using vagisil powder to help vaginal itching.Hygiene is also very important.                                                                                                                                                                                             \n",
       "2  Followup with doc. Some women use yoghurt as a home remedy for vaginitis.  However as she is now having swelling in addition to irritation, she needs to follow up with a doctor.  Also avoid douching and any other home remedies in her vagina.                                                                                                                               \n",
       "3  Many women don't understand that yeast often causes no vaginal discharge. The main symptoms are itching and irritation, without discharge. In other words, it sounds like you have pretty typical symptoms. See your doctor for professional diagnosis. Or you could try an OTC yeast treatment -- but for sure see your doctor it that doesn't clear things up in a few days.  \n",
       "4  Red excoriated skin is likely from a dermatitis sometimes caused by candida (fungus). Try applying a topical anti-fungal cream like Clotrimazole to the affected area daily. Good luck!                                                                                                                                                                                         \n",
       "5  Infection. This sounds like 2 separate issues: vaginitis and a urinary tract infection. Cannot be diagnosed online. Make an appointment with a GYN for definitive diagnosis, evaluation and treatment.                                                                                                                                                                          \n",
       "6  Vaginitis? vulvitis? See her doctor.                                                                                                                                                                                                                                                                                                                                            \n",
       "7  Get tested . Lumps, bumps, blisters and other skin abnormalities on the genitals need to be evaluated. An examination will be needed to know the cause and treatment.  When one area of the vagina has burning and stinging we get concerned for possible herpes infections.                                                                                                    \n",
       "8  Get an exam. It's so hard to tell without visually examining the swelling. If it looks significant, i think it's best to make an appointment.                                                                                                                                                                                                                                   \n",
       "9  Probably. Friction is a likely cause. If it doesn't resolve promptly, you'll want to check with your doctor to be sure that something else isn't causing it.                                                                                                                                                                                                                    "
      ]
     },
     "execution_count": 158,
     "metadata": {},
     "output_type": "execute_result"
    }
   ],
   "source": [
    "result = pd.DataFrame(list(map(lambda a: eval(a)[0], data['answers'])))\n",
    "data = pd.concat([data, result], axis=1)\n",
    "data.head(10)\n"
   ]
  },
  {
   "cell_type": "code",
   "execution_count": 159,
   "metadata": {},
   "outputs": [],
   "source": [
    "data = data.drop(columns=['answers'])"
   ]
  },
  {
   "cell_type": "code",
   "execution_count": 160,
   "metadata": {},
   "outputs": [
    {
     "name": "stdout",
     "output_type": "stream",
     "text": [
      "<class 'pandas.core.frame.DataFrame'>\n",
      "RangeIndex: 94939 entries, 0 to 94938\n",
      "Data columns (total 9 columns):\n",
      " #   Column             Non-Null Count  Dtype \n",
      "---  ------             --------------  ----- \n",
      " 0   main_category      94939 non-null  object\n",
      " 1   question           94939 non-null  object\n",
      " 2   question_url       94939 non-null  object\n",
      " 3   related_topics     94939 non-null  object\n",
      " 4   sub_category       94939 non-null  object\n",
      " 5   doctor_name        94939 non-null  object\n",
      " 6   doctor_profession  94939 non-null  object\n",
      " 7   short_answer       94939 non-null  object\n",
      " 8   answer             94939 non-null  object\n",
      "dtypes: object(9)\n",
      "memory usage: 6.5+ MB\n"
     ]
    }
   ],
   "source": [
    "data.info()"
   ]
  },
  {
   "cell_type": "markdown",
   "metadata": {},
   "source": [
    "## Attribut main_category"
   ]
  },
  {
   "cell_type": "code",
   "execution_count": 161,
   "metadata": {},
   "outputs": [],
   "source": [
    "data['main_category'] = pd.Categorical(data.main_category)"
   ]
  },
  {
   "cell_type": "code",
   "execution_count": 162,
   "metadata": {},
   "outputs": [
    {
     "data": {
      "text/plain": [
       "count     94939\n",
       "unique    20   \n",
       "top       bumps\n",
       "freq      17558\n",
       "Name: main_category, dtype: object"
      ]
     },
     "execution_count": 162,
     "metadata": {},
     "output_type": "execute_result"
    }
   ],
   "source": [
    "data['main_category'].describe()"
   ]
  },
  {
   "cell_type": "code",
   "execution_count": 163,
   "metadata": {},
   "outputs": [
    {
     "data": {
      "text/plain": [
       "['vagina', 'video game', 'viral infection', 'vitamins', 'weigh', ..., 'carpal tunnel', 'cesarean section', 'charley horse', 'chest', 'chest pain']\n",
       "Length: 20\n",
       "Categories (20, object): ['vagina', 'video game', 'viral infection', 'vitamins', ..., 'cesarean section', 'charley horse', 'chest', 'chest pain']"
      ]
     },
     "execution_count": 163,
     "metadata": {},
     "output_type": "execute_result"
    }
   ],
   "source": [
    "data['main_category'].unique()"
   ]
  },
  {
   "cell_type": "code",
   "execution_count": 164,
   "metadata": {},
   "outputs": [
    {
     "data": {
      "text/plain": [
       "<AxesSubplot:>"
      ]
     },
     "execution_count": 164,
     "metadata": {},
     "output_type": "execute_result"
    },
    {
     "data": {
      "image/png": "[encoded data removed]",
      "text/plain": [
       "<Figure size 1080x720 with 1 Axes>"
      ]
     },
     "metadata": {
      "needs_background": "light"
     },
     "output_type": "display_data"
    }
   ],
   "source": [
    "pd.value_counts(data['main_category']).plot(kind=\"bar\", figsize=(15,10))"
   ]
  },
  {
   "cell_type": "markdown",
   "metadata": {},
   "source": [
    "## Attribute doctor_name"
   ]
  },
  {
   "cell_type": "code",
   "execution_count": 165,
   "metadata": {},
   "outputs": [
    {
     "data": {
      "text/plain": [
       "count     94939           \n",
       "unique    9581            \n",
       "top       Dr. Heidi Fowler\n",
       "freq      5056            \n",
       "Name: doctor_name, dtype: object"
      ]
     },
     "execution_count": 165,
     "metadata": {},
     "output_type": "execute_result"
    }
   ],
   "source": [
    "data['doctor_name'].describe()"
   ]
  },
  {
   "cell_type": "markdown",
   "metadata": {},
   "source": [
    "## Attribute doctor_profession"
   ]
  },
  {
   "cell_type": "code",
   "execution_count": 166,
   "metadata": {},
   "outputs": [
    {
     "data": {
      "text/plain": [
       "count     94939          \n",
       "unique    2164           \n",
       "top       Family Medicine\n",
       "freq      11289          \n",
       "Name: doctor_profession, dtype: object"
      ]
     },
     "execution_count": 166,
     "metadata": {},
     "output_type": "execute_result"
    }
   ],
   "source": [
    "data['doctor_profession'].describe()"
   ]
  },
  {
   "cell_type": "markdown",
   "metadata": {},
   "source": [
    "## Attribute subcategory"
   ]
  },
  {
   "cell_type": "code",
   "execution_count": 167,
   "metadata": {},
   "outputs": [
    {
     "data": {
      "text/plain": [
       "count     94939                \n",
       "unique    455                  \n",
       "top       take prenatal vitamin\n",
       "freq      1002                 \n",
       "Name: sub_category, dtype: object"
      ]
     },
     "execution_count": 167,
     "metadata": {},
     "output_type": "execute_result"
    }
   ],
   "source": [
    "data['sub_category'].describe()"
   ]
  },
  {
   "cell_type": "markdown",
   "metadata": {},
   "source": [
    "## Attribute answer - longest and shortest - what are the shortest"
   ]
  },
  {
   "cell_type": "code",
   "execution_count": 184,
   "metadata": {},
   "outputs": [
    {
     "name": "stdout",
     "output_type": "stream",
     "text": [
      "Length of longest and shortest answer: 3395, 1\n"
     ]
    }
   ],
   "source": [
    "measurer = np.vectorize(len)\n",
    "longest_answer_len = measurer(data['answer'].values.astype(str)).max(axis=0)\n",
    "shortest_answer_len = measurer(data['answer'].values.astype(str)).min(axis=0)\n",
    "\n",
    "print('Length of longest and shortest answer: ' + str(longest_answer_len) + ', ' + str(shortest_answer_len))"
   ]
  },
  {
   "cell_type": "code",
   "execution_count": 178,
   "metadata": {},
   "outputs": [
    {
     "data": {
      "text/html": [
       "<div>\n",
       "<style scoped>\n",
       "    .dataframe tbody tr th:only-of-type {\n",
       "        vertical-align: middle;\n",
       "    }\n",
       "\n",
       "    .dataframe tbody tr th {\n",
       "        vertical-align: top;\n",
       "    }\n",
       "\n",
       "    .dataframe thead th {\n",
       "        text-align: right;\n",
       "    }\n",
       "</style>\n",
       "<table border=\"1\" class=\"dataframe\">\n",
       "  <thead>\n",
       "    <tr style=\"text-align: right;\">\n",
       "      <th></th>\n",
       "      <th>main_category</th>\n",
       "      <th>question</th>\n",
       "      <th>question_url</th>\n",
       "      <th>related_topics</th>\n",
       "      <th>sub_category</th>\n",
       "      <th>doctor_name</th>\n",
       "      <th>doctor_profession</th>\n",
       "      <th>short_answer</th>\n",
       "      <th>answer</th>\n",
       "    </tr>\n",
       "  </thead>\n",
       "  <tbody>\n",
       "    <tr>\n",
       "      <th>59131</th>\n",
       "      <td>went er</td>\n",
       "      <td>My friends heart started hurting today and then he was tired and then passed out and went to the hospital what was wrong with him did he take a drug ?</td>\n",
       "      <td>/user_questions/543044-my-friends-heart-started-hurting-today-and-then-he-was-tired-and-then-passed-out-and-went-to-the-hos</td>\n",
       "      <td>['Passed out near me', 'Coughing until i pass out', 'Can you pass out from vertigo?', 'Hyperventilate pass out', 'Coughing till you pass out', 'Cardiac gastritis heart', 'Coughing until you pass out', 'Pass out from coughing', 'Passed out', 'How to make someone pass out?']</td>\n",
       "      <td>running fever yesterday</td>\n",
       "      <td>Dr. Michael Sparacino</td>\n",
       "      <td>Family Medicine</td>\n",
       "      <td>?</td>\n",
       "      <td>?</td>\n",
       "    </tr>\n",
       "    <tr>\n",
       "      <th>76881</th>\n",
       "      <td>bumps</td>\n",
       "      <td>What is this rash I have once sciatica started?</td>\n",
       "      <td>/user_questions/278233-what-is-this-rash-i-have-once-sciatica-started</td>\n",
       "      <td>['Injections for sciatica', 'Contact dermatitis rash on groin', 'How long does rash on back associated with contact dermatitis last?', 'How long does rash on groin associated with contact dermatitis last?', 'Allergic dermatitis rash', 'Dermatitis rash', 'Is rash on back a symptom of contact dermatitis?', 'Vitamins for sciatica', 'Contact dermatitis rash on abdomen', 'Is rash on groin a symptom of contact dermatitis?']</td>\n",
       "      <td>rash arm leg</td>\n",
       "      <td>Dr. Luis Villaplana</td>\n",
       "      <td>Internal Medicine</td>\n",
       "      <td>WHERE IS THE RASH?</td>\n",
       "      <td>?</td>\n",
       "    </tr>\n",
       "  </tbody>\n",
       "</table>\n",
       "</div>"
      ],
      "text/plain": [
       "      main_category  \\\n",
       "59131  went er        \n",
       "76881  bumps          \n",
       "\n",
       "                                                                                                                                                     question  \\\n",
       "59131  My friends heart started hurting today and then he was tired and then passed out and went to the hospital what was wrong with him did he take a drug ?   \n",
       "76881  What is this rash I have once sciatica started?                                                                                                          \n",
       "\n",
       "                                                                                                                      question_url  \\\n",
       "59131  /user_questions/543044-my-friends-heart-started-hurting-today-and-then-he-was-tired-and-then-passed-out-and-went-to-the-hos   \n",
       "76881  /user_questions/278233-what-is-this-rash-i-have-once-sciatica-started                                                         \n",
       "\n",
       "                                                                                                                                                                                                                                                                                                                                                                                                                              related_topics  \\\n",
       "59131  ['Passed out near me', 'Coughing until i pass out', 'Can you pass out from vertigo?', 'Hyperventilate pass out', 'Coughing till you pass out', 'Cardiac gastritis heart', 'Coughing until you pass out', 'Pass out from coughing', 'Passed out', 'How to make someone pass out?']                                                                                                                                                       \n",
       "76881  ['Injections for sciatica', 'Contact dermatitis rash on groin', 'How long does rash on back associated with contact dermatitis last?', 'How long does rash on groin associated with contact dermatitis last?', 'Allergic dermatitis rash', 'Dermatitis rash', 'Is rash on back a symptom of contact dermatitis?', 'Vitamins for sciatica', 'Contact dermatitis rash on abdomen', 'Is rash on groin a symptom of contact dermatitis?']   \n",
       "\n",
       "                  sub_category            doctor_name  doctor_profession  \\\n",
       "59131  running fever yesterday  Dr. Michael Sparacino  Family Medicine     \n",
       "76881  rash arm leg             Dr. Luis Villaplana    Internal Medicine   \n",
       "\n",
       "             short_answer answer  \n",
       "59131  ?                   ?      \n",
       "76881  WHERE IS THE RASH?  ?      "
      ]
     },
     "execution_count": 178,
     "metadata": {},
     "output_type": "execute_result"
    }
   ],
   "source": [
    "data[data.answer.str.len() == 1]"
   ]
  },
  {
   "cell_type": "code",
   "execution_count": null,
   "metadata": {},
   "outputs": [],
   "source": []
  }
 ],
 "metadata": {
  "colab": {
   "name": "MedicalChatbotData.ipynb",
   "provenance": []
  },
  "kernelspec": {
   "display_name": "Python 3",
   "language": "python",
   "name": "python3"
  },
  "language_info": {
   "codemirror_mode": {
    "name": "ipython",
    "version": 3
   },
   "file_extension": ".py",
   "mimetype": "text/x-python",
   "name": "python",
   "nbconvert_exporter": "python",
   "pygments_lexer": "ipython3",
   "version": "3.8.3"
  }
 },
 "nbformat": 4,
 "nbformat_minor": 1
}
