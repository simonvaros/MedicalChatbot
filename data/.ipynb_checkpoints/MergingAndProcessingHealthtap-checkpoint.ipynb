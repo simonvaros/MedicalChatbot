{
 "cells": [
  {
   "cell_type": "code",
   "execution_count": 1,
   "metadata": {},
   "outputs": [],
   "source": [
    "import pandas as pd\n",
    "import numpy as np\n",
    "import matplotlib\n",
    "import json\n",
    "from pandas import json_normalize\n",
    "from IPython.display import display"
   ]
  },
  {
   "cell_type": "code",
   "execution_count": 7,
   "metadata": {},
   "outputs": [],
   "source": [
    "data1 = pd.read_csv('../../data/3 parts/healthtap_1.csv', sep=',', index_col=0)\n",
    "data2 = pd.read_csv('../../data/3 parts/healthtap_2.csv', sep=',', index_col=0)\n",
    "data3 = pd.read_csv('../../data/3 parts/healthtap_3.csv', sep=',', index_col=0)"
   ]
  },
  {
   "cell_type": "code",
   "execution_count": 8,
   "metadata": {},
   "outputs": [
    {
     "name": "stdout",
     "output_type": "stream",
     "text": [
      "<class 'pandas.core.frame.DataFrame'>\n",
      "Int64Index: 500000 entries, 0 to 499999\n",
      "Data columns (total 7 columns):\n",
      " #   Column          Non-Null Count   Dtype \n",
      "---  ------          --------------   ----- \n",
      " 0   Unnamed: 0.1    500000 non-null  int64 \n",
      " 1   answers         500000 non-null  object\n",
      " 2   main_category   500000 non-null  object\n",
      " 3   question        500000 non-null  object\n",
      " 4   question_url    500000 non-null  object\n",
      " 5   related_topics  500000 non-null  object\n",
      " 6   sub_category    500000 non-null  object\n",
      "dtypes: int64(1), object(6)\n",
      "memory usage: 30.5+ MB\n"
     ]
    },
    {
     "data": {
      "text/plain": [
       "None"
      ]
     },
     "metadata": {},
     "output_type": "display_data"
    },
    {
     "name": "stdout",
     "output_type": "stream",
     "text": [
      "<class 'pandas.core.frame.DataFrame'>\n",
      "Int64Index: 500000 entries, 500000 to 999999\n",
      "Data columns (total 7 columns):\n",
      " #   Column          Non-Null Count   Dtype \n",
      "---  ------          --------------   ----- \n",
      " 0   Unnamed: 0.1    500000 non-null  int64 \n",
      " 1   answers         500000 non-null  object\n",
      " 2   main_category   500000 non-null  object\n",
      " 3   question        500000 non-null  object\n",
      " 4   question_url    500000 non-null  object\n",
      " 5   related_topics  500000 non-null  object\n",
      " 6   sub_category    500000 non-null  object\n",
      "dtypes: int64(1), object(6)\n",
      "memory usage: 30.5+ MB\n"
     ]
    },
    {
     "data": {
      "text/plain": [
       "None"
      ]
     },
     "metadata": {},
     "output_type": "display_data"
    },
    {
     "name": "stdout",
     "output_type": "stream",
     "text": [
      "<class 'pandas.core.frame.DataFrame'>\n",
      "Int64Index: 605229 entries, 1000000 to 1605228\n",
      "Data columns (total 7 columns):\n",
      " #   Column          Non-Null Count   Dtype \n",
      "---  ------          --------------   ----- \n",
      " 0   Unnamed: 0.1    605229 non-null  int64 \n",
      " 1   answers         604846 non-null  object\n",
      " 2   main_category   605229 non-null  object\n",
      " 3   question        605039 non-null  object\n",
      " 4   question_url    605228 non-null  object\n",
      " 5   related_topics  561874 non-null  object\n",
      " 6   sub_category    605228 non-null  object\n",
      "dtypes: int64(1), object(6)\n",
      "memory usage: 36.9+ MB\n"
     ]
    },
    {
     "data": {
      "text/plain": [
       "None"
      ]
     },
     "metadata": {},
     "output_type": "display_data"
    }
   ],
   "source": [
    "display(data1.info())\n",
    "display(data2.info())\n",
    "display(data3.info())"
   ]
  },
  {
   "cell_type": "code",
   "execution_count": 29,
   "metadata": {},
   "outputs": [],
   "source": [
    "data = pd.concat([data1, data2, data3])"
   ]
  },
  {
   "cell_type": "code",
   "execution_count": 30,
   "metadata": {},
   "outputs": [
    {
     "name": "stdout",
     "output_type": "stream",
     "text": [
      "<class 'pandas.core.frame.DataFrame'>\n",
      "Int64Index: 1605229 entries, 0 to 1605228\n",
      "Data columns (total 7 columns):\n",
      " #   Column          Non-Null Count    Dtype \n",
      "---  ------          --------------    ----- \n",
      " 0   Unnamed: 0.1    1605229 non-null  int64 \n",
      " 1   answers         1604846 non-null  object\n",
      " 2   main_category   1605229 non-null  object\n",
      " 3   question        1605039 non-null  object\n",
      " 4   question_url    1605228 non-null  object\n",
      " 5   related_topics  1561874 non-null  object\n",
      " 6   sub_category    1605228 non-null  object\n",
      "dtypes: int64(1), object(6)\n",
      "memory usage: 98.0+ MB\n"
     ]
    }
   ],
   "source": [
    "data.info()"
   ]
  },
  {
   "cell_type": "code",
   "execution_count": 31,
   "metadata": {},
   "outputs": [],
   "source": [
    "data = data[data.answers.notna()]"
   ]
  },
  {
   "cell_type": "code",
   "execution_count": 32,
   "metadata": {},
   "outputs": [
    {
     "name": "stdout",
     "output_type": "stream",
     "text": [
      "<class 'pandas.core.frame.DataFrame'>\n",
      "Int64Index: 1604846 entries, 0 to 1605228\n",
      "Data columns (total 7 columns):\n",
      " #   Column          Non-Null Count    Dtype \n",
      "---  ------          --------------    ----- \n",
      " 0   Unnamed: 0.1    1604846 non-null  int64 \n",
      " 1   answers         1604846 non-null  object\n",
      " 2   main_category   1604846 non-null  object\n",
      " 3   question        1604846 non-null  object\n",
      " 4   question_url    1604846 non-null  object\n",
      " 5   related_topics  1561874 non-null  object\n",
      " 6   sub_category    1604846 non-null  object\n",
      "dtypes: int64(1), object(6)\n",
      "memory usage: 98.0+ MB\n"
     ]
    }
   ],
   "source": [
    "data.info()"
   ]
  },
  {
   "cell_type": "code",
   "execution_count": 33,
   "metadata": {},
   "outputs": [
    {
     "data": {
      "text/plain": [
       "1604846"
      ]
     },
     "execution_count": 33,
     "metadata": {},
     "output_type": "execute_result"
    }
   ],
   "source": [
    "len(data.question_url.unique())"
   ]
  },
  {
   "cell_type": "code",
   "execution_count": 34,
   "metadata": {},
   "outputs": [],
   "source": [
    "data = data.drop(columns=['Unnamed: 0.1', 'question_url'])"
   ]
  },
  {
   "cell_type": "code",
   "execution_count": 35,
   "metadata": {},
   "outputs": [],
   "source": [
    "data.to_csv('../../data/healthtap_full.csv')"
   ]
  },
  {
   "cell_type": "code",
   "execution_count": null,
   "metadata": {},
   "outputs": [],
   "source": []
  }
 ],
 "metadata": {
  "kernelspec": {
   "display_name": "Python 3",
   "language": "python",
   "name": "python3"
  },
  "language_info": {
   "codemirror_mode": {
    "name": "ipython",
    "version": 3
   },
   "file_extension": ".py",
   "mimetype": "text/x-python",
   "name": "python",
   "nbconvert_exporter": "python",
   "pygments_lexer": "ipython3",
   "version": "3.8.3"
  }
 },
 "nbformat": 4,
 "nbformat_minor": 4
}
