{
 "cells": [
  {
   "cell_type": "code",
   "execution_count": 1,
   "metadata": {},
   "outputs": [],
   "source": [
    "import pandas as pd\n",
    "import numpy as np\n",
    "import matplotlib\n",
    "import json\n",
    "from pandas import json_normalize\n",
    "from IPython.display import display"
   ]
  },
  {
   "cell_type": "code",
   "execution_count": 4,
   "metadata": {},
   "outputs": [],
   "source": [
    "data = pd.read_csv('../../data/healthtap_short_sample.csv', index_col=0)"
   ]
  },
  {
   "cell_type": "code",
   "execution_count": 6,
   "metadata": {},
   "outputs": [
    {
     "data": {
      "text/html": [
       "<div>\n",
       "<style scoped>\n",
       "    .dataframe tbody tr th:only-of-type {\n",
       "        vertical-align: middle;\n",
       "    }\n",
       "\n",
       "    .dataframe tbody tr th {\n",
       "        vertical-align: top;\n",
       "    }\n",
       "\n",
       "    .dataframe thead th {\n",
       "        text-align: right;\n",
       "    }\n",
       "</style>\n",
       "<table border=\"1\" class=\"dataframe\">\n",
       "  <thead>\n",
       "    <tr style=\"text-align: right;\">\n",
       "      <th></th>\n",
       "      <th>short_answer</th>\n",
       "      <th>answer</th>\n",
       "      <th>main_category</th>\n",
       "      <th>question</th>\n",
       "      <th>related_topics</th>\n",
       "      <th>sub_category</th>\n",
       "    </tr>\n",
       "  </thead>\n",
       "  <tbody>\n",
       "    <tr>\n",
       "      <th>1354503</th>\n",
       "      <td>NaN</td>\n",
       "      <td>See your doctor. I recommend going to your doc...</td>\n",
       "      <td>burning sensation</td>\n",
       "      <td>Why my inside stomach and sides itch feelling ...</td>\n",
       "      <td>['Burning feeling in the upper abdomen', 'Itch...</td>\n",
       "      <td>burning sensation breast</td>\n",
       "    </tr>\n",
       "    <tr>\n",
       "      <th>2181719</th>\n",
       "      <td>NaN</td>\n",
       "      <td>No. Glaucoma is generally a disease of aging. ...</td>\n",
       "      <td>gender</td>\n",
       "      <td>Is glaucoma common in young women?</td>\n",
       "      <td>['Glaucoma', 'Female health']</td>\n",
       "      <td>teen young adult</td>\n",
       "    </tr>\n",
       "    <tr>\n",
       "      <th>1903046</th>\n",
       "      <td>Unlikely</td>\n",
       "      <td>Ventriculomegaly without hydrocephalus is asso...</td>\n",
       "      <td>child</td>\n",
       "      <td>I have a 2 year old daughter who was diagnosed...</td>\n",
       "      <td>['Delsym for 2 year old', 'Two year old sweati...</td>\n",
       "      <td>grandson ebsteins anomaly</td>\n",
       "    </tr>\n",
       "    <tr>\n",
       "      <th>132377</th>\n",
       "      <td>NaN</td>\n",
       "      <td>Yes - oral sex. One of the most common sexuall...</td>\n",
       "      <td>cold</td>\n",
       "      <td>Can sex cause cold sores?</td>\n",
       "      <td>['Std', 'Herpes', 'Cold sore', 'Sexually trans...</td>\n",
       "      <td>sore cold</td>\n",
       "    </tr>\n",
       "    <tr>\n",
       "      <th>367237</th>\n",
       "      <td>Yes</td>\n",
       "      <td>yes I would consult a neurologist.</td>\n",
       "      <td>brain tumor</td>\n",
       "      <td>My brain MRI showed multiple T2/flair hyperint...</td>\n",
       "      <td>['Magnetic resonance imaging mri side effects'...</td>\n",
       "      <td>brain mri</td>\n",
       "    </tr>\n",
       "  </tbody>\n",
       "</table>\n",
       "</div>"
      ],
      "text/plain": [
       "        short_answer                                             answer  \\\n",
       "1354503          NaN  See your doctor. I recommend going to your doc...   \n",
       "2181719          NaN  No. Glaucoma is generally a disease of aging. ...   \n",
       "1903046     Unlikely  Ventriculomegaly without hydrocephalus is asso...   \n",
       "132377           NaN  Yes - oral sex. One of the most common sexuall...   \n",
       "367237           Yes                 yes I would consult a neurologist.   \n",
       "\n",
       "             main_category                                           question  \\\n",
       "1354503  burning sensation  Why my inside stomach and sides itch feelling ...   \n",
       "2181719             gender                 Is glaucoma common in young women?   \n",
       "1903046              child  I have a 2 year old daughter who was diagnosed...   \n",
       "132377                cold                          Can sex cause cold sores?   \n",
       "367237         brain tumor  My brain MRI showed multiple T2/flair hyperint...   \n",
       "\n",
       "                                            related_topics  \\\n",
       "1354503  ['Burning feeling in the upper abdomen', 'Itch...   \n",
       "2181719                      ['Glaucoma', 'Female health']   \n",
       "1903046  ['Delsym for 2 year old', 'Two year old sweati...   \n",
       "132377   ['Std', 'Herpes', 'Cold sore', 'Sexually trans...   \n",
       "367237   ['Magnetic resonance imaging mri side effects'...   \n",
       "\n",
       "                      sub_category  \n",
       "1354503   burning sensation breast  \n",
       "2181719           teen young adult  \n",
       "1903046  grandson ebsteins anomaly  \n",
       "132377                   sore cold  \n",
       "367237                   brain mri  "
      ]
     },
     "execution_count": 6,
     "metadata": {},
     "output_type": "execute_result"
    }
   ],
   "source": [
    "data.head()"
   ]
  },
  {
   "cell_type": "code",
   "execution_count": null,
   "metadata": {},
   "outputs": [],
   "source": []
  }
 ],
 "metadata": {
  "kernelspec": {
   "display_name": "Python 3",
   "language": "python",
   "name": "python3"
  },
  "language_info": {
   "codemirror_mode": {
    "name": "ipython",
    "version": 3
   },
   "file_extension": ".py",
   "mimetype": "text/x-python",
   "name": "python",
   "nbconvert_exporter": "python",
   "pygments_lexer": "ipython3",
   "version": "3.8.3"
  }
 },
 "nbformat": 4,
 "nbformat_minor": 4
}
