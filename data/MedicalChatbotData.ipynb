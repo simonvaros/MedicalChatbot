{
  "nbformat": 4,
  "nbformat_minor": 0,
  "metadata": {
    "colab": {
      "name": "MedicalChatbotData.ipynb",
      "provenance": []
    },
    "kernelspec": {
      "name": "python3",
      "display_name": "Python 3"
    }
  },
  "cells": [
    {
      "cell_type": "markdown",
      "metadata": {
        "id": "iltjzM3EWE51"
      },
      "source": [
        "# QnA Data"
      ]
    },
    {
      "cell_type": "code",
      "metadata": {
        "id": "n2tFRjfASKFf"
      },
      "source": [
        ""
      ],
      "execution_count": null,
      "outputs": []
    }
  ]
}