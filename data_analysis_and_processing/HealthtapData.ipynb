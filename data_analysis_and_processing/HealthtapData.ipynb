{
 "cells": [
  {
   "cell_type": "code",
   "execution_count": 1,
   "metadata": {},
   "outputs": [],
   "source": [
    "import pandas as pd\n",
    "import numpy as np\n",
    "import matplotlib\n",
    "import json\n",
    "from pandas import json_normalize\n",
    "from IPython.display import display\n",
    "import re"
   ]
  },
  {
   "cell_type": "markdown",
   "metadata": {},
   "source": [
    "### Loading the data"
   ]
  },
  {
   "cell_type": "code",
   "execution_count": 2,
   "metadata": {},
   "outputs": [],
   "source": [
    "data = pd.read_csv('../../data/healthtap_full_processed.csv')"
   ]
  },
  {
   "cell_type": "code",
   "execution_count": 3,
   "metadata": {},
   "outputs": [],
   "source": [
    "data = data.drop(columns=['Unnamed: 0'])"
   ]
  },
  {
   "cell_type": "code",
   "execution_count": 4,
   "metadata": {},
   "outputs": [
    {
     "name": "stdout",
     "output_type": "stream",
     "text": [
      "<class 'pandas.core.frame.DataFrame'>\n",
      "RangeIndex: 2287925 entries, 0 to 2287924\n",
      "Data columns (total 8 columns):\n",
      " #   Column             Dtype \n",
      "---  ------             ----- \n",
      " 0   doctor_name        object\n",
      " 1   doctor_profession  object\n",
      " 2   short_answer       object\n",
      " 3   answer             object\n",
      " 4   main_category      object\n",
      " 5   question           object\n",
      " 6   related_topics     object\n",
      " 7   sub_category       object\n",
      "dtypes: object(8)\n",
      "memory usage: 139.6+ MB\n"
     ]
    }
   ],
   "source": [
    "data.info()"
   ]
  },
  {
   "cell_type": "markdown",
   "metadata": {},
   "source": [
    "### Main category"
   ]
  },
  {
   "cell_type": "code",
   "execution_count": 5,
   "metadata": {},
   "outputs": [
    {
     "data": {
      "text/plain": [
       "count     2287925\n",
       "unique        227\n",
       "top         drugs\n",
       "freq       120024\n",
       "Name: main_category, dtype: object"
      ]
     },
     "execution_count": 5,
     "metadata": {},
     "output_type": "execute_result"
    }
   ],
   "source": [
    "data['main_category'].describe()"
   ]
  },
  {
   "cell_type": "markdown",
   "metadata": {},
   "source": [
    "### Histogram of top categories (count more than 10 000)"
   ]
  },
  {
   "cell_type": "code",
   "execution_count": 6,
   "metadata": {},
   "outputs": [
    {
     "data": {
      "text/plain": [
       "<AxesSubplot:>"
      ]
     },
     "execution_count": 6,
     "metadata": {},
     "output_type": "execute_result"
    },
    {
     "data": {
      "image/png": "[encoded data removed]",
      "text/plain": [
       "<Figure size 720x720 with 1 Axes>"
      ]
     },
     "metadata": {
      "needs_background": "light"
     },
     "output_type": "display_data"
    }
   ],
   "source": [
    "data['main_category'].value_counts().nlargest(30).plot(kind=\"bar\", figsize=(10,10))"
   ]
  },
  {
   "cell_type": "markdown",
   "metadata": {},
   "source": [
    "### Other columns"
   ]
  },
  {
   "cell_type": "code",
   "execution_count": 7,
   "metadata": {},
   "outputs": [],
   "source": [
    "def clean_doctor(text):\n",
    "    if (type(text) is float):\n",
    "        return text\n",
    "    \n",
    "    text = re.sub('  Answered .*', '', text)\n",
    "    \n",
    "    return text"
   ]
  },
  {
   "cell_type": "code",
   "execution_count": 8,
   "metadata": {},
   "outputs": [],
   "source": [
    "data['doctor_name'] = data.apply(lambda x: clean_doctor(x['doctor_name']), axis=1)"
   ]
  },
  {
   "cell_type": "code",
   "execution_count": 9,
   "metadata": {},
   "outputs": [
    {
     "data": {
      "text/plain": [
       "count              2287925\n",
       "unique               25889\n",
       "top       Dr. Heidi Fowler\n",
       "freq                 72068\n",
       "Name: doctor_name, dtype: object"
      ]
     },
     "execution_count": 9,
     "metadata": {},
     "output_type": "execute_result"
    }
   ],
   "source": [
    "data['doctor_name'].describe()"
   ]
  },
  {
   "cell_type": "code",
   "execution_count": 10,
   "metadata": {},
   "outputs": [
    {
     "data": {
      "text/plain": [
       "Dr. Heidi Fowler       72068\n",
       "Dr. James Ferguson     28452\n",
       "Dr. Ed Friedlander     24208\n",
       "Dr. Robert Killian     24152\n",
       "Dr. Jeff Livingston    21667\n",
       "                       ...  \n",
       "Dr Daniel Dorfman          1\n",
       "Dr Wilbur Howard           1\n",
       "Dr James Matera            1\n",
       "Dr Lauren Gerson           1\n",
       "Dr. Paula Young            1\n",
       "Name: doctor_name, Length: 25889, dtype: int64"
      ]
     },
     "execution_count": 10,
     "metadata": {},
     "output_type": "execute_result"
    }
   ],
   "source": [
    "data.doctor_name.value_counts()"
   ]
  },
  {
   "cell_type": "code",
   "execution_count": 11,
   "metadata": {},
   "outputs": [],
   "source": [
    "def clean_profession(text):\n",
    "    if (type(text) is float):\n",
    "        return text\n",
    "    \n",
    "    text = re.sub('^.* Answered .* 20[01]{1}[0-9]{1}  ', '', text)\n",
    "    \n",
    "    if (re.search('^.* Answered .* 20[01]{1}[0-9]{1}', text)):\n",
    "        return 'unknown'\n",
    "    \n",
    "    if (re.search('^.* Respondida ', text)):\n",
    "        return 'unknown'\n",
    "    \n",
    "    return text"
   ]
  },
  {
   "cell_type": "code",
   "execution_count": 12,
   "metadata": {},
   "outputs": [],
   "source": [
    "data['doctor_profession'] = data.apply(lambda x: clean_profession(x['doctor_profession']), axis=1)"
   ]
  },
  {
   "cell_type": "code",
   "execution_count": 13,
   "metadata": {},
   "outputs": [
    {
     "data": {
      "text/plain": [
       "count             2283931\n",
       "unique                147\n",
       "top       Family Medicine\n",
       "freq               233594\n",
       "Name: doctor_profession, dtype: object"
      ]
     },
     "execution_count": 13,
     "metadata": {},
     "output_type": "execute_result"
    }
   ],
   "source": [
    "data['doctor_profession'].describe()"
   ]
  },
  {
   "cell_type": "code",
   "execution_count": 14,
   "metadata": {},
   "outputs": [
    {
     "data": {
      "text/plain": [
       "Family Medicine                  233594\n",
       "Internal Medicine                176710\n",
       "Pediatrics                       169205\n",
       "Psychiatry                       150722\n",
       "Obstetrics & Gynecology          132882\n",
       "                                  ...  \n",
       "Gastroenterology & Hepatology         1\n",
       "General Surgery                       1\n",
       "Paediatrics                           1\n",
       "Transfusion Medicine                  1\n",
       "Respiratory Medicine                  1\n",
       "Name: doctor_profession, Length: 147, dtype: int64"
      ]
     },
     "execution_count": 14,
     "metadata": {},
     "output_type": "execute_result"
    }
   ],
   "source": [
    "data.doctor_profession.value_counts()"
   ]
  },
  {
   "cell_type": "code",
   "execution_count": 15,
   "metadata": {},
   "outputs": [
    {
     "data": {
      "text/plain": [
       "<AxesSubplot:>"
      ]
     },
     "execution_count": 15,
     "metadata": {},
     "output_type": "execute_result"
    },
    {
     "data": {
      "image/png": "[encoded data removed]",
      "text/plain": [
       "<Figure size 720x720 with 1 Axes>"
      ]
     },
     "metadata": {
      "needs_background": "light"
     },
     "output_type": "display_data"
    }
   ],
   "source": [
    "data['doctor_profession'].value_counts().nlargest(10).plot(kind=\"bar\", figsize=(10,10))"
   ]
  },
  {
   "cell_type": "code",
   "execution_count": 16,
   "metadata": {},
   "outputs": [
    {
     "data": {
      "text/plain": [
       "count                 2287925\n",
       "unique                   5048\n",
       "top       high blood pressure\n",
       "freq                    12092\n",
       "Name: sub_category, dtype: object"
      ]
     },
     "execution_count": 16,
     "metadata": {},
     "output_type": "execute_result"
    }
   ],
   "source": [
    "data['sub_category'].describe()"
   ]
  },
  {
   "cell_type": "markdown",
   "metadata": {},
   "source": [
    "### Count number of words in questions and answers and assign it to new columns"
   ]
  },
  {
   "cell_type": "code",
   "execution_count": 17,
   "metadata": {},
   "outputs": [],
   "source": [
    "data['question_len'] = data['question'].str.split().apply(len)\n",
    "data['answer_len'] = data['answer'].str.split().apply(len)"
   ]
  },
  {
   "cell_type": "code",
   "execution_count": 18,
   "metadata": {},
   "outputs": [
    {
     "data": {
      "text/plain": [
       "count   2287925.000000\n",
       "mean         18.562765\n",
       "std           9.430023\n",
       "min           1.000000\n",
       "25%          10.000000\n",
       "50%          17.000000\n",
       "75%          26.000000\n",
       "max          65.000000\n",
       "Name: question_len, dtype: float64"
      ]
     },
     "metadata": {},
     "output_type": "display_data"
    },
    {
     "data": {
      "text/plain": [
       "count   2287925.000000\n",
       "mean         40.386308\n",
       "std          22.666927\n",
       "min           1.000000\n",
       "25%          22.000000\n",
       "50%          39.000000\n",
       "75%          58.000000\n",
       "max        1819.000000\n",
       "Name: answer_len, dtype: float64"
      ]
     },
     "metadata": {},
     "output_type": "display_data"
    }
   ],
   "source": [
    "pd.set_option('float_format', '{:f}'.format)\n",
    "display(data['question_len'].describe())\n",
    "display(data['answer_len'].describe())"
   ]
  },
  {
   "cell_type": "code",
   "execution_count": 19,
   "metadata": {},
   "outputs": [],
   "source": [
    "question_quantile = data['question_len'].quantile(0.95)\n",
    "answer_quantile = data['answer_len'].quantile(0.95)\n",
    "\n",
    "data = data[data['question_len'] < question_quantile]\n",
    "data = data[data['answer_len'] < answer_quantile]\n"
   ]
  },
  {
   "cell_type": "markdown",
   "metadata": {},
   "source": [
    "### Question length diagram"
   ]
  },
  {
   "cell_type": "code",
   "execution_count": 20,
   "metadata": {},
   "outputs": [
    {
     "data": {
      "image/png": "[encoded data removed]",
      "text/plain": [
       "<Figure size 360x720 with 1 Axes>"
      ]
     },
     "metadata": {},
     "output_type": "display_data"
    }
   ],
   "source": [
    "import seaborn as sns\n",
    "sns.set_theme(style=\"whitegrid\")\n",
    "plt = sns.boxplot(y=data[\"question_len\"])\n",
    "plt.figure.set_size_inches(5,10)\n"
   ]
  },
  {
   "cell_type": "code",
   "execution_count": 24,
   "metadata": {},
   "outputs": [
    {
     "data": {
      "text/plain": [
       "<AxesSubplot:>"
      ]
     },
     "execution_count": 24,
     "metadata": {},
     "output_type": "execute_result"
    },
    {
     "data": {
      "image/png": "[encoded data removed]",
      "text/plain": [
       "<Figure size 1080x720 with 1 Axes>"
      ]
     },
     "metadata": {},
     "output_type": "display_data"
    }
   ],
   "source": [
    "data['question_len_group'] = pd.cut(data['question_len'], bins=10, precision=0)\n",
    "pd.value_counts(data['question_len']).sort_index().plot(kind=\"bar\", figsize=(15,10), rot=0)"
   ]
  },
  {
   "cell_type": "code",
   "execution_count": 23,
   "metadata": {},
   "outputs": [
    {
     "data": {
      "text/plain": [
       "1          1\n",
       "2         13\n",
       "3       7066\n",
       "4      18940\n",
       "5      36984\n",
       "6      66175\n",
       "7      91819\n",
       "8     111499\n",
       "9     119929\n",
       "10    114741\n",
       "11    105118\n",
       "12     95707\n",
       "13     84336\n",
       "14     74620\n",
       "15     65937\n",
       "16     59660\n",
       "17     54658\n",
       "18     51866\n",
       "19     50151\n",
       "20     50482\n",
       "21     51958\n",
       "22     56411\n",
       "23     62488\n",
       "24     69392\n",
       "25     77389\n",
       "26     84515\n",
       "27     87762\n",
       "28     86555\n",
       "29     79183\n",
       "30     66909\n",
       "31     50690\n",
       "Name: question_len, dtype: int64"
      ]
     },
     "execution_count": 23,
     "metadata": {},
     "output_type": "execute_result"
    }
   ],
   "source": [
    "pd.value_counts(data['question_len']).sort_index()"
   ]
  },
  {
   "cell_type": "code",
   "execution_count": 29,
   "metadata": {},
   "outputs": [
    {
     "data": {
      "image/png": "[encoded data removed]",
      "text/plain": [
       "<Figure size 1080x720 with 1 Axes>"
      ]
     },
     "metadata": {
      "needs_background": "light"
     },
     "output_type": "display_data"
    }
   ],
   "source": [
    "import matplotlib.pyplot as plt\n",
    "\n",
    "ax = pd.value_counts(data['question_len_group']).plot(kind=\"bar\", figsize=(15,10), rot=0, color=\"lightgray\")\n",
    "# Specify background color for the axis/plot\n",
    "ax.xaxis.label.set_color('white')\n",
    "\n",
    "ax.set_facecolor(\"#0A506E\")\n"
   ]
  },
  {
   "cell_type": "markdown",
   "metadata": {},
   "source": [
    "### Answer length diagram\n",
    "We can observe that most answers have less than 100 words. We adjust the bin intervals according to this."
   ]
  },
  {
   "cell_type": "code",
   "execution_count": 107,
   "metadata": {},
   "outputs": [
    {
     "data": {
      "image/png": "[encoded data removed]",
      "text/plain": [
       "<Figure size 360x720 with 1 Axes>"
      ]
     },
     "metadata": {},
     "output_type": "display_data"
    }
   ],
   "source": [
    "plt = sns.boxplot(y=data[\"answer_len\"])\n",
    "plt.figure.set_size_inches(5,10)"
   ]
  },
  {
   "cell_type": "code",
   "execution_count": 25,
   "metadata": {},
   "outputs": [
    {
     "data": {
      "text/plain": [
       "<AxesSubplot:>"
      ]
     },
     "execution_count": 25,
     "metadata": {},
     "output_type": "execute_result"
    },
    {
     "data": {
      "image/png": "[encoded data removed]",
      "text/plain": [
       "<Figure size 1080x720 with 1 Axes>"
      ]
     },
     "metadata": {},
     "output_type": "display_data"
    }
   ],
   "source": [
    "data['answer_len_group'] = pd.cut(data['answer_len'], bins=10, precision=0)\n",
    "pd.value_counts(data['answer_len']).sort_index().plot(kind=\"bar\", figsize=(15,10), rot=0)"
   ]
  },
  {
   "cell_type": "code",
   "execution_count": 15,
   "metadata": {},
   "outputs": [
    {
     "data": {
      "text/plain": [
       "9611"
      ]
     },
     "execution_count": 15,
     "metadata": {},
     "output_type": "execute_result"
    }
   ],
   "source": [
    "len(data[data['answer_len'] > 100])"
   ]
  },
  {
   "cell_type": "code",
   "execution_count": 16,
   "metadata": {},
   "outputs": [
    {
     "data": {
      "text/plain": [
       "<AxesSubplot:>"
      ]
     },
     "execution_count": 16,
     "metadata": {},
     "output_type": "execute_result"
    },
    {
     "data": {
      "image/png": "[encoded data removed]",
      "text/plain": [
       "<Figure size 1080x720 with 1 Axes>"
      ]
     },
     "metadata": {
      "needs_background": "light"
     },
     "output_type": "display_data"
    }
   ],
   "source": [
    "bins = [0, 10, 20, 30, 40, 50, 60, 70, 80, 90, 100, 10000]\n",
    "data['answer_len_group'] = pd.cut(data['answer_len'], bins=bins, precision=0)\n",
    "pd.value_counts(data['answer_len_group']).plot(kind=\"bar\", figsize=(15,10), rot=0)"
   ]
  },
  {
   "cell_type": "markdown",
   "metadata": {},
   "source": [
    "### Word frequency in questions and answers"
   ]
  },
  {
   "cell_type": "code",
   "execution_count": 17,
   "metadata": {},
   "outputs": [
    {
     "ename": "KeyboardInterrupt",
     "evalue": "",
     "output_type": "error",
     "traceback": [
      "\u001b[0;31m---------------------------------------------------------------------------\u001b[0m",
      "\u001b[0;31mKeyboardInterrupt\u001b[0m                         Traceback (most recent call last)",
      "\u001b[0;32m<ipython-input-17-dd90cda7fba8>\u001b[0m in \u001b[0;36m<module>\u001b[0;34m\u001b[0m\n\u001b[0;32m----> 1\u001b[0;31m \u001b[0mdata\u001b[0m\u001b[0;34m.\u001b[0m\u001b[0mquestion\u001b[0m\u001b[0;34m.\u001b[0m\u001b[0mstr\u001b[0m\u001b[0;34m.\u001b[0m\u001b[0msplit\u001b[0m\u001b[0;34m(\u001b[0m\u001b[0mexpand\u001b[0m\u001b[0;34m=\u001b[0m\u001b[0;32mTrue\u001b[0m\u001b[0;34m)\u001b[0m\u001b[0;34m.\u001b[0m\u001b[0mstack\u001b[0m\u001b[0;34m(\u001b[0m\u001b[0;34m)\u001b[0m\u001b[0;34m.\u001b[0m\u001b[0mvalue_counts\u001b[0m\u001b[0;34m(\u001b[0m\u001b[0;34m)\u001b[0m\u001b[0;34m[\u001b[0m\u001b[0;34m:\u001b[0m\u001b[0;36m50\u001b[0m\u001b[0;34m]\u001b[0m\u001b[0;34m.\u001b[0m\u001b[0mplot\u001b[0m\u001b[0;34m(\u001b[0m\u001b[0mkind\u001b[0m\u001b[0;34m=\u001b[0m\u001b[0;34m\"bar\"\u001b[0m\u001b[0;34m,\u001b[0m \u001b[0mfigsize\u001b[0m\u001b[0;34m=\u001b[0m\u001b[0;34m(\u001b[0m\u001b[0;36m15\u001b[0m\u001b[0;34m,\u001b[0m\u001b[0;36m10\u001b[0m\u001b[0;34m)\u001b[0m\u001b[0;34m)\u001b[0m\u001b[0;34m\u001b[0m\u001b[0;34m\u001b[0m\u001b[0m\n\u001b[0m",
      "\u001b[0;32m~/opt/miniconda3/lib/python3.8/site-packages/pandas/core/frame.py\u001b[0m in \u001b[0;36mstack\u001b[0;34m(self, level, dropna)\u001b[0m\n\u001b[1;32m   6999\u001b[0m             \u001b[0;32mreturn\u001b[0m \u001b[0mstack_multiple\u001b[0m\u001b[0;34m(\u001b[0m\u001b[0mself\u001b[0m\u001b[0;34m,\u001b[0m \u001b[0mlevel\u001b[0m\u001b[0;34m,\u001b[0m \u001b[0mdropna\u001b[0m\u001b[0;34m=\u001b[0m\u001b[0mdropna\u001b[0m\u001b[0;34m)\u001b[0m\u001b[0;34m\u001b[0m\u001b[0;34m\u001b[0m\u001b[0m\n\u001b[1;32m   7000\u001b[0m         \u001b[0;32melse\u001b[0m\u001b[0;34m:\u001b[0m\u001b[0;34m\u001b[0m\u001b[0;34m\u001b[0m\u001b[0m\n\u001b[0;32m-> 7001\u001b[0;31m             \u001b[0;32mreturn\u001b[0m \u001b[0mstack\u001b[0m\u001b[0;34m(\u001b[0m\u001b[0mself\u001b[0m\u001b[0;34m,\u001b[0m \u001b[0mlevel\u001b[0m\u001b[0;34m,\u001b[0m \u001b[0mdropna\u001b[0m\u001b[0;34m=\u001b[0m\u001b[0mdropna\u001b[0m\u001b[0;34m)\u001b[0m\u001b[0;34m\u001b[0m\u001b[0;34m\u001b[0m\u001b[0m\n\u001b[0m\u001b[1;32m   7002\u001b[0m \u001b[0;34m\u001b[0m\u001b[0m\n\u001b[1;32m   7003\u001b[0m     def explode(\n",
      "\u001b[0;32m~/opt/miniconda3/lib/python3.8/site-packages/pandas/core/reshape/reshape.py\u001b[0m in \u001b[0;36mstack\u001b[0;34m(frame, level, dropna)\u001b[0m\n\u001b[1;32m    530\u001b[0m         \u001b[0;32melse\u001b[0m\u001b[0;34m:\u001b[0m\u001b[0;34m\u001b[0m\u001b[0;34m\u001b[0m\u001b[0m\n\u001b[1;32m    531\u001b[0m             \u001b[0;31m# homogeneous, non-EA\u001b[0m\u001b[0;34m\u001b[0m\u001b[0;34m\u001b[0m\u001b[0;34m\u001b[0m\u001b[0m\n\u001b[0;32m--> 532\u001b[0;31m             \u001b[0mnew_values\u001b[0m \u001b[0;34m=\u001b[0m \u001b[0mframe\u001b[0m\u001b[0;34m.\u001b[0m\u001b[0m_values\u001b[0m\u001b[0;34m.\u001b[0m\u001b[0mravel\u001b[0m\u001b[0;34m(\u001b[0m\u001b[0;34m)\u001b[0m\u001b[0;34m\u001b[0m\u001b[0;34m\u001b[0m\u001b[0m\n\u001b[0m\u001b[1;32m    533\u001b[0m \u001b[0;34m\u001b[0m\u001b[0m\n\u001b[1;32m    534\u001b[0m     \u001b[0;32melse\u001b[0m\u001b[0;34m:\u001b[0m\u001b[0;34m\u001b[0m\u001b[0;34m\u001b[0m\u001b[0m\n",
      "\u001b[0;31mKeyboardInterrupt\u001b[0m: "
     ]
    }
   ],
   "source": [
    "data.question.str.split(expand=True).stack().value_counts()[:50].plot(kind=\"bar\", figsize=(15,10))"
   ]
  },
  {
   "cell_type": "code",
   "execution_count": null,
   "metadata": {},
   "outputs": [],
   "source": [
    "data.sample(n=10000).answer.str.split(expand=True).stack().value_counts()[:50].plot(kind=\"bar\", figsize=(15,10))"
   ]
  },
  {
   "cell_type": "code",
   "execution_count": 18,
   "metadata": {},
   "outputs": [
    {
     "data": {
      "text/html": [
       "<div>\n",
       "<style scoped>\n",
       "    .dataframe tbody tr th:only-of-type {\n",
       "        vertical-align: middle;\n",
       "    }\n",
       "\n",
       "    .dataframe tbody tr th {\n",
       "        vertical-align: top;\n",
       "    }\n",
       "\n",
       "    .dataframe thead th {\n",
       "        text-align: right;\n",
       "    }\n",
       "</style>\n",
       "<table border=\"1\" class=\"dataframe\">\n",
       "  <thead>\n",
       "    <tr style=\"text-align: right;\">\n",
       "      <th></th>\n",
       "      <th>question</th>\n",
       "      <th>answer</th>\n",
       "    </tr>\n",
       "  </thead>\n",
       "  <tbody>\n",
       "    <tr>\n",
       "      <th>1860619</th>\n",
       "      <td>Is over-the-counter glycolic acid cream, let's say 10%, as powerful as 0.05% Tretinoin for minor lines on face?</td>\n",
       "      <td>Comparing medicines. unfortunately it's not like comparing apples to apples. The concentrations of two different medicines don't always have the same effect. The vehicle or the purity may affect how \"strong\" it is. Tretinoin tends to be more effective but for mild rytids (wrinkles) the glycolic acid may work well.</td>\n",
       "    </tr>\n",
       "    <tr>\n",
       "      <th>2071665</th>\n",
       "      <td>Male 55 been on 325 aspirin daily for years for primary prevention. Want to reduce to 81 as I understand that is optimal dose. Is it safe to do so?</td>\n",
       "      <td>Discuss with MD? I think the key question is  -have you had a coronary event?  If so I would NOT decrease aspirin.  data for PRIMARY prevention is a little less compelling.  81mg would be sufficient to achieve your goals with less risk of ulcer if you are dedicated to doing this without any personal history of event.  Note that aspirin may have more compelling preventive effectiveness for colon cancer.  Be well.</td>\n",
       "    </tr>\n",
       "    <tr>\n",
       "      <th>1110723</th>\n",
       "      <td>Is there any chance of pregnancy after IVF failure .... Or missing of periods could be side effect of the IVF ...</td>\n",
       "      <td>But if it failed then you cannot be pregnant, it depends how many periods you have missed but this can be worked up.</td>\n",
       "    </tr>\n",
       "    <tr>\n",
       "      <th>2169799</th>\n",
       "      <td>Is it rare for a yeast infection to kill someone if they had it for a long time?</td>\n",
       "      <td>I know of no situation where a yeast infection led to the death of anyone.</td>\n",
       "    </tr>\n",
       "    <tr>\n",
       "      <th>249172</th>\n",
       "      <td>What is the treatment for chf?</td>\n",
       "      <td>Treatment depends on what the cause of the CHF is. Could be surgical, could be medical. Systolic CHF is different from diastolic CHF and valvar stenosis CHF is different from valvar insufficiency chf.  Virtually all kinds have diuretic as part of the treatment.</td>\n",
       "    </tr>\n",
       "    <tr>\n",
       "      <th>1229868</th>\n",
       "      <td>Does claritan make children hyper?</td>\n",
       "      <td>It's unusual, but... It does happen. Typically, non-sedating antihistamines are well tolerated by children, and the more common side effect is modest sedation. That being said, I have cared for a few kids through the years who have had atypical responses to claritin-like medications. I wonder if tour child has the same response to Diphenhydramine (aka, benadryl).</td>\n",
       "    </tr>\n",
       "    <tr>\n",
       "      <th>2173871</th>\n",
       "      <td>Had a volvulus in colon and had more than 8inches removed in emer surg 2yrs ago continue to have pain and  discomfort same area?Can it happen again? Am i more at risk b/c i already had this once?</td>\n",
       "      <td>Had a cecal volvulus, correct?  If so, recurrence is unlikely, b/c surgeon prob did ileocecectomy. Pain in the area is no unusual, but you should get ct scan just to make sure there is no adhesive obstruction, especially closed loop obstruction, in the area.  You need to see a GI surgeon if pain persists.</td>\n",
       "    </tr>\n",
       "    <tr>\n",
       "      <th>1226686</th>\n",
       "      <td>My grandma has a mouth sore inside her cheeks, it is round &amp; pinkish white in color, shes taking up anti fungal meds and cream and it doesn't work.</td>\n",
       "      <td>Have this examined and diagnosed and treated appropriately. Without seeing it there is no way a doctor could guess at this.</td>\n",
       "    </tr>\n",
       "    <tr>\n",
       "      <th>2160035</th>\n",
       "      <td>What are some things I can do to prevent yeast infections I seem to get them a lot?</td>\n",
       "      <td>Probiotics contain good bacteria that helps keep vaginal pH in balance. Lactobacilli is a type of probiotic which has been shown to be helpful in reducing yeast infections. You can use a commercially available probiotic brand with 10-20 billion live cultures. Daily intake of garlic may also be helpful. For more tips, please refer to my health guide: vaginal health. Hope this helps!</td>\n",
       "    </tr>\n",
       "    <tr>\n",
       "      <th>686508</th>\n",
       "      <td>I have tmj, ehlers danlos and i'm pregnant. Something is catching in thefront right sidefof my neck when i chew. Slight pain from ear down neck. Help?</td>\n",
       "      <td>Please consult a dental surgeon to fix your TMJ subluxation.</td>\n",
       "    </tr>\n",
       "    <tr>\n",
       "      <th>359307</th>\n",
       "      <td>How does a bone scan work?</td>\n",
       "      <td>Detects. Inflammation caused by problems in bones such as a fracture.</td>\n",
       "    </tr>\n",
       "    <tr>\n",
       "      <th>1869061</th>\n",
       "      <td>Is skin resurfacing always done with chemical peels?</td>\n",
       "      <td>Many patients get skin resurfacing with lasers.</td>\n",
       "    </tr>\n",
       "    <tr>\n",
       "      <th>619085</th>\n",
       "      <td>I ovulate june 1-6 , if I have sex any of those days what are my chances of getting pregnan during that time frame ? Any way to increase my chances ?</td>\n",
       "      <td>Sperm are healthy and u have an intact ovary, fallopian tubes and uterus, there's a great chance you'll get pregnant ( with blessings from the power above!) best wishes!</td>\n",
       "    </tr>\n",
       "    <tr>\n",
       "      <th>1198454</th>\n",
       "      <td>Can you poop while having a seizure?</td>\n",
       "      <td>Involuntary (out of control) defecation is one of the signs of true seizure.</td>\n",
       "    </tr>\n",
       "    <tr>\n",
       "      <th>777162</th>\n",
       "      <td>Due to wisdom tooth trouble, I can't open my mouth more than what would accomodate one finger. The dentist prescribed antibiotics and after 2 days, the ache subsided but still can't open my mouth normally?</td>\n",
       "      <td>Also. It could also be that you have a muscle spasm or problem in the jaw joint that prevents you from opening.  See you dentist asap.  The longer the limited opening is there the more difficult it is to treat.</td>\n",
       "    </tr>\n",
       "    <tr>\n",
       "      <th>1789612</th>\n",
       "      <td>Two days urine infection vomiting once, now symptoms are gone am I ok?</td>\n",
       "      <td>Probably OK. I'm not sure that the vomiting was related to the urinary tract infection, but if you are feeling well now, you are probably ok.  Check with a doctor if your symptoms return.</td>\n",
       "    </tr>\n",
       "    <tr>\n",
       "      <th>1774004</th>\n",
       "      <td>My throat feels dry and my ears feel pressure. It started yesterday. I don't smoke or take medicines. Did I get the flue?</td>\n",
       "      <td>Sounds more allergy. Your symptoms sound more like allergies than flu. First, it's not usual time of year in canada, so that makes it unlikely. Second, you usually have very significant cough, body aches and fever with influenza - and you didn't describe any of these. It could also just be a summer cold with a virus, but does not fit influenza \"flu\" criteria.</td>\n",
       "    </tr>\n",
       "    <tr>\n",
       "      <th>380493</th>\n",
       "      <td>Can I get breast implants removed with a lift and down the road get small implants if I don't like shape?</td>\n",
       "      <td>Yes. That is certainly possible - I have had several patients who've done that, if they couldn't decide on a new, smaller set of implants at the time of the lift.</td>\n",
       "    </tr>\n",
       "    <tr>\n",
       "      <th>9858</th>\n",
       "      <td>How many micrograms of folic acid should I take with mthfr before I'm pregnant and after? Can you get too much folic acid?</td>\n",
       "      <td>Before and during pregnancy take 0. 8 mg ,or 1 mg daily.  No need to take more.</td>\n",
       "    </tr>\n",
       "    <tr>\n",
       "      <th>640064</th>\n",
       "      <td>17 weeks pregnant. I've been getting a headache everyday. Sometimes its severe but not all the time. When should I be concerned &amp; tell my obgyn?</td>\n",
       "      <td>Yes. Call your OB and also make sure your blood pressure is normal.</td>\n",
       "    </tr>\n",
       "    <tr>\n",
       "      <th>2251980</th>\n",
       "      <td>Liver bloodtests showed a little too high values. Could it be benign? Could it be stress? Theories? Does it have to be bad?</td>\n",
       "      <td>Depends on level, duration, medical history. May be related to meds, even over the counter, birth control pills,  overweight, alcohol, infection -acute or chronic, biliary, autoimmune, other. Needs follow up and follow up testing. Avoid alcohol, unneccessary meds, simple sugars in diet, lose excess weight (no crash diets).</td>\n",
       "    </tr>\n",
       "    <tr>\n",
       "      <th>1542665</th>\n",
       "      <td>When lying straight i can feel my hearts apical pulse on the correct place. But when lying on left side my apical pulse changes. Is it cardiomegaly?</td>\n",
       "      <td>Normal variability with changed position</td>\n",
       "    </tr>\n",
       "    <tr>\n",
       "      <th>2245617</th>\n",
       "      <td>I have cancer, can I be more susceptible to complications caused by the west nile virus?</td>\n",
       "      <td>Yes. Folks over age 50, and folks on chemotherapy for cancer, are more susceptible to severe disease when they meet the west nile virus. This has been accepted for the past decade.</td>\n",
       "    </tr>\n",
       "    <tr>\n",
       "      <th>780025</th>\n",
       "      <td>Are there STDs which go undetected indefinitely?</td>\n",
       "      <td>The cancer associated strains of HPV can be acquired through sex, and hibernate in your body for decades without outward symptoms. Pap smears had been done for years before we knew the HPV was the initial trigger to the cancer.Without this early form of warning, the cervical cancer they produce can kill you.Other germs are less stealth, but you get the picture.If sexually active, get monitored.</td>\n",
       "    </tr>\n",
       "    <tr>\n",
       "      <th>1675882</th>\n",
       "      <td>My eyes are getting reddish sometimes with itching which is sometimes unbearable. Tears also come out and I am, like, forced to rub them.</td>\n",
       "      <td>Allergies. You likely have allergies.  An ophthalmologist can help you with a treatment plan to help you.</td>\n",
       "    </tr>\n",
       "    <tr>\n",
       "      <th>204163</th>\n",
       "      <td>I've noticed a lot of old men with big noses. Do noses get bigger with age?</td>\n",
       "      <td>Yes. One way we subtely tell people's age is the ratio of ear or nose. Bones stop growing after puberty;cartilage does not.</td>\n",
       "    </tr>\n",
       "    <tr>\n",
       "      <th>488439</th>\n",
       "      <td>My thumb was very itchy, so i scratched it, but that didn't help. It felt warm, then formed a bump. The whole top of my thumb started swelling.</td>\n",
       "      <td>Your description is close to the holy trinity of allergy: red, itchy, swollen. This is the first direction that i would look into, in the absence of recent trauma being involved.</td>\n",
       "    </tr>\n",
       "    <tr>\n",
       "      <th>1293677</th>\n",
       "      <td>I have hundreds of these little spots under the skin on my thighs. They weren't there yesterday. They look like tiny brown freckles but some of them look reddish. We were at a public pool yesterday and in the sun. They literally popped up overnight. ?</td>\n",
       "      <td>Maybe sun blisters. Monitor to see if they worsens into infection</td>\n",
       "    </tr>\n",
       "    <tr>\n",
       "      <th>824075</th>\n",
       "      <td>I'm a 16 year old guy, I've been going to the gym and lifting weights for 5 months. Some say it might stunt my growth is this true? I'm 5'4</td>\n",
       "      <td>No. It won't affect your growth.  Although if you have not hit puberty yet, you probably won't gain much in terms of muscle mass because you won't have a lot of testosterone yet.  That being said i would still continue to work out regardless.</td>\n",
       "    </tr>\n",
       "    <tr>\n",
       "      <th>2034709</th>\n",
       "      <td>Does insulinoma cause hypoglycemia?</td>\n",
       "      <td>Insulinoma is an insulin-secreting adenoma (tumor), mostly seen in older children and adults. Excess Insulin is responsible for the lowering of blood glucose level.</td>\n",
       "    </tr>\n",
       "    <tr>\n",
       "      <th>1046198</th>\n",
       "      <td>I have had a feeling of a lump in my throat for 4. Throat slightly sore.suffer from GAD. Scared that I have epiglottitis. eating is easier than drikin?</td>\n",
       "      <td>Lump in the throat may be correlated with your GAD, I will like to help you with this and i am available to schedule an appointment with you on this. Take care.</td>\n",
       "    </tr>\n",
       "    <tr>\n",
       "      <th>299594</th>\n",
       "      <td>Hii. Am 28 years old &amp; I have acne in my forehead. What can I do? I try all most all treatment but it doesn't work.</td>\n",
       "      <td>Acne. Wash face w gentle cleanser 2x/day &amp; use oil free products. No oily hair or heavy foundations. Try not to pop pimples. Avoid touching face (cradling chin in hands). Remove makeup before bed. Shower after strenuous exercise. Consider OTC products (salicylic acid or benzoyl peroxide).  Retinoids/ comedone extractor can be helpful for black heads. If &gt; mild acne see dermatology.</td>\n",
       "    </tr>\n",
       "    <tr>\n",
       "      <th>1701269</th>\n",
       "      <td>It possible an allergy is causing brain inflammation?</td>\n",
       "      <td>Brain inflammation is not a symptom of allergy.</td>\n",
       "    </tr>\n",
       "    <tr>\n",
       "      <th>825203</th>\n",
       "      <td>Hi. I've had lower side/back pain for over a month now. It's worse when I breath in and when I lay on my back.</td>\n",
       "      <td>It is impossible to tell as to what your problem may be although trauma comes to mind leading to inflammation at the rib cage and thus the pain with breathing. Sometimes violent coughing can cause the inflammation as well. I recommend a visit with your doctor.</td>\n",
       "    </tr>\n",
       "    <tr>\n",
       "      <th>629194</th>\n",
       "      <td>Is bruising the same as bleeding?</td>\n",
       "      <td>Result of bleeding. A bruise, or ecchymosis, is a collection of blood beneath the skin, resulting from extravasation of blood from surrounding vessels. Easy bruising can result from abnormalities affecting the blood vessels themselves, the surrounding skin and subcutaneous structures, platelet number and function, or function of the coagulation cascade.</td>\n",
       "    </tr>\n",
       "    <tr>\n",
       "      <th>146897</th>\n",
       "      <td>What are the symptoms of fioricet (acetaminophen butalbital and caffeine) addiction?</td>\n",
       "      <td>Fioricet (acetaminophen butalbital and caffeine) has butalbital, - an old sedative, which is very addictive. You are addicted if you need to take more and more to achieve the same result and if you have withdrawals from not taking the next dose. I treat this addiction by prescribing 3 generics instead of Fioricet (acetaminophen butalbital and caffeine) and then first substituting components and them weaning slowly from each component.</td>\n",
       "    </tr>\n",
       "    <tr>\n",
       "      <th>1227772</th>\n",
       "      <td>If I wake up choking from throwing up, does this mean I have sleep apnea?</td>\n",
       "      <td>Not necessarily. This could be a type of mucous buildup from draining sinuses, allergies or other unrelated problems.  I would not rule out sleep apnea, but you need to have a sleep study performed to get definitive answers.</td>\n",
       "    </tr>\n",
       "    <tr>\n",
       "      <th>1920279</th>\n",
       "      <td>Is there a clear top treatment for a cold? What is it?</td>\n",
       "      <td>Tips: sore throat – gargle with warm salt water (1/2 tsp salt in 8 oz of water). Get strep test/culture if very sore. Congestion – saline nose drops or netti pot. For anti-inflammatory effect &amp; mobilizing mucus- homemade chicken noodle soup.  Hydrate- lots of water/clear broth/ add honey &amp; asmall amt. Of lemon juice to chamomile tea..  Fever/ pain – acetaminophen/ nsaid’s  rest!</td>\n",
       "    </tr>\n",
       "    <tr>\n",
       "      <th>1978873</th>\n",
       "      <td>Can gastritis cured permanently?</td>\n",
       "      <td>Yes. Yes, gastritis can be cured permanently. The key is to identify and address the cause. One common cause is infection with H. Pylori bacteria. Successfully treating this can be a cure; natural therapies can help; see http://tinyurl.com/zt5dfvk  In Chinese medicine it may be caused by excess liver heat and herbal treatments can correct. I have also had success curing gastritis with homeopathy.</td>\n",
       "    </tr>\n",
       "    <tr>\n",
       "      <th>396108</th>\n",
       "      <td>Dental bone grafting: how long to eat normally?</td>\n",
       "      <td>Depending on how extensive the grafting was, it shoiuld heal at near the same rate as an extraction. Once the soft tissue closes,  you should be pretty comfortable eating regular foods.  For the first couple days, the site may be sore and the wound still open.   The site will heal faster if a membrane was placed and the sutures closed the wound. Do you want to video or text chat with a top doctor?        Dr. Meng Syn                 Send ›          Dr. Meng Syn                 Send ›</td>\n",
       "    </tr>\n",
       "    <tr>\n",
       "      <th>754318</th>\n",
       "      <td>Face pressure, teeth pain forehead pain sore throat and itching and stuffed nose and sneezing help what does it sound like no fever?</td>\n",
       "      <td>Sinus related dental. Most likely sinus issues manifesting itself as tooth pain especially upper back teeth which have roots that can reach sinus area.</td>\n",
       "    </tr>\n",
       "    <tr>\n",
       "      <th>1011108</th>\n",
       "      <td>For what length of time can the tooth that have done root canal treatment last?</td>\n",
       "      <td>Depends..... The longevity will depend on how well it was performed, the quality of the restoration and how you take care of the tooth. An endodontist will in general get a better result, especially with molars. A well placed crown or onlay will lower fracture potential, no post or a flexible post will lower root fracture and good hygiene will lower recurrent decay. I have seen 50+ year old rcts.</td>\n",
       "    </tr>\n",
       "    <tr>\n",
       "      <th>1797499</th>\n",
       "      <td>I'm always unsure when I ovulate because my periods are really irregular?</td>\n",
       "      <td>Mid cycle. ovulation usually occurs about 12-14 days after the start of your menstrual cycle. You can purchase ovulation testing kits in most pharmacies.</td>\n",
       "    </tr>\n",
       "    <tr>\n",
       "      <th>505772</th>\n",
       "      <td>Why my urine suddenly have dotted red? ,it only happen once</td>\n",
       "      <td>If hx/fhx of kidney stone. .......possible. It is associated commonly with pain. If worried have a urine analysis...</td>\n",
       "    </tr>\n",
       "    <tr>\n",
       "      <th>1413258</th>\n",
       "      <td>Take loestrin 20. Period is 14days late. Had sex during my 7day break?</td>\n",
       "      <td>A urine pregnancy test, done correctly, gives a reliable result 3 weeks after sex (3 weeks after when conception might have occurred), or 1 week after missing a withdrawal period. If done sooner, a positive result is likely real, but a negative result may be due to testing too soon, and thus lead to a repeat test. If a woman gets her regular withdrawal periods, then she is not pregnant.</td>\n",
       "    </tr>\n",
       "    <tr>\n",
       "      <th>1862460</th>\n",
       "      <td>What is the best way to apply Dalacin T acne lotion (Clindamycin Phosphate) for best and quickest results ?</td>\n",
       "      <td>The recommended dose is 5 g (one full applicator) into the vagina at bedtime for 7 consecutive nights. Women who are menstruating should wait until menstruation has stopped before using this medication.</td>\n",
       "    </tr>\n",
       "    <tr>\n",
       "      <th>930183</th>\n",
       "      <td>Why I feel sweaty, hot and sad suddenly when I am with my friends or family from about 6 month ago? Is it depression? How can I treat this? Thanks</td>\n",
       "      <td>Anxiety. Sounds like anxiety or panic. Cognitive-behavioral therapy and an antidepressant can help. Talk to your doctor.</td>\n",
       "    </tr>\n",
       "    <tr>\n",
       "      <th>1459662</th>\n",
       "      <td>How are antiseptics and disnfectant used for diconramination in laboratory?</td>\n",
       "      <td>various protocols and guidelines specified by the Dept of Health(state and fed) and accrediting bodies that must be adhered to in order to maintain compliance and pass inspections.</td>\n",
       "    </tr>\n",
       "    <tr>\n",
       "      <th>973852</th>\n",
       "      <td>My little sister has a chipped tooth in the front, is there anyhting I can do?</td>\n",
       "      <td>Take her to dentist. A chip may be minimal and require a simple polishing type of adjustment. A chip may involve a deep crack and require restoration - either a filling or a crown (cap) depending on various factors.  She needs to see a dentist who will evaluate the chip and explain the best treatment options.</td>\n",
       "    </tr>\n",
       "    <tr>\n",
       "      <th>182142</th>\n",
       "      <td>Back of knee pain.When i put pressure on it there is a sharp pain in the back/middle of my knee. It also hurts to bend it. Is it just a sprain?</td>\n",
       "      <td>It could be a strain, but could also be an injury to the articular cartilage (lining of the ends of the bone), meniscus (cartilage pad), or even a fracture. If your symptoms do not respond to rest, ice, and anti-inflammatory meds or is causing you severe limitations, see an orthopedic doctor for an evaluation. If he/she feels further testing is needed, an xray or MRI will be ordered. Good luck!</td>\n",
       "    </tr>\n",
       "  </tbody>\n",
       "</table>\n",
       "</div>"
      ],
      "text/plain": [
       "                                                                                                                                                                                                                                                            question  \\\n",
       "1860619                                                                                                                                              Is over-the-counter glycolic acid cream, let's say 10%, as powerful as 0.05% Tretinoin for minor lines on face?   \n",
       "2071665                                                                                                          Male 55 been on 325 aspirin daily for years for primary prevention. Want to reduce to 81 as I understand that is optimal dose. Is it safe to do so?   \n",
       "1110723                                                                                                                                            Is there any chance of pregnancy after IVF failure .... Or missing of periods could be side effect of the IVF ...   \n",
       "2169799                                                                                                                                                                             Is it rare for a yeast infection to kill someone if they had it for a long time?   \n",
       "249172                                                                                                                                                                                                                                What is the treatment for chf?   \n",
       "1229868                                                                                                                                                                                                                           Does claritan make children hyper?   \n",
       "2173871                                                          Had a volvulus in colon and had more than 8inches removed in emer surg 2yrs ago continue to have pain and  discomfort same area?Can it happen again? Am i more at risk b/c i already had this once?   \n",
       "1226686                                                                                                          My grandma has a mouth sore inside her cheeks, it is round & pinkish white in color, shes taking up anti fungal meds and cream and it doesn't work.   \n",
       "2160035                                                                                                                                                                          What are some things I can do to prevent yeast infections I seem to get them a lot?   \n",
       "686508                                                                                                        I have tmj, ehlers danlos and i'm pregnant. Something is catching in thefront right sidefof my neck when i chew. Slight pain from ear down neck. Help?   \n",
       "359307                                                                                                                                                                                                                                    How does a bone scan work?   \n",
       "1869061                                                                                                                                                                                                         Is skin resurfacing always done with chemical peels?   \n",
       "619085                                                                                                         I ovulate june 1-6 , if I have sex any of those days what are my chances of getting pregnan during that time frame ? Any way to increase my chances ?   \n",
       "1198454                                                                                                                                                                                                                         Can you poop while having a seizure?   \n",
       "777162                                                 Due to wisdom tooth trouble, I can't open my mouth more than what would accomodate one finger. The dentist prescribed antibiotics and after 2 days, the ache subsided but still can't open my mouth normally?   \n",
       "1789612                                                                                                                                                                                       Two days urine infection vomiting once, now symptoms are gone am I ok?   \n",
       "1774004                                                                                                                                    My throat feels dry and my ears feel pressure. It started yesterday. I don't smoke or take medicines. Did I get the flue?   \n",
       "380493                                                                                                                                                     Can I get breast implants removed with a lift and down the road get small implants if I don't like shape?   \n",
       "9858                                                                                                                                      How many micrograms of folic acid should I take with mthfr before I'm pregnant and after? Can you get too much folic acid?   \n",
       "640064                                                                                                              17 weeks pregnant. I've been getting a headache everyday. Sometimes its severe but not all the time. When should I be concerned & tell my obgyn?   \n",
       "2251980                                                                                                                                  Liver bloodtests showed a little too high values. Could it be benign? Could it be stress? Theories? Does it have to be bad?   \n",
       "1542665                                                                                                         When lying straight i can feel my hearts apical pulse on the correct place. But when lying on left side my apical pulse changes. Is it cardiomegaly?   \n",
       "2245617                                                                                                                                                                     I have cancer, can I be more susceptible to complications caused by the west nile virus?   \n",
       "780025                                                                                                                                                                                                              Are there STDs which go undetected indefinitely?   \n",
       "1675882                                                                                                                    My eyes are getting reddish sometimes with itching which is sometimes unbearable. Tears also come out and I am, like, forced to rub them.   \n",
       "204163                                                                                                                                                                                   I've noticed a lot of old men with big noses. Do noses get bigger with age?   \n",
       "488439                                                                                                               My thumb was very itchy, so i scratched it, but that didn't help. It felt warm, then formed a bump. The whole top of my thumb started swelling.   \n",
       "1293677  I have hundreds of these little spots under the skin on my thighs. They weren't there yesterday. They look like tiny brown freckles but some of them look reddish. We were at a public pool yesterday and in the sun. They literally popped up overnight. ?   \n",
       "824075                                                                                                                   I'm a 16 year old guy, I've been going to the gym and lifting weights for 5 months. Some say it might stunt my growth is this true? I'm 5'4   \n",
       "2034709                                                                                                                                                                                                                          Does insulinoma cause hypoglycemia?   \n",
       "1046198                                                                                                      I have had a feeling of a lump in my throat for 4. Throat slightly sore.suffer from GAD. Scared that I have epiglottitis. eating is easier than drikin?   \n",
       "299594                                                                                                                                           Hii. Am 28 years old & I have acne in my forehead. What can I do? I try all most all treatment but it doesn't work.   \n",
       "1701269                                                                                                                                                                                                        It possible an allergy is causing brain inflammation?   \n",
       "825203                                                                                                                                                Hi. I've had lower side/back pain for over a month now. It's worse when I breath in and when I lay on my back.   \n",
       "629194                                                                                                                                                                                                                             Is bruising the same as bleeding?   \n",
       "146897                                                                                                                                                                          What are the symptoms of fioricet (acetaminophen butalbital and caffeine) addiction?   \n",
       "1227772                                                                                                                                                                                    If I wake up choking from throwing up, does this mean I have sleep apnea?   \n",
       "1920279                                                                                                                                                                                                       Is there a clear top treatment for a cold? What is it?   \n",
       "1978873                                                                                                                                                                                                                             Can gastritis cured permanently?   \n",
       "396108                                                                                                                                                                                                               Dental bone grafting: how long to eat normally?   \n",
       "754318                                                                                                                          Face pressure, teeth pain forehead pain sore throat and itching and stuffed nose and sneezing help what does it sound like no fever?   \n",
       "1011108                                                                                                                                                                              For what length of time can the tooth that have done root canal treatment last?   \n",
       "1797499                                                                                                                                                                                    I'm always unsure when I ovulate because my periods are really irregular?   \n",
       "505772                                                                                                                                                                                                   Why my urine suddenly have dotted red? ,it only happen once   \n",
       "1413258                                                                                                                                                                                       Take loestrin 20. Period is 14days late. Had sex during my 7day break?   \n",
       "1862460                                                                                                                                                  What is the best way to apply Dalacin T acne lotion (Clindamycin Phosphate) for best and quickest results ?   \n",
       "930183                                                                                                            Why I feel sweaty, hot and sad suddenly when I am with my friends or family from about 6 month ago? Is it depression? How can I treat this? Thanks   \n",
       "1459662                                                                                                                                                                                  How are antiseptics and disnfectant used for diconramination in laboratory?   \n",
       "973852                                                                                                                                                                                My little sister has a chipped tooth in the front, is there anyhting I can do?   \n",
       "182142                                                                                                               Back of knee pain.When i put pressure on it there is a sharp pain in the back/middle of my knee. It also hurts to bend it. Is it just a sprain?   \n",
       "\n",
       "                                                                                                                                                                                                                                                                                                                                                                                                                                                                                                           answer  \n",
       "1860619                                                                                                                                                                               Comparing medicines. unfortunately it's not like comparing apples to apples. The concentrations of two different medicines don't always have the same effect. The vehicle or the purity may affect how \"strong\" it is. Tretinoin tends to be more effective but for mild rytids (wrinkles) the glycolic acid may work well.  \n",
       "2071665                                                                           Discuss with MD? I think the key question is  -have you had a coronary event?  If so I would NOT decrease aspirin.  data for PRIMARY prevention is a little less compelling.  81mg would be sufficient to achieve your goals with less risk of ulcer if you are dedicated to doing this without any personal history of event.  Note that aspirin may have more compelling preventive effectiveness for colon cancer.  Be well.  \n",
       "1110723                                                                                                                                                                                                                                                                                                                                                                                      But if it failed then you cannot be pregnant, it depends how many periods you have missed but this can be worked up.  \n",
       "2169799                                                                                                                                                                                                                                                                                                                                                                                                                                I know of no situation where a yeast infection led to the death of anyone.  \n",
       "249172                                                                                                                                                                                                                                      Treatment depends on what the cause of the CHF is. Could be surgical, could be medical. Systolic CHF is different from diastolic CHF and valvar stenosis CHF is different from valvar insufficiency chf.  Virtually all kinds have diuretic as part of the treatment.  \n",
       "1229868                                                                                                                             It's unusual, but... It does happen. Typically, non-sedating antihistamines are well tolerated by children, and the more common side effect is modest sedation. That being said, I have cared for a few kids through the years who have had atypical responses to claritin-like medications. I wonder if tour child has the same response to Diphenhydramine (aka, benadryl).  \n",
       "2173871                                                                                                                                                                                        Had a cecal volvulus, correct?  If so, recurrence is unlikely, b/c surgeon prob did ileocecectomy. Pain in the area is no unusual, but you should get ct scan just to make sure there is no adhesive obstruction, especially closed loop obstruction, in the area.  You need to see a GI surgeon if pain persists.  \n",
       "1226686                                                                                                                                                                                                                                                                                                                                                                               Have this examined and diagnosed and treated appropriately. Without seeing it there is no way a doctor could guess at this.  \n",
       "2160035                                                                                                          Probiotics contain good bacteria that helps keep vaginal pH in balance. Lactobacilli is a type of probiotic which has been shown to be helpful in reducing yeast infections. You can use a commercially available probiotic brand with 10-20 billion live cultures. Daily intake of garlic may also be helpful. For more tips, please refer to my health guide: vaginal health. Hope this helps!  \n",
       "686508                                                                                                                                                                                                                                                                                                                                                                                                                                               Please consult a dental surgeon to fix your TMJ subluxation.  \n",
       "359307                                                                                                                                                                                                                                                                                                                                                                                                                                      Detects. Inflammation caused by problems in bones such as a fracture.  \n",
       "1869061                                                                                                                                                                                                                                                                                                                                                                                                                                                           Many patients get skin resurfacing with lasers.  \n",
       "619085                                                                                                                                                                                                                                                                                                                                  Sperm are healthy and u have an intact ovary, fallopian tubes and uterus, there's a great chance you'll get pregnant ( with blessings from the power above!) best wishes!  \n",
       "1198454                                                                                                                                                                                                                                                                                                                                                                                                                              Involuntary (out of control) defecation is one of the signs of true seizure.  \n",
       "777162                                                                                                                                                                                                                                                                                         Also. It could also be that you have a muscle spasm or problem in the jaw joint that prevents you from opening.  See you dentist asap.  The longer the limited opening is there the more difficult it is to treat.  \n",
       "1789612                                                                                                                                                                                                                                                                                                               Probably OK. I'm not sure that the vomiting was related to the urinary tract infection, but if you are feeling well now, you are probably ok.  Check with a doctor if your symptoms return.  \n",
       "1774004                                                                                                                                 Sounds more allergy. Your symptoms sound more like allergies than flu. First, it's not usual time of year in canada, so that makes it unlikely. Second, you usually have very significant cough, body aches and fever with influenza - and you didn't describe any of these. It could also just be a summer cold with a virus, but does not fit influenza \"flu\" criteria.  \n",
       "380493                                                                                                                                                                                                                                                                                                                                         Yes. That is certainly possible - I have had several patients who've done that, if they couldn't decide on a new, smaller set of implants at the time of the lift.  \n",
       "9858                                                                                                                                                                                                                                                                                                                                                                                                                              Before and during pregnancy take 0. 8 mg ,or 1 mg daily.  No need to take more.  \n",
       "640064                                                                                                                                                                                                                                                                                                                                                                                                                                        Yes. Call your OB and also make sure your blood pressure is normal.  \n",
       "2251980                                                                                                                                                                      Depends on level, duration, medical history. May be related to meds, even over the counter, birth control pills,  overweight, alcohol, infection -acute or chronic, biliary, autoimmune, other. Needs follow up and follow up testing. Avoid alcohol, unneccessary meds, simple sugars in diet, lose excess weight (no crash diets).  \n",
       "1542665                                                                                                                                                                                                                                                                                                                                                                                                                                                                  Normal variability with changed position  \n",
       "2245617                                                                                                                                                                                                                                                                                                                      Yes. Folks over age 50, and folks on chemotherapy for cancer, are more susceptible to severe disease when they meet the west nile virus. This has been accepted for the past decade.  \n",
       "780025                                                                                              The cancer associated strains of HPV can be acquired through sex, and hibernate in your body for decades without outward symptoms. Pap smears had been done for years before we knew the HPV was the initial trigger to the cancer.Without this early form of warning, the cervical cancer they produce can kill you.Other germs are less stealth, but you get the picture.If sexually active, get monitored.  \n",
       "1675882                                                                                                                                                                                                                                                                                                                                                                                                 Allergies. You likely have allergies.  An ophthalmologist can help you with a treatment plan to help you.  \n",
       "204163                                                                                                                                                                                                                                                                                                                                                                                Yes. One way we subtely tell people's age is the ratio of ear or nose. Bones stop growing after puberty;cartilage does not.  \n",
       "488439                                                                                                                                                                                                                                                                                                                         Your description is close to the holy trinity of allergy: red, itchy, swollen. This is the first direction that i would look into, in the absence of recent trauma being involved.  \n",
       "1293677                                                                                                                                                                                                                                                                                                                                                                                                                                         Maybe sun blisters. Monitor to see if they worsens into infection  \n",
       "824075                                                                                                                                                                                                                                                         No. It won't affect your growth.  Although if you have not hit puberty yet, you probably won't gain much in terms of muscle mass because you won't have a lot of testosterone yet.  That being said i would still continue to work out regardless.  \n",
       "2034709                                                                                                                                                                                                                                                                                                                                      Insulinoma is an insulin-secreting adenoma (tumor), mostly seen in older children and adults. Excess Insulin is responsible for the lowering of blood glucose level.  \n",
       "1046198                                                                                                                                                                                                                                                                                                                                          Lump in the throat may be correlated with your GAD, I will like to help you with this and i am available to schedule an appointment with you on this. Take care.  \n",
       "299594                                                                                                           Acne. Wash face w gentle cleanser 2x/day & use oil free products. No oily hair or heavy foundations. Try not to pop pimples. Avoid touching face (cradling chin in hands). Remove makeup before bed. Shower after strenuous exercise. Consider OTC products (salicylic acid or benzoyl peroxide).  Retinoids/ comedone extractor can be helpful for black heads. If > mild acne see dermatology.  \n",
       "1701269                                                                                                                                                                                                                                                                                                                                                                                                                                                           Brain inflammation is not a symptom of allergy.  \n",
       "825203                                                                                                                                                                                                                                       It is impossible to tell as to what your problem may be although trauma comes to mind leading to inflammation at the rib cage and thus the pain with breathing. Sometimes violent coughing can cause the inflammation as well. I recommend a visit with your doctor.  \n",
       "629194                                                                                                                                        Result of bleeding. A bruise, or ecchymosis, is a collection of blood beneath the skin, resulting from extravasation of blood from surrounding vessels. Easy bruising can result from abnormalities affecting the blood vessels themselves, the surrounding skin and subcutaneous structures, platelet number and function, or function of the coagulation cascade.  \n",
       "146897                                                     Fioricet (acetaminophen butalbital and caffeine) has butalbital, - an old sedative, which is very addictive. You are addicted if you need to take more and more to achieve the same result and if you have withdrawals from not taking the next dose. I treat this addiction by prescribing 3 generics instead of Fioricet (acetaminophen butalbital and caffeine) and then first substituting components and them weaning slowly from each component.  \n",
       "1227772                                                                                                                                                                                                                                                                          Not necessarily. This could be a type of mucous buildup from draining sinuses, allergies or other unrelated problems.  I would not rule out sleep apnea, but you need to have a sleep study performed to get definitive answers.  \n",
       "1920279                                                                                                             Tips: sore throat – gargle with warm salt water (1/2 tsp salt in 8 oz of water). Get strep test/culture if very sore. Congestion – saline nose drops or netti pot. For anti-inflammatory effect & mobilizing mucus- homemade chicken noodle soup.  Hydrate- lots of water/clear broth/ add honey & asmall amt. Of lemon juice to chamomile tea..  Fever/ pain – acetaminophen/ nsaid’s  rest!  \n",
       "1978873                                                                                           Yes. Yes, gastritis can be cured permanently. The key is to identify and address the cause. One common cause is infection with H. Pylori bacteria. Successfully treating this can be a cure; natural therapies can help; see http://tinyurl.com/zt5dfvk  In Chinese medicine it may be caused by excess liver heat and herbal treatments can correct. I have also had success curing gastritis with homeopathy.  \n",
       "396108   Depending on how extensive the grafting was, it shoiuld heal at near the same rate as an extraction. Once the soft tissue closes,  you should be pretty comfortable eating regular foods.  For the first couple days, the site may be sore and the wound still open.   The site will heal faster if a membrane was placed and the sutures closed the wound. Do you want to video or text chat with a top doctor?        Dr. Meng Syn                 Send ›          Dr. Meng Syn                 Send ›  \n",
       "754318                                                                                                                                                                                                                                                                                                                                                    Sinus related dental. Most likely sinus issues manifesting itself as tooth pain especially upper back teeth which have roots that can reach sinus area.  \n",
       "1011108                                                                                           Depends..... The longevity will depend on how well it was performed, the quality of the restoration and how you take care of the tooth. An endodontist will in general get a better result, especially with molars. A well placed crown or onlay will lower fracture potential, no post or a flexible post will lower root fracture and good hygiene will lower recurrent decay. I have seen 50+ year old rcts.  \n",
       "1797499                                                                                                                                                                                                                                                                                                                                                 Mid cycle. ovulation usually occurs about 12-14 days after the start of your menstrual cycle. You can purchase ovulation testing kits in most pharmacies.  \n",
       "505772                                                                                                                                                                                                                                                                                                                                                                                       If hx/fhx of kidney stone. .......possible. It is associated commonly with pain. If worried have a urine analysis...  \n",
       "1413258                                                                                                     A urine pregnancy test, done correctly, gives a reliable result 3 weeks after sex (3 weeks after when conception might have occurred), or 1 week after missing a withdrawal period. If done sooner, a positive result is likely real, but a negative result may be due to testing too soon, and thus lead to a repeat test. If a woman gets her regular withdrawal periods, then she is not pregnant.  \n",
       "1862460                                                                                                                                                                                                                                                                                                The recommended dose is 5 g (one full applicator) into the vagina at bedtime for 7 consecutive nights. Women who are menstruating should wait until menstruation has stopped before using this medication.  \n",
       "930183                                                                                                                                                                                                                                                                                                                                                                                   Anxiety. Sounds like anxiety or panic. Cognitive-behavioral therapy and an antidepressant can help. Talk to your doctor.  \n",
       "1459662                                                                                                                                                                                                                                                                                                                      various protocols and guidelines specified by the Dept of Health(state and fed) and accrediting bodies that must be adhered to in order to maintain compliance and pass inspections.  \n",
       "973852                                                                                                                                                                                     Take her to dentist. A chip may be minimal and require a simple polishing type of adjustment. A chip may involve a deep crack and require restoration - either a filling or a crown (cap) depending on various factors.  She needs to see a dentist who will evaluate the chip and explain the best treatment options.  \n",
       "182142                                                                                              It could be a strain, but could also be an injury to the articular cartilage (lining of the ends of the bone), meniscus (cartilage pad), or even a fracture. If your symptoms do not respond to rest, ice, and anti-inflammatory meds or is causing you severe limitations, see an orthopedic doctor for an evaluation. If he/she feels further testing is needed, an xray or MRI will be ordered. Good luck!  "
      ]
     },
     "execution_count": 18,
     "metadata": {},
     "output_type": "execute_result"
    }
   ],
   "source": [
    "pd.set_option('display.max_colwidth', None)\n",
    "data.sample(n=50)[['question', 'answer']]"
   ]
  },
  {
   "cell_type": "code",
   "execution_count": null,
   "metadata": {},
   "outputs": [],
   "source": [
    "data[data.main_category == 'vagina'][['question', 'answer']]"
   ]
  },
  {
   "cell_type": "code",
   "execution_count": null,
   "metadata": {},
   "outputs": [],
   "source": [
    "len(data[(data.answer_len < 30) & (data.question_len < 30)])"
   ]
  },
  {
   "cell_type": "code",
   "execution_count": null,
   "metadata": {},
   "outputs": [],
   "source": [
    "short_data = data[(data.answer_len < 30) & (data.question_len < 30)]\n",
    "short_data = short_data.drop(columns=['question_len', 'answer_len', 'question_len_group', 'answer_len_group', 'doctor_name', 'doctor_profession'])\n",
    "short_data_sample = short_data.sample(n=100000)\n",
    "short_data_sample.to_csv('../../data/healthtap_short_sample.csv')"
   ]
  },
  {
   "cell_type": "code",
   "execution_count": null,
   "metadata": {},
   "outputs": [],
   "source": [
    "short_data.info()"
   ]
  },
  {
   "cell_type": "code",
   "execution_count": 19,
   "metadata": {},
   "outputs": [
    {
     "name": "stdout",
     "output_type": "stream",
     "text": [
      "<class 'pandas.core.frame.DataFrame'>\n",
      "RangeIndex: 2287925 entries, 0 to 2287924\n",
      "Data columns (total 12 columns):\n",
      " #   Column              Dtype   \n",
      "---  ------              -----   \n",
      " 0   doctor_name         object  \n",
      " 1   doctor_profession   object  \n",
      " 2   short_answer        object  \n",
      " 3   answer              object  \n",
      " 4   main_category       object  \n",
      " 5   question            object  \n",
      " 6   related_topics      object  \n",
      " 7   sub_category        object  \n",
      " 8   question_len        int64   \n",
      " 9   answer_len          int64   \n",
      " 10  question_len_group  category\n",
      " 11  answer_len_group    category\n",
      "dtypes: category(2), int64(2), object(8)\n",
      "memory usage: 178.9+ MB\n"
     ]
    }
   ],
   "source": [
    "data.info()"
   ]
  },
  {
   "cell_type": "code",
   "execution_count": 22,
   "metadata": {},
   "outputs": [
    {
     "name": "stdout",
     "output_type": "stream",
     "text": [
      "<class 'pandas.core.frame.DataFrame'>\n",
      "RangeIndex: 2287925 entries, 0 to 2287924\n",
      "Data columns (total 2 columns):\n",
      " #   Column    Dtype \n",
      "---  ------    ----- \n",
      " 0   question  object\n",
      " 1   answer    object\n",
      "dtypes: object(2)\n",
      "memory usage: 34.9+ MB\n"
     ]
    }
   ],
   "source": [
    "qa_data_all = data[['question', 'answer']]\n",
    "qa_data_all.info()"
   ]
  },
  {
   "cell_type": "code",
   "execution_count": 23,
   "metadata": {},
   "outputs": [],
   "source": [
    "qa_data_all.to_csv('../../data/healthatp_qa_all.csv')"
   ]
  },
  {
   "cell_type": "code",
   "execution_count": 25,
   "metadata": {},
   "outputs": [],
   "source": [
    "qa_data_30 = data\n",
    "qa_data_30 = qa_data_30[(qa_data_30.answer_len < 30) & (qa_data_30.question_len < 30)]\n",
    "qa_data_30 = qa_data_30[['question', 'answer']]\n",
    "qa_data_30.to_csv('../../data/healthatp_qa_30.csv')"
   ]
  },
  {
   "cell_type": "code",
   "execution_count": 28,
   "metadata": {},
   "outputs": [
    {
     "data": {
      "text/html": [
       "<div>\n",
       "<style scoped>\n",
       "    .dataframe tbody tr th:only-of-type {\n",
       "        vertical-align: middle;\n",
       "    }\n",
       "\n",
       "    .dataframe tbody tr th {\n",
       "        vertical-align: top;\n",
       "    }\n",
       "\n",
       "    .dataframe thead th {\n",
       "        text-align: right;\n",
       "    }\n",
       "</style>\n",
       "<table border=\"1\" class=\"dataframe\">\n",
       "  <thead>\n",
       "    <tr style=\"text-align: right;\">\n",
       "      <th></th>\n",
       "      <th>question</th>\n",
       "      <th>answer</th>\n",
       "    </tr>\n",
       "  </thead>\n",
       "  <tbody>\n",
       "    <tr>\n",
       "      <th>240541</th>\n",
       "      <td>I have to many small scars that are caused due to nail. I have also brownish dots on my cheek from childhood. How to get rid from these?</td>\n",
       "      <td>Pigmentation. try Aveeno (oatmeal) Clear Complexion  cream for a month, It may help, Avoid sun light, uses a sun screen if you live in sunny area.</td>\n",
       "    </tr>\n",
       "    <tr>\n",
       "      <th>2225730</th>\n",
       "      <td>Are there other diseases like behcet's?</td>\n",
       "      <td>Yes. Behcet's is sometimes considered as a form of vasculitis, but shares symptoms with collagen vascular disease.</td>\n",
       "    </tr>\n",
       "    <tr>\n",
       "      <th>2128037</th>\n",
       "      <td>Pressure eye pains headache dizziness. Eye dr. Found nothing antibiotics didn't help nasonex didn't help. What's going on? Eyelids don't stay closed</td>\n",
       "      <td>MD. Hard to say from here. Best to see your MD for evaluation.</td>\n",
       "    </tr>\n",
       "    <tr>\n",
       "      <th>218951</th>\n",
       "      <td>All of sudden my poop turned to a light gray color but when i wiped it was dark green. I have no other symptoms fever/pain. Should i be concerned?</td>\n",
       "      <td>These are generally normal variations, especially in the absence of other symptoms. If you have chronic diarrhea have the issue evaluated.</td>\n",
       "    </tr>\n",
       "    <tr>\n",
       "      <th>432599</th>\n",
       "      <td>What should I do in wrist sprain?</td>\n",
       "      <td>Sprain . Elevation, ice , anti inflammatory  and protective brace.  Must be sure that there is not a fracture as source i'd pain.</td>\n",
       "    </tr>\n",
       "    <tr>\n",
       "      <th>630803</th>\n",
       "      <td>Why is my period skipping every other month?</td>\n",
       "      <td>Not normal. You should discuss this with your dr.  Could be hormonal causes such as thyroid disease or pcos.  Ask your dr to do homone testing.</td>\n",
       "    </tr>\n",
       "    <tr>\n",
       "      <th>123670</th>\n",
       "      <td>Can you tell me how is physostigmine synthesized?</td>\n",
       "      <td>By Methylation of Tryptamine.</td>\n",
       "    </tr>\n",
       "    <tr>\n",
       "      <th>1319163</th>\n",
       "      <td>What is the normal range for blood pressure in a child 10-11 years old?</td>\n",
       "      <td>Somewhere around 100-110/60-70. With increasing weights in children, we're seeing those numbers creep up a bit though.</td>\n",
       "    </tr>\n",
       "    <tr>\n",
       "      <th>1944691</th>\n",
       "      <td>What is the difference between colonscopy and abdomen ultra sound?</td>\n",
       "      <td>Colonoscopy sees the inside of your colon, an us shows the architecture of the organs (usually the solid organs) from its surface.</td>\n",
       "    </tr>\n",
       "    <tr>\n",
       "      <th>556965</th>\n",
       "      <td>Hi .My dad is not able to bent his leg properly complaints and feels his leg warm internally.</td>\n",
       "      <td>This is an emergency and he needs to be seen at the hospital urgently.</td>\n",
       "    </tr>\n",
       "    <tr>\n",
       "      <th>698415</th>\n",
       "      <td>Are there any home remedies for tooth nerve pain?</td>\n",
       "      <td>Sorry, no. There is no way for you to perform dentistry at home, which would of course remedy the situation. Please call a local dentist for an appointment.</td>\n",
       "    </tr>\n",
       "    <tr>\n",
       "      <th>2133431</th>\n",
       "      <td>Hi, I've noticed a straight dark gray line on the top of my left big toe I would like to know what could be the cause of this?</td>\n",
       "      <td>Or the toe?</td>\n",
       "    </tr>\n",
       "    <tr>\n",
       "      <th>379099</th>\n",
       "      <td>I am breastfeeding and work in oncology. Is it safe to administer  chemotherapy while breast feeding ?</td>\n",
       "      <td>As long as you take proper precautions when handling chemo, including proper garb, gown, gloves and handling techniques, you should be fine.</td>\n",
       "    </tr>\n",
       "    <tr>\n",
       "      <th>246407</th>\n",
       "      <td>Can you tell me how to get rid of this fungal infection on my skin?</td>\n",
       "      <td>Antifungal. topical medications can be used for this purpose. Are you sure it is a fungal infection?</td>\n",
       "    </tr>\n",
       "    <tr>\n",
       "      <th>1658904</th>\n",
       "      <td>How can I flush my system from meth?</td>\n",
       "      <td>Effective way to get the meth out of your system is to stop using.</td>\n",
       "    </tr>\n",
       "    <tr>\n",
       "      <th>934357</th>\n",
       "      <td>My t waves in my EKG were upside down in one part. But the rest of it looked fine, does that mean heart attack?</td>\n",
       "      <td>T waves alone do not mean heart attack. You need to see the whole ECG. T waves absent other abnormalities are quite nonspecific.</td>\n",
       "    </tr>\n",
       "    <tr>\n",
       "      <th>1566617</th>\n",
       "      <td>When are there side effects of docusate sodium?</td>\n",
       "      <td>GI mostly, . Can cause diarrhea, cramps, elctrolyte (blood chemistry) abnormalities, rarely rash or throat irritation. Side effects within 1-3 days.</td>\n",
       "    </tr>\n",
       "    <tr>\n",
       "      <th>856158</th>\n",
       "      <td>My baby tends to move more when im lying on my right side rather than left. Is this ok? Im almost 32 weeks pregnant now?</td>\n",
       "      <td>Yes</td>\n",
       "    </tr>\n",
       "    <tr>\n",
       "      <th>2234656</th>\n",
       "      <td>I see a pices of hair on my hand every morining when I massage with water. What is the reason? What can I do?</td>\n",
       "      <td>Hair loss. It is normal to lose hair every day while new hair is manufactured.</td>\n",
       "    </tr>\n",
       "    <tr>\n",
       "      <th>1483335</th>\n",
       "      <td>Can I use cipro (ciprofloxacin) with viagara?</td>\n",
       "      <td>Yes, you can use Cipro (ciprofloxacin) and Viagra together.</td>\n",
       "    </tr>\n",
       "    <tr>\n",
       "      <th>1520674</th>\n",
       "      <td>Hi docs, would tylenol (acetaminophen) help a sore arm from a shot?</td>\n",
       "      <td>This or nsaid's should help with the pain.</td>\n",
       "    </tr>\n",
       "    <tr>\n",
       "      <th>2255646</th>\n",
       "      <td>Most recent labs: wbc-12.6 rbc-4.90 hemoglobin 10.3 rdw-16.1 mchc30.9 mch-23.7 mcv-73 ferritin, serum-14 iron saturation-5 iron, serum-19?</td>\n",
       "      <td>Iron deficiency. These results are diagnostic of iron deficiency anemia, which is usually due to excessive blood loss.  In menstruating women, it's typically a result of heavy menstrual bleeding.</td>\n",
       "    </tr>\n",
       "    <tr>\n",
       "      <th>1106322</th>\n",
       "      <td>On an u/s,  does follicles show up before or after ovulating ?</td>\n",
       "      <td>You can see a growing follicle before ovulation. After ovulation the remnant of the follicle may also be seen on ultrasound (the corpus luteum).</td>\n",
       "    </tr>\n",
       "    <tr>\n",
       "      <th>1550068</th>\n",
       "      <td>How do you use ear drops? They leak out.</td>\n",
       "      <td>Lay down. Instill the drops and then lay on your side with that ear up for 5 minutes.</td>\n",
       "    </tr>\n",
       "    <tr>\n",
       "      <th>2232570</th>\n",
       "      <td>My mother is 54 year old , 5.2feet height, 80kg weighted Asian lady complaining pain at her feet and hands with swelling, kindly give me remeady?</td>\n",
       "      <td>It sounds like she may be developing arthritis.</td>\n",
       "    </tr>\n",
       "    <tr>\n",
       "      <th>603082</th>\n",
       "      <td>How is the diagnosis of reactive airway disorder made in children?</td>\n",
       "      <td>A child who comes in with an airway obstruction that responds to bronchodilators (like albuterol) likely has rad.</td>\n",
       "    </tr>\n",
       "    <tr>\n",
       "      <th>1982833</th>\n",
       "      <td>Where do I go to get a lower body lift done? At a plastic surgeon?</td>\n",
       "      <td>Plastic Surgeon. Plastic surgeons developed this procedure and are the experts in performing it.  Find someone who does a lot of post weight loss surgery.</td>\n",
       "    </tr>\n",
       "    <tr>\n",
       "      <th>2223069</th>\n",
       "      <td>What are the ways to control vasovagal attacks?</td>\n",
       "      <td>Sufficient hydration is first line. If this is adequate then low dose beta blockers.  Reevaluate after.</td>\n",
       "    </tr>\n",
       "    <tr>\n",
       "      <th>626597</th>\n",
       "      <td>I am having a strange fluttering sensation in my lower left abdomen. It started with my menstral cycle and has been happening every few minutes.</td>\n",
       "      <td>Crmaps. As the uterus cramps, some people experience pain, spasms, or fluttering. It could be due to those causes.</td>\n",
       "    </tr>\n",
       "    <tr>\n",
       "      <th>313073</th>\n",
       "      <td>I have stomach cramps, increased vaginal discharge, urinate more, with a little nausea. Could I be pregnant?</td>\n",
       "      <td>Possibly. A home pregnancy test will help rule that out.</td>\n",
       "    </tr>\n",
       "    <tr>\n",
       "      <th>590645</th>\n",
       "      <td>What does it mean when you have swollen tonsils plus some stiff neck?</td>\n",
       "      <td>Meningitis needs a doctors evaluation.</td>\n",
       "    </tr>\n",
       "    <tr>\n",
       "      <th>1689341</th>\n",
       "      <td>My eyes are blue and they change to green why is this? Also there is a yellow ring permantly around them, what is this also? Thanks</td>\n",
       "      <td>This is possible and it needs to be checked out soon. Have either your primary care doctor or ophthalmologist see you soon.</td>\n",
       "    </tr>\n",
       "    <tr>\n",
       "      <th>1740979</th>\n",
       "      <td>What do you think I should do after eating too much ice cream?</td>\n",
       "      <td>Stop. stop.</td>\n",
       "    </tr>\n",
       "    <tr>\n",
       "      <th>332929</th>\n",
       "      <td>My upper right back has been numb and my right arm gets tingly at random times. It hurts constantly even when i'm laying down. ?</td>\n",
       "      <td>The symptoms you mention MAY be heart related or pinched nerve or other things. Your doctor will let you know.  Please see your doc.  Peace and good health.</td>\n",
       "    </tr>\n",
       "    <tr>\n",
       "      <th>724336</th>\n",
       "      <td>Really sore pulse on side of my neck. Gets very painful?</td>\n",
       "      <td>Pulsating pain. If you have some growth (for lack of a better description) that is pulsating, seek immediate medical attention.</td>\n",
       "    </tr>\n",
       "    <tr>\n",
       "      <th>178154</th>\n",
       "      <td>How do I recover from patellar tendinitis? Is cortisone a cure?</td>\n",
       "      <td>No. No steroid near this tendon , stretch and strengthen hams and quads- will improve over next few weeks with activity modification .</td>\n",
       "    </tr>\n",
       "    <tr>\n",
       "      <th>731813</th>\n",
       "      <td>I'm taking Zofran (ondansetron) for morning sickness but it's causing constipation, what can I do to treat the constipation from this?</td>\n",
       "      <td>Try a stool softener. Many brands such as colace® correctol soft gels® diocto® ex-lax stool softener® fleet sof-lax® phillips' liqui-gels® surfak®.</td>\n",
       "    </tr>\n",
       "    <tr>\n",
       "      <th>1306951</th>\n",
       "      <td>Is calcium constipating?</td>\n",
       "      <td>Yes. Calcium can cause constipation.  One of the symptoms of hypercalcemia (high calcium in blood) is constipation.</td>\n",
       "    </tr>\n",
       "    <tr>\n",
       "      <th>1447389</th>\n",
       "      <td>How dangerous is a surgery for a broken hip?</td>\n",
       "      <td>Depends on the preop health of the patient. In most cases the benefits of hip fracture repair far outweigh the risks.</td>\n",
       "    </tr>\n",
       "    <tr>\n",
       "      <th>1830346</th>\n",
       "      <td>Dry eyes at high level, redness, harden  eyes,  awkwards eyes, headachs, pain in eyes, evaporate tears instanly doctors, tell me symptoms of dry eye.</td>\n",
       "      <td>Symptoms of dry eye include a foreign body sensation, itching and blurred vision among others. Please see an eye doctor this week for an evaluation.  Good luck.</td>\n",
       "    </tr>\n",
       "    <tr>\n",
       "      <th>1616387</th>\n",
       "      <td>Sudden inability to concentrate?  Can caffeine or medications do that?</td>\n",
       "      <td>Possible. Also many medications can do that, especially sedatives taken during the day.</td>\n",
       "    </tr>\n",
       "    <tr>\n",
       "      <th>376812</th>\n",
       "      <td>I have a few hard spots in my breast and one kinda soft but lumpy i'm 20 could it be cancer I've been really sick lately?</td>\n",
       "      <td>Unlikely to be cancer; however, see your gynecologist or breast surgeon to be sure.</td>\n",
       "    </tr>\n",
       "    <tr>\n",
       "      <th>1047109</th>\n",
       "      <td>What you use to stop a burning feeling in your nose and throat?</td>\n",
       "      <td>Burning feelings in nose and throat are not normal unless you have other allergic symptoms. Please provide more information to help us help you.</td>\n",
       "    </tr>\n",
       "    <tr>\n",
       "      <th>735192</th>\n",
       "      <td>Is it normal spitting up blood and mucus together when you have bronchitis?</td>\n",
       "      <td>Could be. Inflammation occurs and coughing with blood tinged mucus is common.  Assure you get properly treated and have good follow-up care.  Best wishes.</td>\n",
       "    </tr>\n",
       "    <tr>\n",
       "      <th>2058323</th>\n",
       "      <td>What is the definition or description of: Blunted affect?</td>\n",
       "      <td>Blunted affect =  reduced emotional reactivity as shown through verbal and nonverbal means.</td>\n",
       "    </tr>\n",
       "    <tr>\n",
       "      <th>1732485</th>\n",
       "      <td>Could I possibly have some type of colitis? I don't feel good, have diarrhoea, poops bloody and stringy, I have real bad cramps</td>\n",
       "      <td>Yes can be. See your doctor and need to see a gastroenterologist.</td>\n",
       "    </tr>\n",
       "    <tr>\n",
       "      <th>491912</th>\n",
       "      <td>What do you advise if I stubed my big toe, is it broken?</td>\n",
       "      <td>Need an xray to know. If fractured.</td>\n",
       "    </tr>\n",
       "    <tr>\n",
       "      <th>2013492</th>\n",
       "      <td>Whats wrong with me please help? I am having difficulty finding words and only 68.</td>\n",
       "      <td>Finding words. It can be TIA or impending stroke.</td>\n",
       "    </tr>\n",
       "    <tr>\n",
       "      <th>2022406</th>\n",
       "      <td>I believe i'm depressed-who do I call? Psychologist, psychiatrist, msw?</td>\n",
       "      <td>Best trained to diagnose &amp; treat--depending on the practice he or she may refer u to a therapist.</td>\n",
       "    </tr>\n",
       "    <tr>\n",
       "      <th>1103377</th>\n",
       "      <td>Is a likelihood to get ptsd genetic?</td>\n",
       "      <td>No. it is environmentally induced by severe trauma.</td>\n",
       "    </tr>\n",
       "  </tbody>\n",
       "</table>\n",
       "</div>"
      ],
      "text/plain": [
       "                                                                                                                                                      question  \\\n",
       "240541                I have to many small scars that are caused due to nail. I have also brownish dots on my cheek from childhood. How to get rid from these?   \n",
       "2225730                                                                                                                Are there other diseases like behcet's?   \n",
       "2128037   Pressure eye pains headache dizziness. Eye dr. Found nothing antibiotics didn't help nasonex didn't help. What's going on? Eyelids don't stay closed   \n",
       "218951      All of sudden my poop turned to a light gray color but when i wiped it was dark green. I have no other symptoms fever/pain. Should i be concerned?   \n",
       "432599                                                                                                                       What should I do in wrist sprain?   \n",
       "630803                                                                                                            Why is my period skipping every other month?   \n",
       "123670                                                                                                       Can you tell me how is physostigmine synthesized?   \n",
       "1319163                                                                                What is the normal range for blood pressure in a child 10-11 years old?   \n",
       "1944691                                                                                     What is the difference between colonscopy and abdomen ultra sound?   \n",
       "556965                                                           Hi .My dad is not able to bent his leg properly complaints and feels his leg warm internally.   \n",
       "698415                                                                                                       Are there any home remedies for tooth nerve pain?   \n",
       "2133431                         Hi, I've noticed a straight dark gray line on the top of my left big toe I would like to know what could be the cause of this?   \n",
       "379099                                                  I am breastfeeding and work in oncology. Is it safe to administer  chemotherapy while breast feeding ?   \n",
       "246407                                                                                     Can you tell me how to get rid of this fungal infection on my skin?   \n",
       "1658904                                                                                                                   How can I flush my system from meth?   \n",
       "934357                                         My t waves in my EKG were upside down in one part. But the rest of it looked fine, does that mean heart attack?   \n",
       "1566617                                                                                                        When are there side effects of docusate sodium?   \n",
       "856158                                My baby tends to move more when im lying on my right side rather than left. Is this ok? Im almost 32 weeks pregnant now?   \n",
       "2234656                                          I see a pices of hair on my hand every morining when I massage with water. What is the reason? What can I do?   \n",
       "1483335                                                                                                          Can I use cipro (ciprofloxacin) with viagara?   \n",
       "1520674                                                                                    Hi docs, would tylenol (acetaminophen) help a sore arm from a shot?   \n",
       "2255646             Most recent labs: wbc-12.6 rbc-4.90 hemoglobin 10.3 rdw-16.1 mchc30.9 mch-23.7 mcv-73 ferritin, serum-14 iron saturation-5 iron, serum-19?   \n",
       "1106322                                                                                         On an u/s,  does follicles show up before or after ovulating ?   \n",
       "1550068                                                                                                               How do you use ear drops? They leak out.   \n",
       "2232570      My mother is 54 year old , 5.2feet height, 80kg weighted Asian lady complaining pain at her feet and hands with swelling, kindly give me remeady?   \n",
       "603082                                                                                      How is the diagnosis of reactive airway disorder made in children?   \n",
       "1982833                                                                                     Where do I go to get a lower body lift done? At a plastic surgeon?   \n",
       "2223069                                                                                                        What are the ways to control vasovagal attacks?   \n",
       "626597        I am having a strange fluttering sensation in my lower left abdomen. It started with my menstral cycle and has been happening every few minutes.   \n",
       "313073                                            I have stomach cramps, increased vaginal discharge, urinate more, with a little nausea. Could I be pregnant?   \n",
       "590645                                                                                   What does it mean when you have swollen tonsils plus some stiff neck?   \n",
       "1689341                    My eyes are blue and they change to green why is this? Also there is a yellow ring permantly around them, what is this also? Thanks   \n",
       "1740979                                                                                         What do you think I should do after eating too much ice cream?   \n",
       "332929                        My upper right back has been numb and my right arm gets tingly at random times. It hurts constantly even when i'm laying down. ?   \n",
       "724336                                                                                                Really sore pulse on side of my neck. Gets very painful?   \n",
       "178154                                                                                         How do I recover from patellar tendinitis? Is cortisone a cure?   \n",
       "731813                  I'm taking Zofran (ondansetron) for morning sickness but it's causing constipation, what can I do to treat the constipation from this?   \n",
       "1306951                                                                                                                               Is calcium constipating?   \n",
       "1447389                                                                                                           How dangerous is a surgery for a broken hip?   \n",
       "1830346  Dry eyes at high level, redness, harden  eyes,  awkwards eyes, headachs, pain in eyes, evaporate tears instanly doctors, tell me symptoms of dry eye.   \n",
       "1616387                                                                                 Sudden inability to concentrate?  Can caffeine or medications do that?   \n",
       "376812                               I have a few hard spots in my breast and one kinda soft but lumpy i'm 20 could it be cancer I've been really sick lately?   \n",
       "1047109                                                                                        What you use to stop a burning feeling in your nose and throat?   \n",
       "735192                                                                             Is it normal spitting up blood and mucus together when you have bronchitis?   \n",
       "2058323                                                                                              What is the definition or description of: Blunted affect?   \n",
       "1732485                        Could I possibly have some type of colitis? I don't feel good, have diarrhoea, poops bloody and stringy, I have real bad cramps   \n",
       "491912                                                                                                What do you advise if I stubed my big toe, is it broken?   \n",
       "2013492                                                                     Whats wrong with me please help? I am having difficulty finding words and only 68.   \n",
       "2022406                                                                                I believe i'm depressed-who do I call? Psychologist, psychiatrist, msw?   \n",
       "1103377                                                                                                                   Is a likelihood to get ptsd genetic?   \n",
       "\n",
       "                                                                                                                                                                                                      answer  \n",
       "240541                                                    Pigmentation. try Aveeno (oatmeal) Clear Complexion  cream for a month, It may help, Avoid sun light, uses a sun screen if you live in sunny area.  \n",
       "2225730                                                                                   Yes. Behcet's is sometimes considered as a form of vasculitis, but shares symptoms with collagen vascular disease.  \n",
       "2128037                                                                                                                                       MD. Hard to say from here. Best to see your MD for evaluation.  \n",
       "218951                                                            These are generally normal variations, especially in the absence of other symptoms. If you have chronic diarrhea have the issue evaluated.  \n",
       "432599                                                                     Sprain . Elevation, ice , anti inflammatory  and protective brace.  Must be sure that there is not a fracture as source i'd pain.  \n",
       "630803                                                       Not normal. You should discuss this with your dr.  Could be hormonal causes such as thyroid disease or pcos.  Ask your dr to do homone testing.  \n",
       "123670                                                                                                                                                                         By Methylation of Tryptamine.  \n",
       "1319163                                                                               Somewhere around 100-110/60-70. With increasing weights in children, we're seeing those numbers creep up a bit though.  \n",
       "1944691                                                                   Colonoscopy sees the inside of your colon, an us shows the architecture of the organs (usually the solid organs) from its surface.  \n",
       "556965                                                                                                                                This is an emergency and he needs to be seen at the hospital urgently.  \n",
       "698415                                          Sorry, no. There is no way for you to perform dentistry at home, which would of course remedy the situation. Please call a local dentist for an appointment.  \n",
       "2133431                                                                                                                                                                                          Or the toe?  \n",
       "379099                                                          As long as you take proper precautions when handling chemo, including proper garb, gown, gloves and handling techniques, you should be fine.  \n",
       "246407                                                                                                  Antifungal. topical medications can be used for this purpose. Are you sure it is a fungal infection?  \n",
       "1658904                                                                                                                                   Effective way to get the meth out of your system is to stop using.  \n",
       "934357                                                                      T waves alone do not mean heart attack. You need to see the whole ECG. T waves absent other abnormalities are quite nonspecific.  \n",
       "1566617                                                 GI mostly, . Can cause diarrhea, cramps, elctrolyte (blood chemistry) abnormalities, rarely rash or throat irritation. Side effects within 1-3 days.  \n",
       "856158                                                                                                                                                                                                   Yes  \n",
       "2234656                                                                                                                       Hair loss. It is normal to lose hair every day while new hair is manufactured.  \n",
       "1483335                                                                                                                                          Yes, you can use Cipro (ciprofloxacin) and Viagra together.  \n",
       "1520674                                                                                                                                                           This or nsaid's should help with the pain.  \n",
       "2255646  Iron deficiency. These results are diagnostic of iron deficiency anemia, which is usually due to excessive blood loss.  In menstruating women, it's typically a result of heavy menstrual bleeding.  \n",
       "1106322                                                     You can see a growing follicle before ovulation. After ovulation the remnant of the follicle may also be seen on ultrasound (the corpus luteum).  \n",
       "1550068                                                                                                                Lay down. Instill the drops and then lay on your side with that ear up for 5 minutes.  \n",
       "2232570                                                                                                                                                      It sounds like she may be developing arthritis.  \n",
       "603082                                                                                     A child who comes in with an airway obstruction that responds to bronchodilators (like albuterol) likely has rad.  \n",
       "1982833                                           Plastic Surgeon. Plastic surgeons developed this procedure and are the experts in performing it.  Find someone who does a lot of post weight loss surgery.  \n",
       "2223069                                                                                              Sufficient hydration is first line. If this is adequate then low dose beta blockers.  Reevaluate after.  \n",
       "626597                                                                                    Crmaps. As the uterus cramps, some people experience pain, spasms, or fluttering. It could be due to those causes.  \n",
       "313073                                                                                                                                              Possibly. A home pregnancy test will help rule that out.  \n",
       "590645                                                                                                                                                                Meningitis needs a doctors evaluation.  \n",
       "1689341                                                                          This is possible and it needs to be checked out soon. Have either your primary care doctor or ophthalmologist see you soon.  \n",
       "1740979                                                                                                                                                                                          Stop. stop.  \n",
       "332929                                          The symptoms you mention MAY be heart related or pinched nerve or other things. Your doctor will let you know.  Please see your doc.  Peace and good health.  \n",
       "724336                                                                       Pulsating pain. If you have some growth (for lack of a better description) that is pulsating, seek immediate medical attention.  \n",
       "178154                                                                No. No steroid near this tendon , stretch and strengthen hams and quads- will improve over next few weeks with activity modification .  \n",
       "731813                                                   Try a stool softener. Many brands such as colace® correctol soft gels® diocto® ex-lax stool softener® fleet sof-lax® phillips' liqui-gels® surfak®.  \n",
       "1306951                                                                                  Yes. Calcium can cause constipation.  One of the symptoms of hypercalcemia (high calcium in blood) is constipation.  \n",
       "1447389                                                                                Depends on the preop health of the patient. In most cases the benefits of hip fracture repair far outweigh the risks.  \n",
       "1830346                                     Symptoms of dry eye include a foreign body sensation, itching and blurred vision among others. Please see an eye doctor this week for an evaluation.  Good luck.  \n",
       "1616387                                                                                                              Possible. Also many medications can do that, especially sedatives taken during the day.  \n",
       "376812                                                                                                                   Unlikely to be cancer; however, see your gynecologist or breast surgeon to be sure.  \n",
       "1047109                                                     Burning feelings in nose and throat are not normal unless you have other allergic symptoms. Please provide more information to help us help you.  \n",
       "735192                                            Could be. Inflammation occurs and coughing with blood tinged mucus is common.  Assure you get properly treated and have good follow-up care.  Best wishes.  \n",
       "2058323                                                                                                          Blunted affect =  reduced emotional reactivity as shown through verbal and nonverbal means.  \n",
       "1732485                                                                                                                                    Yes can be. See your doctor and need to see a gastroenterologist.  \n",
       "491912                                                                                                                                                                   Need an xray to know. If fractured.  \n",
       "2013492                                                                                                                                                    Finding words. It can be TIA or impending stroke.  \n",
       "2022406                                                                                                    Best trained to diagnose & treat--depending on the practice he or she may refer u to a therapist.  \n",
       "1103377                                                                                                                                                  No. it is environmentally induced by severe trauma.  "
      ]
     },
     "execution_count": 28,
     "metadata": {},
     "output_type": "execute_result"
    }
   ],
   "source": [
    "qa_data_30.sample(n=50).head(50)"
   ]
  },
  {
   "cell_type": "code",
   "execution_count": 32,
   "metadata": {},
   "outputs": [],
   "source": [
    "qa_data_10 = data[(data.answer_len < 20) & (data.question_len < 20)]"
   ]
  },
  {
   "cell_type": "code",
   "execution_count": 33,
   "metadata": {},
   "outputs": [
    {
     "name": "stdout",
     "output_type": "stream",
     "text": [
      "<class 'pandas.core.frame.DataFrame'>\n",
      "Int64Index: 289229 entries, 9 to 2287916\n",
      "Data columns (total 12 columns):\n",
      " #   Column              Non-Null Count   Dtype   \n",
      "---  ------              --------------   -----   \n",
      " 0   doctor_name         289229 non-null  object  \n",
      " 1   doctor_profession   288838 non-null  object  \n",
      " 2   short_answer        153069 non-null  object  \n",
      " 3   answer              289229 non-null  object  \n",
      " 4   main_category       289229 non-null  object  \n",
      " 5   question            289229 non-null  object  \n",
      " 6   related_topics      280740 non-null  object  \n",
      " 7   sub_category        289229 non-null  object  \n",
      " 8   question_len        289229 non-null  int64   \n",
      " 9   answer_len          289229 non-null  int64   \n",
      " 10  question_len_group  289229 non-null  category\n",
      " 11  answer_len_group    289229 non-null  category\n",
      "dtypes: category(2), int64(2), object(8)\n",
      "memory usage: 24.8+ MB\n"
     ]
    }
   ],
   "source": [
    "qa_data_10.info()"
   ]
  },
  {
   "cell_type": "code",
   "execution_count": 34,
   "metadata": {},
   "outputs": [],
   "source": [
    "qa_data_10.to_csv('../../data/healthtap_qa_20.csv')"
   ]
  },
  {
   "cell_type": "code",
   "execution_count": 35,
   "metadata": {},
   "outputs": [],
   "source": [
    "qa_data_10 = qa_data_10[['question', 'answer']]"
   ]
  },
  {
   "cell_type": "code",
   "execution_count": 38,
   "metadata": {},
   "outputs": [],
   "source": [
    "qa_data_10.to_csv('../../data/healthtap_qa_20.csv')"
   ]
  },
  {
   "cell_type": "code",
   "execution_count": null,
   "metadata": {},
   "outputs": [],
   "source": []
  }
 ],
 "metadata": {
  "kernelspec": {
   "display_name": "Python 3",
   "language": "python",
   "name": "python3"
  },
  "language_info": {
   "codemirror_mode": {
    "name": "ipython",
    "version": 3
   },
   "file_extension": ".py",
   "mimetype": "text/x-python",
   "name": "python",
   "nbconvert_exporter": "python",
   "pygments_lexer": "ipython3",
   "version": "3.8.3"
  }
 },
 "nbformat": 4,
 "nbformat_minor": 4
}
