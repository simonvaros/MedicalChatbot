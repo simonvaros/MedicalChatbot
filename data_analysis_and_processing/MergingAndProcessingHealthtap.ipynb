{
 "cells": [
  {
   "cell_type": "code",
   "execution_count": 1,
   "metadata": {},
   "outputs": [],
   "source": [
    "import pandas as pd\n",
    "import numpy as np\n",
    "import matplotlib\n",
    "import json\n",
    "from pandas import json_normalize\n",
    "from IPython.display import display"
   ]
  },
  {
   "cell_type": "code",
   "execution_count": 2,
   "metadata": {},
   "outputs": [],
   "source": [
    "data1 = pd.read_csv('../../data/3 parts/healthtap_1.csv', sep=',', index_col=0)\n",
    "data2 = pd.read_csv('../../data/3 parts/healthtap_2.csv', sep=',', index_col=0)\n",
    "data3 = pd.read_csv('../../data/3 parts/healthtap_3.csv', sep=',', index_col=0)"
   ]
  },
  {
   "cell_type": "code",
   "execution_count": 8,
   "metadata": {},
   "outputs": [
    {
     "name": "stdout",
     "output_type": "stream",
     "text": [
      "<class 'pandas.core.frame.DataFrame'>\n",
      "Int64Index: 500000 entries, 0 to 499999\n",
      "Data columns (total 7 columns):\n",
      " #   Column          Non-Null Count   Dtype \n",
      "---  ------          --------------   ----- \n",
      " 0   Unnamed: 0.1    500000 non-null  int64 \n",
      " 1   answers         500000 non-null  object\n",
      " 2   main_category   500000 non-null  object\n",
      " 3   question        500000 non-null  object\n",
      " 4   question_url    500000 non-null  object\n",
      " 5   related_topics  500000 non-null  object\n",
      " 6   sub_category    500000 non-null  object\n",
      "dtypes: int64(1), object(6)\n",
      "memory usage: 30.5+ MB\n"
     ]
    },
    {
     "data": {
      "text/plain": [
       "None"
      ]
     },
     "metadata": {},
     "output_type": "display_data"
    },
    {
     "name": "stdout",
     "output_type": "stream",
     "text": [
      "<class 'pandas.core.frame.DataFrame'>\n",
      "Int64Index: 500000 entries, 500000 to 999999\n",
      "Data columns (total 7 columns):\n",
      " #   Column          Non-Null Count   Dtype \n",
      "---  ------          --------------   ----- \n",
      " 0   Unnamed: 0.1    500000 non-null  int64 \n",
      " 1   answers         500000 non-null  object\n",
      " 2   main_category   500000 non-null  object\n",
      " 3   question        500000 non-null  object\n",
      " 4   question_url    500000 non-null  object\n",
      " 5   related_topics  500000 non-null  object\n",
      " 6   sub_category    500000 non-null  object\n",
      "dtypes: int64(1), object(6)\n",
      "memory usage: 30.5+ MB\n"
     ]
    },
    {
     "data": {
      "text/plain": [
       "None"
      ]
     },
     "metadata": {},
     "output_type": "display_data"
    },
    {
     "name": "stdout",
     "output_type": "stream",
     "text": [
      "<class 'pandas.core.frame.DataFrame'>\n",
      "Int64Index: 605229 entries, 1000000 to 1605228\n",
      "Data columns (total 7 columns):\n",
      " #   Column          Non-Null Count   Dtype \n",
      "---  ------          --------------   ----- \n",
      " 0   Unnamed: 0.1    605229 non-null  int64 \n",
      " 1   answers         604846 non-null  object\n",
      " 2   main_category   605229 non-null  object\n",
      " 3   question        605039 non-null  object\n",
      " 4   question_url    605228 non-null  object\n",
      " 5   related_topics  561874 non-null  object\n",
      " 6   sub_category    605228 non-null  object\n",
      "dtypes: int64(1), object(6)\n",
      "memory usage: 36.9+ MB\n"
     ]
    },
    {
     "data": {
      "text/plain": [
       "None"
      ]
     },
     "metadata": {},
     "output_type": "display_data"
    }
   ],
   "source": [
    "display(data1.info())\n",
    "display(data2.info())\n",
    "display(data3.info())"
   ]
  },
  {
   "cell_type": "code",
   "execution_count": 3,
   "metadata": {},
   "outputs": [],
   "source": [
    "data = pd.concat([data1, data2, data3])"
   ]
  },
  {
   "cell_type": "code",
   "execution_count": 4,
   "metadata": {},
   "outputs": [
    {
     "name": "stdout",
     "output_type": "stream",
     "text": [
      "<class 'pandas.core.frame.DataFrame'>\n",
      "Int64Index: 1605229 entries, 0 to 1605228\n",
      "Data columns (total 7 columns):\n",
      " #   Column          Non-Null Count    Dtype \n",
      "---  ------          --------------    ----- \n",
      " 0   Unnamed: 0.1    1605229 non-null  int64 \n",
      " 1   answers         1604846 non-null  object\n",
      " 2   main_category   1605229 non-null  object\n",
      " 3   question        1605039 non-null  object\n",
      " 4   question_url    1605228 non-null  object\n",
      " 5   related_topics  1561874 non-null  object\n",
      " 6   sub_category    1605228 non-null  object\n",
      "dtypes: int64(1), object(6)\n",
      "memory usage: 98.0+ MB\n"
     ]
    }
   ],
   "source": [
    "data.info()"
   ]
  },
  {
   "cell_type": "code",
   "execution_count": 31,
   "metadata": {},
   "outputs": [],
   "source": [
    "data = data[data.answers.notna()]"
   ]
  },
  {
   "cell_type": "code",
   "execution_count": 32,
   "metadata": {},
   "outputs": [
    {
     "name": "stdout",
     "output_type": "stream",
     "text": [
      "<class 'pandas.core.frame.DataFrame'>\n",
      "Int64Index: 1604846 entries, 0 to 1605228\n",
      "Data columns (total 7 columns):\n",
      " #   Column          Non-Null Count    Dtype \n",
      "---  ------          --------------    ----- \n",
      " 0   Unnamed: 0.1    1604846 non-null  int64 \n",
      " 1   answers         1604846 non-null  object\n",
      " 2   main_category   1604846 non-null  object\n",
      " 3   question        1604846 non-null  object\n",
      " 4   question_url    1604846 non-null  object\n",
      " 5   related_topics  1561874 non-null  object\n",
      " 6   sub_category    1604846 non-null  object\n",
      "dtypes: int64(1), object(6)\n",
      "memory usage: 98.0+ MB\n"
     ]
    }
   ],
   "source": [
    "data.info()"
   ]
  },
  {
   "cell_type": "code",
   "execution_count": 33,
   "metadata": {},
   "outputs": [
    {
     "data": {
      "text/plain": [
       "1604846"
      ]
     },
     "execution_count": 33,
     "metadata": {},
     "output_type": "execute_result"
    }
   ],
   "source": [
    "len(data.question_url.unique())"
   ]
  },
  {
   "cell_type": "code",
   "execution_count": 34,
   "metadata": {},
   "outputs": [],
   "source": [
    "data = data.drop(columns=['Unnamed: 0.1', 'question_url'])"
   ]
  },
  {
   "cell_type": "code",
   "execution_count": 35,
   "metadata": {},
   "outputs": [],
   "source": [
    "data.to_csv('../../data/healthtap_full.csv')"
   ]
  },
  {
   "cell_type": "code",
   "execution_count": 5,
   "metadata": {},
   "outputs": [],
   "source": [
    "question_ids = data.question_url.values"
   ]
  },
  {
   "cell_type": "code",
   "execution_count": 12,
   "metadata": {},
   "outputs": [
    {
     "data": {
      "text/plain": [
       "array(['/user_questions/1578652-like-5-yrs-ago-to-now-i-ve-had-some-reoccurring-itching-and-when-i-scratched-some-burning-n-vagina-n',\n",
       "       '/user_questions/812576-my-6-year-old-daughter-complains-about-vaginal-itching-and-discomfort-we-don-t-do-bubble-baths-wha',\n",
       "       '/user_questions/6976359-my-friend-is-experiencing-irritation-and-she-said-it-s-swollen-down-their-she-told-me-that-she-put',\n",
       "       ...,\n",
       "       '/user_questions/1489831-my-uterus-lining-measured-5mm-7-days-after-ovulation-is-this-too-thin-to-conceive-we-ve-been-tryin',\n",
       "       '/user_questions/192877-can-uterine-fibroids-be-cured-with-homeopathy',\n",
       "       '/user_questions/541055-i-have-a-discharge-coming-out-from-my-penis-probably-every-few-days-when-i-wake-up-i-got-checked-o'],\n",
       "      dtype=object)"
      ]
     },
     "execution_count": 12,
     "metadata": {},
     "output_type": "execute_result"
    }
   ],
   "source": [
    "question_ids"
   ]
  },
  {
   "cell_type": "code",
   "execution_count": 22,
   "metadata": {},
   "outputs": [],
   "source": [
    "import re \n",
    "def getNumberFromUrl(link):\n",
    "    if (type(link) != str):\n",
    "        return None\n",
    "    found = re.search('/[0-9]{1,}', link)\n",
    "    if found:\n",
    "        number = found.group(0)[1:]\n",
    "        return number\n",
    "    return None"
   ]
  },
  {
   "cell_type": "code",
   "execution_count": 17,
   "metadata": {},
   "outputs": [
    {
     "name": "stdout",
     "output_type": "stream",
     "text": [
      "<class 'pandas.core.frame.DataFrame'>\n",
      "Int64Index: 1605229 entries, 0 to 1605228\n",
      "Data columns (total 7 columns):\n",
      " #   Column          Non-Null Count    Dtype \n",
      "---  ------          --------------    ----- \n",
      " 0   Unnamed: 0.1    1605229 non-null  int64 \n",
      " 1   answers         1604846 non-null  object\n",
      " 2   main_category   1605229 non-null  object\n",
      " 3   question        1605039 non-null  object\n",
      " 4   question_url    1605228 non-null  object\n",
      " 5   related_topics  1561874 non-null  object\n",
      " 6   sub_category    1605228 non-null  object\n",
      "dtypes: int64(1), object(6)\n",
      "memory usage: 98.0+ MB\n"
     ]
    }
   ],
   "source": [
    "data.info()"
   ]
  },
  {
   "cell_type": "code",
   "execution_count": 23,
   "metadata": {},
   "outputs": [],
   "source": [
    "data['question_id'] = data.apply(lambda x: getNumberFromUrl(x['question_url']), axis=1)"
   ]
  },
  {
   "cell_type": "code",
   "execution_count": 24,
   "metadata": {},
   "outputs": [
    {
     "data": {
      "text/html": [
       "<div>\n",
       "<style scoped>\n",
       "    .dataframe tbody tr th:only-of-type {\n",
       "        vertical-align: middle;\n",
       "    }\n",
       "\n",
       "    .dataframe tbody tr th {\n",
       "        vertical-align: top;\n",
       "    }\n",
       "\n",
       "    .dataframe thead th {\n",
       "        text-align: right;\n",
       "    }\n",
       "</style>\n",
       "<table border=\"1\" class=\"dataframe\">\n",
       "  <thead>\n",
       "    <tr style=\"text-align: right;\">\n",
       "      <th></th>\n",
       "      <th>Unnamed: 0.1</th>\n",
       "      <th>answers</th>\n",
       "      <th>main_category</th>\n",
       "      <th>question</th>\n",
       "      <th>question_url</th>\n",
       "      <th>related_topics</th>\n",
       "      <th>sub_category</th>\n",
       "      <th>question_id</th>\n",
       "    </tr>\n",
       "  </thead>\n",
       "  <tbody>\n",
       "    <tr>\n",
       "      <th>0</th>\n",
       "      <td>0</td>\n",
       "      <td>[{'doctor_name': 'Dr. Glynis Ablon', 'doctor_p...</td>\n",
       "      <td>vagina</td>\n",
       "      <td>Like 5 yrs ago to now I've had some reoccurrin...</td>\n",
       "      <td>/user_questions/1578652-like-5-yrs-ago-to-now-...</td>\n",
       "      <td>['Does herpes cause burning?', 'Itching and bu...</td>\n",
       "      <td>vagina burning sensation</td>\n",
       "      <td>1578652</td>\n",
       "    </tr>\n",
       "    <tr>\n",
       "      <th>1</th>\n",
       "      <td>1</td>\n",
       "      <td>[{'doctor_name': 'Dr. Charlene Sojico', 'docto...</td>\n",
       "      <td>vagina</td>\n",
       "      <td>My 6 year old daughter complains about vaginal...</td>\n",
       "      <td>/user_questions/812576-my-6-year-old-daughter-...</td>\n",
       "      <td>['Vaginal itching', 'Convulsion', 'Female heal...</td>\n",
       "      <td>vagina burning sensation</td>\n",
       "      <td>812576</td>\n",
       "    </tr>\n",
       "    <tr>\n",
       "      <th>2</th>\n",
       "      <td>2</td>\n",
       "      <td>[{'doctor_name': 'Dr. Pierrette Mimi Poinsett'...</td>\n",
       "      <td>vagina</td>\n",
       "      <td>My Friend is experiencing irritation and she s...</td>\n",
       "      <td>/user_questions/6976359-my-friend-is-experienc...</td>\n",
       "      <td>['Vaginal irritation', 'Vaginitis', 'Female he...</td>\n",
       "      <td>vagina burning sensation</td>\n",
       "      <td>6976359</td>\n",
       "    </tr>\n",
       "    <tr>\n",
       "      <th>3</th>\n",
       "      <td>3</td>\n",
       "      <td>[{'doctor_name': 'Dr. Hunter Handsfield', 'doc...</td>\n",
       "      <td>vagina</td>\n",
       "      <td>My VG is itchy and feels irritated, no pain, n...</td>\n",
       "      <td>/user_questions/6731827-my-vg-is-itchy-and-fee...</td>\n",
       "      <td>['Candida die off itching', 'Burning itching b...</td>\n",
       "      <td>vagina burning sensation</td>\n",
       "      <td>6731827</td>\n",
       "    </tr>\n",
       "    <tr>\n",
       "      <th>4</th>\n",
       "      <td>4</td>\n",
       "      <td>[{'doctor_name': 'Dr. David Drewitz', 'doctor_...</td>\n",
       "      <td>vagina</td>\n",
       "      <td>My anus has been itchy and burning. Went away ...</td>\n",
       "      <td>/user_questions/759694-my-anus-has-been-itchy-...</td>\n",
       "      <td>['Blood after a bowel movement', 'Blood and mu...</td>\n",
       "      <td>vagina burning sensation</td>\n",
       "      <td>759694</td>\n",
       "    </tr>\n",
       "  </tbody>\n",
       "</table>\n",
       "</div>"
      ],
      "text/plain": [
       "   Unnamed: 0.1                                            answers  \\\n",
       "0             0  [{'doctor_name': 'Dr. Glynis Ablon', 'doctor_p...   \n",
       "1             1  [{'doctor_name': 'Dr. Charlene Sojico', 'docto...   \n",
       "2             2  [{'doctor_name': 'Dr. Pierrette Mimi Poinsett'...   \n",
       "3             3  [{'doctor_name': 'Dr. Hunter Handsfield', 'doc...   \n",
       "4             4  [{'doctor_name': 'Dr. David Drewitz', 'doctor_...   \n",
       "\n",
       "  main_category                                           question  \\\n",
       "0        vagina  Like 5 yrs ago to now I've had some reoccurrin...   \n",
       "1        vagina  My 6 year old daughter complains about vaginal...   \n",
       "2        vagina  My Friend is experiencing irritation and she s...   \n",
       "3        vagina  My VG is itchy and feels irritated, no pain, n...   \n",
       "4        vagina  My anus has been itchy and burning. Went away ...   \n",
       "\n",
       "                                        question_url  \\\n",
       "0  /user_questions/1578652-like-5-yrs-ago-to-now-...   \n",
       "1  /user_questions/812576-my-6-year-old-daughter-...   \n",
       "2  /user_questions/6976359-my-friend-is-experienc...   \n",
       "3  /user_questions/6731827-my-vg-is-itchy-and-fee...   \n",
       "4  /user_questions/759694-my-anus-has-been-itchy-...   \n",
       "\n",
       "                                      related_topics  \\\n",
       "0  ['Does herpes cause burning?', 'Itching and bu...   \n",
       "1  ['Vaginal itching', 'Convulsion', 'Female heal...   \n",
       "2  ['Vaginal irritation', 'Vaginitis', 'Female he...   \n",
       "3  ['Candida die off itching', 'Burning itching b...   \n",
       "4  ['Blood after a bowel movement', 'Blood and mu...   \n",
       "\n",
       "               sub_category question_id  \n",
       "0  vagina burning sensation     1578652  \n",
       "1  vagina burning sensation      812576  \n",
       "2  vagina burning sensation     6976359  \n",
       "3  vagina burning sensation     6731827  \n",
       "4  vagina burning sensation      759694  "
      ]
     },
     "execution_count": 24,
     "metadata": {},
     "output_type": "execute_result"
    }
   ],
   "source": [
    "data.head()"
   ]
  },
  {
   "cell_type": "code",
   "execution_count": 28,
   "metadata": {},
   "outputs": [],
   "source": [
    "data['question_id'] = pd.to_numeric(data['question_id'])"
   ]
  },
  {
   "cell_type": "code",
   "execution_count": 30,
   "metadata": {},
   "outputs": [],
   "source": [
    "pd.set_option('float_format', '{:f}'.format)\n"
   ]
  },
  {
   "cell_type": "code",
   "execution_count": 31,
   "metadata": {},
   "outputs": [
    {
     "data": {
      "text/plain": [
       "count   1605037.000000\n",
       "mean    2017715.254433\n",
       "std     2445676.972917\n",
       "min           4.000000\n",
       "25%      526247.000000\n",
       "50%     1024168.000000\n",
       "75%     1513753.000000\n",
       "max     6997643.000000\n",
       "Name: question_id, dtype: float64"
      ]
     },
     "execution_count": 31,
     "metadata": {},
     "output_type": "execute_result"
    }
   ],
   "source": [
    "data.question_id.describe()"
   ]
  },
  {
   "cell_type": "code",
   "execution_count": 33,
   "metadata": {},
   "outputs": [],
   "source": [
    "question_ids = data[['question_id']]"
   ]
  },
  {
   "cell_type": "code",
   "execution_count": 34,
   "metadata": {},
   "outputs": [
    {
     "name": "stdout",
     "output_type": "stream",
     "text": [
      "<class 'pandas.core.frame.DataFrame'>\n",
      "Int64Index: 1605229 entries, 0 to 1605228\n",
      "Data columns (total 1 columns):\n",
      " #   Column       Non-Null Count    Dtype  \n",
      "---  ------       --------------    -----  \n",
      " 0   question_id  1605037 non-null  float64\n",
      "dtypes: float64(1)\n",
      "memory usage: 24.5 MB\n"
     ]
    }
   ],
   "source": [
    "question_ids.info()"
   ]
  },
  {
   "cell_type": "code",
   "execution_count": 35,
   "metadata": {},
   "outputs": [],
   "source": [
    "question_ids.to_csv('../../data/healthtap_question_ids.csv')"
   ]
  },
  {
   "cell_type": "code",
   "execution_count": null,
   "metadata": {},
   "outputs": [],
   "source": []
  }
 ],
 "metadata": {
  "kernelspec": {
   "display_name": "Python 3",
   "language": "python",
   "name": "python3"
  },
  "language_info": {
   "codemirror_mode": {
    "name": "ipython",
    "version": 3
   },
   "file_extension": ".py",
   "mimetype": "text/x-python",
   "name": "python",
   "nbconvert_exporter": "python",
   "pygments_lexer": "ipython3",
   "version": "3.8.3"
  }
 },
 "nbformat": 4,
 "nbformat_minor": 4
}
