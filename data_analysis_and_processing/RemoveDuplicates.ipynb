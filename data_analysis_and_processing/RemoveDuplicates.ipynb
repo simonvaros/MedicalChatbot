{
 "cells": [
  {
   "cell_type": "code",
   "execution_count": 24,
   "metadata": {},
   "outputs": [],
   "source": [
    "import pandas as pd"
   ]
  },
  {
   "cell_type": "code",
   "execution_count": 25,
   "metadata": {},
   "outputs": [],
   "source": [
    "data = pd.read_csv(\"./healthtap_full_qa_processed_30k_words.csv\", delimiter=',')"
   ]
  },
  {
   "cell_type": "code",
   "execution_count": 26,
   "metadata": {},
   "outputs": [],
   "source": [
    "data['answer_len'] = data['answer'].str.split().apply(len)"
   ]
  },
  {
   "cell_type": "code",
   "execution_count": 27,
   "metadata": {},
   "outputs": [],
   "source": [
    "data = data.sort_values(['question', 'answer_len'], ascending=True)"
   ]
  },
  {
   "cell_type": "code",
   "execution_count": 28,
   "metadata": {},
   "outputs": [
    {
     "data": {
      "text/html": [
       "<div>\n",
       "<style scoped>\n",
       "    .dataframe tbody tr th:only-of-type {\n",
       "        vertical-align: middle;\n",
       "    }\n",
       "\n",
       "    .dataframe tbody tr th {\n",
       "        vertical-align: top;\n",
       "    }\n",
       "\n",
       "    .dataframe thead th {\n",
       "        text-align: right;\n",
       "    }\n",
       "</style>\n",
       "<table border=\"1\" class=\"dataframe\">\n",
       "  <thead>\n",
       "    <tr style=\"text-align: right;\">\n",
       "      <th></th>\n",
       "      <th>Unnamed: 0</th>\n",
       "      <th>question</th>\n",
       "      <th>answer</th>\n",
       "      <th>answer_len</th>\n",
       "    </tr>\n",
       "  </thead>\n",
       "  <tbody>\n",
       "    <tr>\n",
       "      <th>918088</th>\n",
       "      <td>918088</td>\n",
       "      <td>! antigens antibodies dna rna sequences toxins...</td>\n",
       "      <td>plenty of them will raise their families in th...</td>\n",
       "      <td>19</td>\n",
       "    </tr>\n",
       "    <tr>\n",
       "      <th>1264575</th>\n",
       "      <td>1264575</td>\n",
       "      <td>! been bleeding brown blood since sunday its b...</td>\n",
       "      <td>older deoxygenated blood . note that you repor...</td>\n",
       "      <td>71</td>\n",
       "    </tr>\n",
       "    <tr>\n",
       "      <th>97587</th>\n",
       "      <td>97587</td>\n",
       "      <td>! have a burning sensation in my bottom lip . ...</td>\n",
       "      <td>sounds like nerve irritation for one of many r...</td>\n",
       "      <td>38</td>\n",
       "    </tr>\n",
       "    <tr>\n",
       "      <th>1854161</th>\n",
       "      <td>1854161</td>\n",
       "      <td>! hve been on methadone maintenance for years ...</td>\n",
       "      <td>any dose . withdrawal from methadone is safe f...</td>\n",
       "      <td>39</td>\n",
       "    </tr>\n",
       "    <tr>\n",
       "      <th>1523352</th>\n",
       "      <td>1523352</td>\n",
       "      <td>! i am having a genital herpes out break i was...</td>\n",
       "      <td>probably not . but please remember you will be...</td>\n",
       "      <td>75</td>\n",
       "    </tr>\n",
       "    <tr>\n",
       "      <th>...</th>\n",
       "      <td>...</td>\n",
       "      <td>...</td>\n",
       "      <td>...</td>\n",
       "      <td>...</td>\n",
       "    </tr>\n",
       "    <tr>\n",
       "      <th>292861</th>\n",
       "      <td>292861</td>\n",
       "      <td>. chest pain . not overly painful . left arm s...</td>\n",
       "      <td>you likely should get professional help in dea...</td>\n",
       "      <td>19</td>\n",
       "    </tr>\n",
       "    <tr>\n",
       "      <th>1864984</th>\n",
       "      <td>1864984</td>\n",
       "      <td>. clonazapam times a day and mg tramadol seem ...</td>\n",
       "      <td>both are considered high risk meds and habit f...</td>\n",
       "      <td>33</td>\n",
       "    </tr>\n",
       "    <tr>\n",
       "      <th>1864983</th>\n",
       "      <td>1864983</td>\n",
       "      <td>. clonazapam times a day and mg tramadol seem ...</td>\n",
       "      <td>the problem with pain meds is that people deve...</td>\n",
       "      <td>63</td>\n",
       "    </tr>\n",
       "    <tr>\n",
       "      <th>518005</th>\n",
       "      <td>518005</td>\n",
       "      <td>. cm bilat persistent neck lymph node in healt...</td>\n",
       "      <td>keep an eye on it and if your physician is not...</td>\n",
       "      <td>29</td>\n",
       "    </tr>\n",
       "    <tr>\n",
       "      <th>518004</th>\n",
       "      <td>518004</td>\n",
       "      <td>. cm bilat persistent neck lymph node in healt...</td>\n",
       "      <td>to have an enlarged lymph node followed up . d...</td>\n",
       "      <td>64</td>\n",
       "    </tr>\n",
       "  </tbody>\n",
       "</table>\n",
       "<p>100 rows × 4 columns</p>\n",
       "</div>"
      ],
      "text/plain": [
       "         Unnamed: 0                                           question  \\\n",
       "918088       918088  ! antigens antibodies dna rna sequences toxins...   \n",
       "1264575     1264575  ! been bleeding brown blood since sunday its b...   \n",
       "97587         97587  ! have a burning sensation in my bottom lip . ...   \n",
       "1854161     1854161  ! hve been on methadone maintenance for years ...   \n",
       "1523352     1523352  ! i am having a genital herpes out break i was...   \n",
       "...             ...                                                ...   \n",
       "292861       292861  . chest pain . not overly painful . left arm s...   \n",
       "1864984     1864984  . clonazapam times a day and mg tramadol seem ...   \n",
       "1864983     1864983  . clonazapam times a day and mg tramadol seem ...   \n",
       "518005       518005  . cm bilat persistent neck lymph node in healt...   \n",
       "518004       518004  . cm bilat persistent neck lymph node in healt...   \n",
       "\n",
       "                                                    answer  answer_len  \n",
       "918088   plenty of them will raise their families in th...          19  \n",
       "1264575  older deoxygenated blood . note that you repor...          71  \n",
       "97587    sounds like nerve irritation for one of many r...          38  \n",
       "1854161  any dose . withdrawal from methadone is safe f...          39  \n",
       "1523352  probably not . but please remember you will be...          75  \n",
       "...                                                    ...         ...  \n",
       "292861   you likely should get professional help in dea...          19  \n",
       "1864984  both are considered high risk meds and habit f...          33  \n",
       "1864983  the problem with pain meds is that people deve...          63  \n",
       "518005   keep an eye on it and if your physician is not...          29  \n",
       "518004   to have an enlarged lymph node followed up . d...          64  \n",
       "\n",
       "[100 rows x 4 columns]"
      ]
     },
     "execution_count": 28,
     "metadata": {},
     "output_type": "execute_result"
    }
   ],
   "source": [
    "data.head(100)"
   ]
  },
  {
   "cell_type": "code",
   "execution_count": 29,
   "metadata": {},
   "outputs": [],
   "source": [
    "data = data.drop_duplicates('question')"
   ]
  },
  {
   "cell_type": "code",
   "execution_count": 30,
   "metadata": {},
   "outputs": [],
   "source": [
    "data = data.sort_index()"
   ]
  },
  {
   "cell_type": "code",
   "execution_count": 31,
   "metadata": {},
   "outputs": [
    {
     "data": {
      "text/html": [
       "<div>\n",
       "<style scoped>\n",
       "    .dataframe tbody tr th:only-of-type {\n",
       "        vertical-align: middle;\n",
       "    }\n",
       "\n",
       "    .dataframe tbody tr th {\n",
       "        vertical-align: top;\n",
       "    }\n",
       "\n",
       "    .dataframe thead th {\n",
       "        text-align: right;\n",
       "    }\n",
       "</style>\n",
       "<table border=\"1\" class=\"dataframe\">\n",
       "  <thead>\n",
       "    <tr style=\"text-align: right;\">\n",
       "      <th></th>\n",
       "      <th>Unnamed: 0</th>\n",
       "      <th>question</th>\n",
       "      <th>answer</th>\n",
       "      <th>answer_len</th>\n",
       "    </tr>\n",
       "  </thead>\n",
       "  <tbody>\n",
       "    <tr>\n",
       "      <th>0</th>\n",
       "      <td>0</td>\n",
       "      <td>like years ago to now i have had some reoccurr...</td>\n",
       "      <td>test to see if you are a carrier of herpes sim...</td>\n",
       "      <td>42</td>\n",
       "    </tr>\n",
       "    <tr>\n",
       "      <th>1</th>\n",
       "      <td>1</td>\n",
       "      <td>my year old daughter complains about vaginal i...</td>\n",
       "      <td>make sure she is not . wearing tight fitting :...</td>\n",
       "      <td>33</td>\n",
       "    </tr>\n",
       "    <tr>\n",
       "      <th>3</th>\n",
       "      <td>3</td>\n",
       "      <td>my friend is experiencing irritation and she s...</td>\n",
       "      <td>followup with doc . some women use yoghurt as ...</td>\n",
       "      <td>47</td>\n",
       "    </tr>\n",
       "    <tr>\n",
       "      <th>5</th>\n",
       "      <td>5</td>\n",
       "      <td>my :unk: is itchy and feels irritated no pain ...</td>\n",
       "      <td>many women do not understand that yeast often ...</td>\n",
       "      <td>68</td>\n",
       "    </tr>\n",
       "    <tr>\n",
       "      <th>6</th>\n",
       "      <td>6</td>\n",
       "      <td>my anus has been itchy and burning . went away...</td>\n",
       "      <td>red excoriated skin is likely from a dermatiti...</td>\n",
       "      <td>32</td>\n",
       "    </tr>\n",
       "  </tbody>\n",
       "</table>\n",
       "</div>"
      ],
      "text/plain": [
       "   Unnamed: 0                                           question  \\\n",
       "0           0  like years ago to now i have had some reoccurr...   \n",
       "1           1  my year old daughter complains about vaginal i...   \n",
       "3           3  my friend is experiencing irritation and she s...   \n",
       "5           5  my :unk: is itchy and feels irritated no pain ...   \n",
       "6           6  my anus has been itchy and burning . went away...   \n",
       "\n",
       "                                              answer  answer_len  \n",
       "0  test to see if you are a carrier of herpes sim...          42  \n",
       "1  make sure she is not . wearing tight fitting :...          33  \n",
       "3  followup with doc . some women use yoghurt as ...          47  \n",
       "5  many women do not understand that yeast often ...          68  \n",
       "6  red excoriated skin is likely from a dermatiti...          32  "
      ]
     },
     "execution_count": 31,
     "metadata": {},
     "output_type": "execute_result"
    }
   ],
   "source": [
    "data.head()"
   ]
  },
  {
   "cell_type": "code",
   "execution_count": 32,
   "metadata": {},
   "outputs": [
    {
     "name": "stdout",
     "output_type": "stream",
     "text": [
      "<class 'pandas.core.frame.DataFrame'>\n",
      "Int64Index: 1446563 entries, 0 to 2032941\n",
      "Data columns (total 4 columns):\n",
      " #   Column      Non-Null Count    Dtype \n",
      "---  ------      --------------    ----- \n",
      " 0   Unnamed: 0  1446563 non-null  int64 \n",
      " 1   question    1446563 non-null  object\n",
      " 2   answer      1446563 non-null  object\n",
      " 3   answer_len  1446563 non-null  int64 \n",
      "dtypes: int64(2), object(2)\n",
      "memory usage: 55.2+ MB\n"
     ]
    }
   ],
   "source": [
    "data.info()"
   ]
  },
  {
   "cell_type": "code",
   "execution_count": 33,
   "metadata": {},
   "outputs": [],
   "source": [
    "data = data.reset_index()"
   ]
  },
  {
   "cell_type": "code",
   "execution_count": 34,
   "metadata": {},
   "outputs": [
    {
     "data": {
      "text/html": [
       "<div>\n",
       "<style scoped>\n",
       "    .dataframe tbody tr th:only-of-type {\n",
       "        vertical-align: middle;\n",
       "    }\n",
       "\n",
       "    .dataframe tbody tr th {\n",
       "        vertical-align: top;\n",
       "    }\n",
       "\n",
       "    .dataframe thead th {\n",
       "        text-align: right;\n",
       "    }\n",
       "</style>\n",
       "<table border=\"1\" class=\"dataframe\">\n",
       "  <thead>\n",
       "    <tr style=\"text-align: right;\">\n",
       "      <th></th>\n",
       "      <th>index</th>\n",
       "      <th>Unnamed: 0</th>\n",
       "      <th>question</th>\n",
       "      <th>answer</th>\n",
       "      <th>answer_len</th>\n",
       "    </tr>\n",
       "  </thead>\n",
       "  <tbody>\n",
       "    <tr>\n",
       "      <th>0</th>\n",
       "      <td>0</td>\n",
       "      <td>0</td>\n",
       "      <td>like years ago to now i have had some reoccurr...</td>\n",
       "      <td>test to see if you are a carrier of herpes sim...</td>\n",
       "      <td>42</td>\n",
       "    </tr>\n",
       "    <tr>\n",
       "      <th>1</th>\n",
       "      <td>1</td>\n",
       "      <td>1</td>\n",
       "      <td>my year old daughter complains about vaginal i...</td>\n",
       "      <td>make sure she is not . wearing tight fitting :...</td>\n",
       "      <td>33</td>\n",
       "    </tr>\n",
       "    <tr>\n",
       "      <th>2</th>\n",
       "      <td>3</td>\n",
       "      <td>3</td>\n",
       "      <td>my friend is experiencing irritation and she s...</td>\n",
       "      <td>followup with doc . some women use yoghurt as ...</td>\n",
       "      <td>47</td>\n",
       "    </tr>\n",
       "    <tr>\n",
       "      <th>3</th>\n",
       "      <td>5</td>\n",
       "      <td>5</td>\n",
       "      <td>my :unk: is itchy and feels irritated no pain ...</td>\n",
       "      <td>many women do not understand that yeast often ...</td>\n",
       "      <td>68</td>\n",
       "    </tr>\n",
       "    <tr>\n",
       "      <th>4</th>\n",
       "      <td>6</td>\n",
       "      <td>6</td>\n",
       "      <td>my anus has been itchy and burning . went away...</td>\n",
       "      <td>red excoriated skin is likely from a dermatiti...</td>\n",
       "      <td>32</td>\n",
       "    </tr>\n",
       "  </tbody>\n",
       "</table>\n",
       "</div>"
      ],
      "text/plain": [
       "   index  Unnamed: 0                                           question  \\\n",
       "0      0           0  like years ago to now i have had some reoccurr...   \n",
       "1      1           1  my year old daughter complains about vaginal i...   \n",
       "2      3           3  my friend is experiencing irritation and she s...   \n",
       "3      5           5  my :unk: is itchy and feels irritated no pain ...   \n",
       "4      6           6  my anus has been itchy and burning . went away...   \n",
       "\n",
       "                                              answer  answer_len  \n",
       "0  test to see if you are a carrier of herpes sim...          42  \n",
       "1  make sure she is not . wearing tight fitting :...          33  \n",
       "2  followup with doc . some women use yoghurt as ...          47  \n",
       "3  many women do not understand that yeast often ...          68  \n",
       "4  red excoriated skin is likely from a dermatiti...          32  "
      ]
     },
     "execution_count": 34,
     "metadata": {},
     "output_type": "execute_result"
    }
   ],
   "source": [
    "data.head()"
   ]
  },
  {
   "cell_type": "code",
   "execution_count": 35,
   "metadata": {},
   "outputs": [],
   "source": [
    "data = data[['question', 'answer']]"
   ]
  },
  {
   "cell_type": "code",
   "execution_count": 36,
   "metadata": {},
   "outputs": [
    {
     "name": "stdout",
     "output_type": "stream",
     "text": [
      "<class 'pandas.core.frame.DataFrame'>\n",
      "RangeIndex: 1446563 entries, 0 to 1446562\n",
      "Data columns (total 2 columns):\n",
      " #   Column    Non-Null Count    Dtype \n",
      "---  ------    --------------    ----- \n",
      " 0   question  1446563 non-null  object\n",
      " 1   answer    1446563 non-null  object\n",
      "dtypes: object(2)\n",
      "memory usage: 22.1+ MB\n"
     ]
    }
   ],
   "source": [
    "data.info()"
   ]
  },
  {
   "cell_type": "code",
   "execution_count": 37,
   "metadata": {},
   "outputs": [],
   "source": [
    "data.to_csv('./healthtap_full_30k_words_nodupli.csv')"
   ]
  },
  {
   "cell_type": "code",
   "execution_count": null,
   "metadata": {},
   "outputs": [],
   "source": []
  }
 ],
 "metadata": {
  "kernelspec": {
   "display_name": "Python 3",
   "language": "python",
   "name": "python3"
  },
  "language_info": {
   "codemirror_mode": {
    "name": "ipython",
    "version": 3
   },
   "file_extension": ".py",
   "mimetype": "text/x-python",
   "name": "python",
   "nbconvert_exporter": "python",
   "pygments_lexer": "ipython3",
   "version": "3.8.3"
  }
 },
 "nbformat": 4,
 "nbformat_minor": 4
}
