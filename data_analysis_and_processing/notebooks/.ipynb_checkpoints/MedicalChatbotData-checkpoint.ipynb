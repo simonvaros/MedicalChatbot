{
 "cells": [
  {
   "cell_type": "markdown",
   "metadata": {
    "id": "iltjzM3EWE51"
   },
   "source": [
    "# QnA Data"
   ]
  },
  {
   "cell_type": "code",
   "execution_count": 1,
   "metadata": {},
   "outputs": [
    {
     "name": "stdout",
     "output_type": "stream",
     "text": [
      "Requirement already satisfied: pandas in /Users/simonvaros/opt/miniconda3/lib/python3.8/site-packages (1.1.3)\n",
      "Requirement already satisfied: numpy>=1.15.4 in /Users/simonvaros/opt/miniconda3/lib/python3.8/site-packages (from pandas) (1.18.5)\n",
      "Requirement already satisfied: python-dateutil>=2.7.3 in /Users/simonvaros/opt/miniconda3/lib/python3.8/site-packages (from pandas) (2.8.1)\n",
      "Requirement already satisfied: pytz>=2017.2 in /Users/simonvaros/opt/miniconda3/lib/python3.8/site-packages (from pandas) (2020.1)\n",
      "Requirement already satisfied: six>=1.5 in /Users/simonvaros/opt/miniconda3/lib/python3.8/site-packages (from python-dateutil>=2.7.3->pandas) (1.15.0)\n",
      "Requirement already satisfied: matplotlib in /Users/simonvaros/opt/miniconda3/lib/python3.8/site-packages (3.3.2)\n",
      "Requirement already satisfied: certifi>=2020.06.20 in /Users/simonvaros/opt/miniconda3/lib/python3.8/site-packages (from matplotlib) (2020.6.20)\n",
      "Requirement already satisfied: cycler>=0.10 in /Users/simonvaros/opt/miniconda3/lib/python3.8/site-packages (from matplotlib) (0.10.0)\n",
      "Requirement already satisfied: python-dateutil>=2.1 in /Users/simonvaros/opt/miniconda3/lib/python3.8/site-packages (from matplotlib) (2.8.1)\n",
      "Requirement already satisfied: kiwisolver>=1.0.1 in /Users/simonvaros/opt/miniconda3/lib/python3.8/site-packages (from matplotlib) (1.2.0)\n",
      "Requirement already satisfied: pyparsing!=2.0.4,!=2.1.2,!=2.1.6,>=2.0.3 in /Users/simonvaros/opt/miniconda3/lib/python3.8/site-packages (from matplotlib) (2.4.7)\n",
      "Requirement already satisfied: numpy>=1.15 in /Users/simonvaros/opt/miniconda3/lib/python3.8/site-packages (from matplotlib) (1.18.5)\n",
      "Requirement already satisfied: pillow>=6.2.0 in /Users/simonvaros/opt/miniconda3/lib/python3.8/site-packages (from matplotlib) (7.2.0)\n",
      "Requirement already satisfied: six in /Users/simonvaros/opt/miniconda3/lib/python3.8/site-packages (from cycler>=0.10->matplotlib) (1.15.0)\n",
      "Requirement already satisfied: numpy in /Users/simonvaros/opt/miniconda3/lib/python3.8/site-packages (1.18.5)\n"
     ]
    }
   ],
   "source": [
    "import sys\n",
    "!{sys.executable} -m pip install pandas\n",
    "!{sys.executable} -m pip install matplotlib\n",
    "!{sys.executable} -m pip install numpy\n",
    "\n",
    "import pandas as pd\n",
    "import numpy as np\n",
    "import matplotlib\n",
    "import json\n",
    "from pandas import json_normalize\n",
    "from IPython.display import display"
   ]
  },
  {
   "cell_type": "markdown",
   "metadata": {},
   "source": [
    "## Load dataset and print info"
   ]
  },
  {
   "cell_type": "code",
   "execution_count": 124,
   "metadata": {
    "id": "n2tFRjfASKFf"
   },
   "outputs": [
    {
     "name": "stdout",
     "output_type": "stream",
     "text": [
      "<class 'pandas.core.frame.DataFrame'>\n",
      "Int64Index: 95189 entries, 0 to 95188\n",
      "Data columns (total 7 columns):\n",
      " #   Column          Non-Null Count  Dtype \n",
      "---  ------          --------------  ----- \n",
      " 0   Unnamed: 0.1    95189 non-null  int64 \n",
      " 1   answers         95189 non-null  object\n",
      " 2   main_category   95189 non-null  object\n",
      " 3   question        95189 non-null  object\n",
      " 4   question_url    95189 non-null  object\n",
      " 5   related_topics  95189 non-null  object\n",
      " 6   sub_category    95189 non-null  object\n",
      "dtypes: int64(1), object(6)\n",
      "memory usage: 5.8+ MB\n"
     ]
    },
    {
     "data": {
      "text/plain": [
       "None"
      ]
     },
     "metadata": {},
     "output_type": "display_data"
    },
    {
     "data": {
      "text/html": [
       "<div>\n",
       "<style scoped>\n",
       "    .dataframe tbody tr th:only-of-type {\n",
       "        vertical-align: middle;\n",
       "    }\n",
       "\n",
       "    .dataframe tbody tr th {\n",
       "        vertical-align: top;\n",
       "    }\n",
       "\n",
       "    .dataframe thead th {\n",
       "        text-align: right;\n",
       "    }\n",
       "</style>\n",
       "<table border=\"1\" class=\"dataframe\">\n",
       "  <thead>\n",
       "    <tr style=\"text-align: right;\">\n",
       "      <th></th>\n",
       "      <th>Unnamed: 0.1</th>\n",
       "      <th>answers</th>\n",
       "      <th>main_category</th>\n",
       "      <th>question</th>\n",
       "      <th>question_url</th>\n",
       "      <th>related_topics</th>\n",
       "      <th>sub_category</th>\n",
       "    </tr>\n",
       "  </thead>\n",
       "  <tbody>\n",
       "    <tr>\n",
       "      <th>0</th>\n",
       "      <td>0</td>\n",
       "      <td>[{'doctor_name': 'Dr. Glynis Ablon', 'doctor_p...</td>\n",
       "      <td>vagina</td>\n",
       "      <td>Like 5 yrs ago to now I've had some reoccurrin...</td>\n",
       "      <td>/user_questions/1578652-like-5-yrs-ago-to-now-...</td>\n",
       "      <td>['Does herpes cause burning?', 'Itching and bu...</td>\n",
       "      <td>vagina burning sensation</td>\n",
       "    </tr>\n",
       "    <tr>\n",
       "      <th>1</th>\n",
       "      <td>1</td>\n",
       "      <td>[{'doctor_name': 'Dr. Charlene Sojico', 'docto...</td>\n",
       "      <td>vagina</td>\n",
       "      <td>My 6 year old daughter complains about vaginal...</td>\n",
       "      <td>/user_questions/812576-my-6-year-old-daughter-...</td>\n",
       "      <td>['Vaginal itching', 'Convulsion', 'Female heal...</td>\n",
       "      <td>vagina burning sensation</td>\n",
       "    </tr>\n",
       "    <tr>\n",
       "      <th>2</th>\n",
       "      <td>2</td>\n",
       "      <td>[{'doctor_name': 'Dr. Pierrette Mimi Poinsett'...</td>\n",
       "      <td>vagina</td>\n",
       "      <td>My Friend is experiencing irritation and she s...</td>\n",
       "      <td>/user_questions/6976359-my-friend-is-experienc...</td>\n",
       "      <td>['Vaginal irritation', 'Vaginitis', 'Female he...</td>\n",
       "      <td>vagina burning sensation</td>\n",
       "    </tr>\n",
       "    <tr>\n",
       "      <th>3</th>\n",
       "      <td>3</td>\n",
       "      <td>[{'doctor_name': 'Dr. Hunter Handsfield', 'doc...</td>\n",
       "      <td>vagina</td>\n",
       "      <td>My VG is itchy and feels irritated, no pain, n...</td>\n",
       "      <td>/user_questions/6731827-my-vg-is-itchy-and-fee...</td>\n",
       "      <td>['Candida die off itching', 'Burning itching b...</td>\n",
       "      <td>vagina burning sensation</td>\n",
       "    </tr>\n",
       "    <tr>\n",
       "      <th>4</th>\n",
       "      <td>4</td>\n",
       "      <td>[{'doctor_name': 'Dr. David Drewitz', 'doctor_...</td>\n",
       "      <td>vagina</td>\n",
       "      <td>My anus has been itchy and burning. Went away ...</td>\n",
       "      <td>/user_questions/759694-my-anus-has-been-itchy-...</td>\n",
       "      <td>['Blood after a bowel movement', 'Blood and mu...</td>\n",
       "      <td>vagina burning sensation</td>\n",
       "    </tr>\n",
       "  </tbody>\n",
       "</table>\n",
       "</div>"
      ],
      "text/plain": [
       "   Unnamed: 0.1                                            answers  \\\n",
       "0             0  [{'doctor_name': 'Dr. Glynis Ablon', 'doctor_p...   \n",
       "1             1  [{'doctor_name': 'Dr. Charlene Sojico', 'docto...   \n",
       "2             2  [{'doctor_name': 'Dr. Pierrette Mimi Poinsett'...   \n",
       "3             3  [{'doctor_name': 'Dr. Hunter Handsfield', 'doc...   \n",
       "4             4  [{'doctor_name': 'Dr. David Drewitz', 'doctor_...   \n",
       "\n",
       "  main_category                                           question  \\\n",
       "0        vagina  Like 5 yrs ago to now I've had some reoccurrin...   \n",
       "1        vagina  My 6 year old daughter complains about vaginal...   \n",
       "2        vagina  My Friend is experiencing irritation and she s...   \n",
       "3        vagina  My VG is itchy and feels irritated, no pain, n...   \n",
       "4        vagina  My anus has been itchy and burning. Went away ...   \n",
       "\n",
       "                                        question_url  \\\n",
       "0  /user_questions/1578652-like-5-yrs-ago-to-now-...   \n",
       "1  /user_questions/812576-my-6-year-old-daughter-...   \n",
       "2  /user_questions/6976359-my-friend-is-experienc...   \n",
       "3  /user_questions/6731827-my-vg-is-itchy-and-fee...   \n",
       "4  /user_questions/759694-my-anus-has-been-itchy-...   \n",
       "\n",
       "                                      related_topics              sub_category  \n",
       "0  ['Does herpes cause burning?', 'Itching and bu...  vagina burning sensation  \n",
       "1  ['Vaginal itching', 'Convulsion', 'Female heal...  vagina burning sensation  \n",
       "2  ['Vaginal irritation', 'Vaginitis', 'Female he...  vagina burning sensation  \n",
       "3  ['Candida die off itching', 'Burning itching b...  vagina burning sensation  \n",
       "4  ['Blood after a bowel movement', 'Blood and mu...  vagina burning sensation  "
      ]
     },
     "metadata": {},
     "output_type": "display_data"
    }
   ],
   "source": [
    "healthtap_dataset_path = './healthtap/healthtap_medical_qna_dataset_PART1-1.csv'\n",
    "healthtap_data = pd.read_csv(healthtap_dataset_path, sep=',', index_col=0)\n",
    "display(healthtap_data.info())\n",
    "display(healthtap_data.head())"
   ]
  },
  {
   "cell_type": "markdown",
   "metadata": {},
   "source": [
    "## Drop unnamed column"
   ]
  },
  {
   "cell_type": "code",
   "execution_count": 125,
   "metadata": {},
   "outputs": [],
   "source": [
    "healthtap_data = healthtap_data.drop(columns=['Unnamed: 0.1'])"
   ]
  },
  {
   "cell_type": "markdown",
   "metadata": {},
   "source": [
    "## Remove questions that have no answers "
   ]
  },
  {
   "cell_type": "code",
   "execution_count": 126,
   "metadata": {},
   "outputs": [
    {
     "name": "stdout",
     "output_type": "stream",
     "text": [
      "<class 'pandas.core.frame.DataFrame'>\n",
      "RangeIndex: 94939 entries, 0 to 94938\n",
      "Data columns (total 6 columns):\n",
      " #   Column          Non-Null Count  Dtype \n",
      "---  ------          --------------  ----- \n",
      " 0   answers         94939 non-null  object\n",
      " 1   main_category   94939 non-null  object\n",
      " 2   question        94939 non-null  object\n",
      " 3   question_url    94939 non-null  object\n",
      " 4   related_topics  94939 non-null  object\n",
      " 5   sub_category    94939 non-null  object\n",
      "dtypes: object(6)\n",
      "memory usage: 4.3+ MB\n"
     ]
    }
   ],
   "source": [
    "healthtap_data = healthtap_data[healthtap_data.answers != '[]']\n",
    "healthtap_data = healthtap_data.reset_index(drop=True)\n",
    "healthtap_data.info()"
   ]
  },
  {
   "cell_type": "markdown",
   "metadata": {},
   "source": [
    "## Transform answers column to doctor_name, doctor_profession, short_answer, answer - if more than 1 answer, take first"
   ]
  },
  {
   "cell_type": "code",
   "execution_count": 127,
   "metadata": {},
   "outputs": [
    {
     "data": {
      "text/html": [
       "<div>\n",
       "<style scoped>\n",
       "    .dataframe tbody tr th:only-of-type {\n",
       "        vertical-align: middle;\n",
       "    }\n",
       "\n",
       "    .dataframe tbody tr th {\n",
       "        vertical-align: top;\n",
       "    }\n",
       "\n",
       "    .dataframe thead th {\n",
       "        text-align: right;\n",
       "    }\n",
       "</style>\n",
       "<table border=\"1\" class=\"dataframe\">\n",
       "  <thead>\n",
       "    <tr style=\"text-align: right;\">\n",
       "      <th></th>\n",
       "      <th>answers</th>\n",
       "      <th>main_category</th>\n",
       "      <th>question</th>\n",
       "      <th>question_url</th>\n",
       "      <th>related_topics</th>\n",
       "      <th>sub_category</th>\n",
       "      <th>doctor_name</th>\n",
       "      <th>doctor_profession</th>\n",
       "      <th>short_answer</th>\n",
       "      <th>answer</th>\n",
       "    </tr>\n",
       "  </thead>\n",
       "  <tbody>\n",
       "    <tr>\n",
       "      <th>0</th>\n",
       "      <td>[{'doctor_name': 'Dr. Glynis Ablon', 'doctor_p...</td>\n",
       "      <td>vagina</td>\n",
       "      <td>Like 5 yrs ago to now I've had some reoccurrin...</td>\n",
       "      <td>/user_questions/1578652-like-5-yrs-ago-to-now-...</td>\n",
       "      <td>['Does herpes cause burning?', 'Itching and bu...</td>\n",
       "      <td>vagina burning sensation</td>\n",
       "      <td>Dr. Glynis Ablon</td>\n",
       "      <td>Dermatology</td>\n",
       "      <td>You can get blood</td>\n",
       "      <td>test to see if you are a carrier of herpes sim...</td>\n",
       "    </tr>\n",
       "    <tr>\n",
       "      <th>1</th>\n",
       "      <td>[{'doctor_name': 'Dr. Charlene Sojico', 'docto...</td>\n",
       "      <td>vagina</td>\n",
       "      <td>My 6 year old daughter complains about vaginal...</td>\n",
       "      <td>/user_questions/812576-my-6-year-old-daughter-...</td>\n",
       "      <td>['Vaginal itching', 'Convulsion', 'Female heal...</td>\n",
       "      <td>vagina burning sensation</td>\n",
       "      <td>Dr. Charlene Sojico</td>\n",
       "      <td>Pediatrics</td>\n",
       "      <td></td>\n",
       "      <td>Make sure she is not. Wearing tight fitting un...</td>\n",
       "    </tr>\n",
       "    <tr>\n",
       "      <th>2</th>\n",
       "      <td>[{'doctor_name': 'Dr. Pierrette Mimi Poinsett'...</td>\n",
       "      <td>vagina</td>\n",
       "      <td>My Friend is experiencing irritation and she s...</td>\n",
       "      <td>/user_questions/6976359-my-friend-is-experienc...</td>\n",
       "      <td>['Vaginal irritation', 'Vaginitis', 'Female he...</td>\n",
       "      <td>vagina burning sensation</td>\n",
       "      <td>Dr. Pierrette Mimi Poinsett</td>\n",
       "      <td>Pediatrics</td>\n",
       "      <td></td>\n",
       "      <td>Followup with doc. Some women use yoghurt as a...</td>\n",
       "    </tr>\n",
       "    <tr>\n",
       "      <th>3</th>\n",
       "      <td>[{'doctor_name': 'Dr. Hunter Handsfield', 'doc...</td>\n",
       "      <td>vagina</td>\n",
       "      <td>My VG is itchy and feels irritated, no pain, n...</td>\n",
       "      <td>/user_questions/6731827-my-vg-is-itchy-and-fee...</td>\n",
       "      <td>['Candida die off itching', 'Burning itching b...</td>\n",
       "      <td>vagina burning sensation</td>\n",
       "      <td>Dr. Hunter Handsfield</td>\n",
       "      <td>Internal Medicine - Infectious Disease</td>\n",
       "      <td>Yeast is possible</td>\n",
       "      <td>Many women don't understand that yeast often c...</td>\n",
       "    </tr>\n",
       "    <tr>\n",
       "      <th>4</th>\n",
       "      <td>[{'doctor_name': 'Dr. David Drewitz', 'doctor_...</td>\n",
       "      <td>vagina</td>\n",
       "      <td>My anus has been itchy and burning. Went away ...</td>\n",
       "      <td>/user_questions/759694-my-anus-has-been-itchy-...</td>\n",
       "      <td>['Blood after a bowel movement', 'Blood and mu...</td>\n",
       "      <td>vagina burning sensation</td>\n",
       "      <td>Dr. David Drewitz</td>\n",
       "      <td>Internal Medicine - Gastroenterology</td>\n",
       "      <td>Dermatitis</td>\n",
       "      <td>Red excoriated skin is likely from a dermatiti...</td>\n",
       "    </tr>\n",
       "  </tbody>\n",
       "</table>\n",
       "</div>"
      ],
      "text/plain": [
       "                                             answers main_category  \\\n",
       "0  [{'doctor_name': 'Dr. Glynis Ablon', 'doctor_p...        vagina   \n",
       "1  [{'doctor_name': 'Dr. Charlene Sojico', 'docto...        vagina   \n",
       "2  [{'doctor_name': 'Dr. Pierrette Mimi Poinsett'...        vagina   \n",
       "3  [{'doctor_name': 'Dr. Hunter Handsfield', 'doc...        vagina   \n",
       "4  [{'doctor_name': 'Dr. David Drewitz', 'doctor_...        vagina   \n",
       "\n",
       "                                            question  \\\n",
       "0  Like 5 yrs ago to now I've had some reoccurrin...   \n",
       "1  My 6 year old daughter complains about vaginal...   \n",
       "2  My Friend is experiencing irritation and she s...   \n",
       "3  My VG is itchy and feels irritated, no pain, n...   \n",
       "4  My anus has been itchy and burning. Went away ...   \n",
       "\n",
       "                                        question_url  \\\n",
       "0  /user_questions/1578652-like-5-yrs-ago-to-now-...   \n",
       "1  /user_questions/812576-my-6-year-old-daughter-...   \n",
       "2  /user_questions/6976359-my-friend-is-experienc...   \n",
       "3  /user_questions/6731827-my-vg-is-itchy-and-fee...   \n",
       "4  /user_questions/759694-my-anus-has-been-itchy-...   \n",
       "\n",
       "                                      related_topics  \\\n",
       "0  ['Does herpes cause burning?', 'Itching and bu...   \n",
       "1  ['Vaginal itching', 'Convulsion', 'Female heal...   \n",
       "2  ['Vaginal irritation', 'Vaginitis', 'Female he...   \n",
       "3  ['Candida die off itching', 'Burning itching b...   \n",
       "4  ['Blood after a bowel movement', 'Blood and mu...   \n",
       "\n",
       "               sub_category                  doctor_name  \\\n",
       "0  vagina burning sensation             Dr. Glynis Ablon   \n",
       "1  vagina burning sensation          Dr. Charlene Sojico   \n",
       "2  vagina burning sensation  Dr. Pierrette Mimi Poinsett   \n",
       "3  vagina burning sensation        Dr. Hunter Handsfield   \n",
       "4  vagina burning sensation            Dr. David Drewitz   \n",
       "\n",
       "                        doctor_profession       short_answer  \\\n",
       "0                             Dermatology  You can get blood   \n",
       "1                              Pediatrics                      \n",
       "2                              Pediatrics                      \n",
       "3  Internal Medicine - Infectious Disease  Yeast is possible   \n",
       "4    Internal Medicine - Gastroenterology         Dermatitis   \n",
       "\n",
       "                                              answer  \n",
       "0  test to see if you are a carrier of herpes sim...  \n",
       "1  Make sure she is not. Wearing tight fitting un...  \n",
       "2  Followup with doc. Some women use yoghurt as a...  \n",
       "3  Many women don't understand that yeast often c...  \n",
       "4  Red excoriated skin is likely from a dermatiti...  "
      ]
     },
     "execution_count": 127,
     "metadata": {},
     "output_type": "execute_result"
    }
   ],
   "source": [
    "result = pd.DataFrame(list(map(lambda a: eval(a)[0], healthtap_data['answers'])))\n",
    "healthtap_data = pd.concat([healthtap_data, result], axis=1)\n",
    "healthtap_data.head()"
   ]
  },
  {
   "cell_type": "code",
   "execution_count": 128,
   "metadata": {},
   "outputs": [
    {
     "name": "stdout",
     "output_type": "stream",
     "text": [
      "<class 'pandas.core.frame.DataFrame'>\n",
      "RangeIndex: 94939 entries, 0 to 94938\n",
      "Data columns (total 9 columns):\n",
      " #   Column             Non-Null Count  Dtype \n",
      "---  ------             --------------  ----- \n",
      " 0   main_category      94939 non-null  object\n",
      " 1   question           94939 non-null  object\n",
      " 2   question_url       94939 non-null  object\n",
      " 3   related_topics     94939 non-null  object\n",
      " 4   sub_category       94939 non-null  object\n",
      " 5   doctor_name        94939 non-null  object\n",
      " 6   doctor_profession  94939 non-null  object\n",
      " 7   short_answer       94939 non-null  object\n",
      " 8   answer             94939 non-null  object\n",
      "dtypes: object(9)\n",
      "memory usage: 6.5+ MB\n"
     ]
    }
   ],
   "source": [
    "healthtap_data = healthtap_data.drop(columns=['answers'])\n",
    "healthtap_data.info()"
   ]
  },
  {
   "cell_type": "markdown",
   "metadata": {},
   "source": [
    "## Attribut main_category"
   ]
  },
  {
   "cell_type": "code",
   "execution_count": 129,
   "metadata": {},
   "outputs": [
    {
     "data": {
      "text/plain": [
       "count     94939\n",
       "unique       20\n",
       "top       bumps\n",
       "freq      17558\n",
       "Name: main_category, dtype: object"
      ]
     },
     "metadata": {},
     "output_type": "display_data"
    },
    {
     "data": {
      "text/plain": [
       "['vagina', 'video game', 'viral infection', 'vitamins', 'weigh', ..., 'carpal tunnel', 'cesarean section', 'charley horse', 'chest', 'chest pain']\n",
       "Length: 20\n",
       "Categories (20, object): ['vagina', 'video game', 'viral infection', 'vitamins', ..., 'cesarean section', 'charley horse', 'chest', 'chest pain']"
      ]
     },
     "metadata": {},
     "output_type": "display_data"
    }
   ],
   "source": [
    "healthtap_data['main_category'] = pd.Categorical(healthtap_data.main_category)\n",
    "display(healthtap_data['main_category'].describe())\n",
    "display(healthtap_data['main_category'].unique())"
   ]
  },
  {
   "cell_type": "code",
   "execution_count": 130,
   "metadata": {},
   "outputs": [
    {
     "data": {
      "text/plain": [
       "<AxesSubplot:>"
      ]
     },
     "execution_count": 130,
     "metadata": {},
     "output_type": "execute_result"
    },
    {
     "data": {
      "image/png": "[encoded data removed]",
      "text/plain": [
       "<Figure size 1080x720 with 1 Axes>"
      ]
     },
     "metadata": {
      "needs_background": "light"
     },
     "output_type": "display_data"
    }
   ],
   "source": [
    "pd.value_counts(healthtap_data['main_category']).plot(kind=\"bar\", figsize=(15,10))"
   ]
  },
  {
   "cell_type": "markdown",
   "metadata": {},
   "source": [
    "## Attribute doctor_name"
   ]
  },
  {
   "cell_type": "code",
   "execution_count": 131,
   "metadata": {},
   "outputs": [
    {
     "data": {
      "text/plain": [
       "count                94939\n",
       "unique                9581\n",
       "top       Dr. Heidi Fowler\n",
       "freq                  5056\n",
       "Name: doctor_name, dtype: object"
      ]
     },
     "execution_count": 131,
     "metadata": {},
     "output_type": "execute_result"
    }
   ],
   "source": [
    "healthtap_data['doctor_name'].describe()"
   ]
  },
  {
   "cell_type": "markdown",
   "metadata": {},
   "source": [
    "## Attribute doctor_profession"
   ]
  },
  {
   "cell_type": "code",
   "execution_count": 132,
   "metadata": {},
   "outputs": [
    {
     "data": {
      "text/plain": [
       "count               94939\n",
       "unique               2164\n",
       "top       Family Medicine\n",
       "freq                11289\n",
       "Name: doctor_profession, dtype: object"
      ]
     },
     "execution_count": 132,
     "metadata": {},
     "output_type": "execute_result"
    }
   ],
   "source": [
    "healthtap_data['doctor_profession'].describe()"
   ]
  },
  {
   "cell_type": "markdown",
   "metadata": {},
   "source": [
    "## Attribute subcategory"
   ]
  },
  {
   "cell_type": "code",
   "execution_count": 133,
   "metadata": {},
   "outputs": [
    {
     "data": {
      "text/plain": [
       "count                     94939\n",
       "unique                      455\n",
       "top       take prenatal vitamin\n",
       "freq                       1002\n",
       "Name: sub_category, dtype: object"
      ]
     },
     "execution_count": 133,
     "metadata": {},
     "output_type": "execute_result"
    }
   ],
   "source": [
    "healthtap_data['sub_category'].describe()"
   ]
  },
  {
   "cell_type": "markdown",
   "metadata": {},
   "source": [
    "## Attribute answer - longest and shortest - what are the shortest"
   ]
  },
  {
   "cell_type": "code",
   "execution_count": 134,
   "metadata": {},
   "outputs": [
    {
     "name": "stdout",
     "output_type": "stream",
     "text": [
      "Length of longest and shortest answer: 3395, 1\n"
     ]
    }
   ],
   "source": [
    "measurer = np.vectorize(len)\n",
    "longest_answer_len = measurer(healthtap_data['answer'].values.astype(str)).max(axis=0)\n",
    "shortest_answer_len = measurer(healthtap_data['answer'].values.astype(str)).min(axis=0)\n",
    "\n",
    "print('Length of longest and shortest answer: ' + str(longest_answer_len) + ', ' + str(shortest_answer_len))"
   ]
  },
  {
   "cell_type": "code",
   "execution_count": 135,
   "metadata": {},
   "outputs": [
    {
     "data": {
      "text/html": [
       "<div>\n",
       "<style scoped>\n",
       "    .dataframe tbody tr th:only-of-type {\n",
       "        vertical-align: middle;\n",
       "    }\n",
       "\n",
       "    .dataframe tbody tr th {\n",
       "        vertical-align: top;\n",
       "    }\n",
       "\n",
       "    .dataframe thead th {\n",
       "        text-align: right;\n",
       "    }\n",
       "</style>\n",
       "<table border=\"1\" class=\"dataframe\">\n",
       "  <thead>\n",
       "    <tr style=\"text-align: right;\">\n",
       "      <th></th>\n",
       "      <th>main_category</th>\n",
       "      <th>question</th>\n",
       "      <th>question_url</th>\n",
       "      <th>related_topics</th>\n",
       "      <th>sub_category</th>\n",
       "      <th>doctor_name</th>\n",
       "      <th>doctor_profession</th>\n",
       "      <th>short_answer</th>\n",
       "      <th>answer</th>\n",
       "    </tr>\n",
       "  </thead>\n",
       "  <tbody>\n",
       "    <tr>\n",
       "      <th>59131</th>\n",
       "      <td>went er</td>\n",
       "      <td>My friends heart started hurting today and the...</td>\n",
       "      <td>/user_questions/543044-my-friends-heart-starte...</td>\n",
       "      <td>['Passed out near me', 'Coughing until i pass ...</td>\n",
       "      <td>running fever yesterday</td>\n",
       "      <td>Dr. Michael Sparacino</td>\n",
       "      <td>Family Medicine</td>\n",
       "      <td>?</td>\n",
       "      <td>?</td>\n",
       "    </tr>\n",
       "    <tr>\n",
       "      <th>76881</th>\n",
       "      <td>bumps</td>\n",
       "      <td>What is this rash I have once sciatica started?</td>\n",
       "      <td>/user_questions/278233-what-is-this-rash-i-hav...</td>\n",
       "      <td>['Injections for sciatica', 'Contact dermatiti...</td>\n",
       "      <td>rash arm leg</td>\n",
       "      <td>Dr. Luis Villaplana</td>\n",
       "      <td>Internal Medicine</td>\n",
       "      <td>WHERE IS THE RASH?</td>\n",
       "      <td>?</td>\n",
       "    </tr>\n",
       "  </tbody>\n",
       "</table>\n",
       "</div>"
      ],
      "text/plain": [
       "      main_category                                           question  \\\n",
       "59131       went er  My friends heart started hurting today and the...   \n",
       "76881         bumps    What is this rash I have once sciatica started?   \n",
       "\n",
       "                                            question_url  \\\n",
       "59131  /user_questions/543044-my-friends-heart-starte...   \n",
       "76881  /user_questions/278233-what-is-this-rash-i-hav...   \n",
       "\n",
       "                                          related_topics  \\\n",
       "59131  ['Passed out near me', 'Coughing until i pass ...   \n",
       "76881  ['Injections for sciatica', 'Contact dermatiti...   \n",
       "\n",
       "                  sub_category            doctor_name  doctor_profession  \\\n",
       "59131  running fever yesterday  Dr. Michael Sparacino    Family Medicine   \n",
       "76881             rash arm leg    Dr. Luis Villaplana  Internal Medicine   \n",
       "\n",
       "             short_answer answer  \n",
       "59131                   ?      ?  \n",
       "76881  WHERE IS THE RASH?      ?  "
      ]
     },
     "execution_count": 135,
     "metadata": {},
     "output_type": "execute_result"
    }
   ],
   "source": [
    "healthtap_data[healthtap_data.answer.str.len() == 1]"
   ]
  },
  {
   "cell_type": "markdown",
   "metadata": {},
   "source": [
    "## Length of questions and answers"
   ]
  },
  {
   "cell_type": "code",
   "execution_count": 136,
   "metadata": {},
   "outputs": [
    {
     "data": {
      "text/plain": [
       "count    94939.000000\n",
       "mean        19.390356\n",
       "std          9.391750\n",
       "min          3.000000\n",
       "25%         11.000000\n",
       "50%         19.000000\n",
       "75%         27.000000\n",
       "max         62.000000\n",
       "Name: question_word_count, dtype: float64"
      ]
     },
     "metadata": {},
     "output_type": "display_data"
    },
    {
     "data": {
      "text/plain": [
       "count    94939.000000\n",
       "mean        40.053814\n",
       "std         22.255862\n",
       "min          1.000000\n",
       "25%         22.000000\n",
       "50%         38.000000\n",
       "75%         59.000000\n",
       "max        564.000000\n",
       "Name: answer_word_count, dtype: float64"
      ]
     },
     "metadata": {},
     "output_type": "display_data"
    }
   ],
   "source": [
    "healthtap_data['question_word_count'] = healthtap_data['question'].str.split().apply(len)\n",
    "healthtap_data['answer_word_count'] = healthtap_data['answer'].str.split().apply(len)\n",
    "display(healthtap_data['question_word_count'].describe())\n",
    "display(healthtap_data['answer_word_count'].describe())"
   ]
  },
  {
   "cell_type": "code",
   "execution_count": 137,
   "metadata": {},
   "outputs": [
    {
     "data": {
      "text/plain": [
       "<AxesSubplot:>"
      ]
     },
     "execution_count": 137,
     "metadata": {},
     "output_type": "execute_result"
    },
    {
     "data": {
      "image/png": "[encoded data removed]",
      "text/plain": [
       "<Figure size 1080x720 with 1 Axes>"
      ]
     },
     "metadata": {
      "needs_background": "light"
     },
     "output_type": "display_data"
    }
   ],
   "source": [
    "healthtap_data['question_word_count_group'] = pd.cut(healthtap_data['question_word_count'], bins=10, precision=0)\n",
    "pd.value_counts(healthtap_data['question_word_count_group']).plot(kind=\"bar\", figsize=(15,10), rot=0)"
   ]
  },
  {
   "cell_type": "code",
   "execution_count": 138,
   "metadata": {},
   "outputs": [
    {
     "data": {
      "text/plain": [
       "<AxesSubplot:>"
      ]
     },
     "execution_count": 138,
     "metadata": {},
     "output_type": "execute_result"
    },
    {
     "data": {
      "image/png": "[encoded data removed]",
      "text/plain": [
       "<Figure size 1080x720 with 1 Axes>"
      ]
     },
     "metadata": {
      "needs_background": "light"
     },
     "output_type": "display_data"
    }
   ],
   "source": [
    "healthtap_data['answer_word_count_group'] = pd.cut(healthtap_data['answer_word_count'], bins=10, precision=0)\n",
    "pd.value_counts(healthtap_data['answer_word_count_group']).plot(kind=\"bar\", figsize=(15,10), rot=0)"
   ]
  },
  {
   "cell_type": "markdown",
   "metadata": {},
   "source": [
    "#### Number of answers that have length more than 100 words"
   ]
  },
  {
   "cell_type": "code",
   "execution_count": 139,
   "metadata": {},
   "outputs": [
    {
     "data": {
      "text/plain": [
       "315"
      ]
     },
     "execution_count": 139,
     "metadata": {},
     "output_type": "execute_result"
    }
   ],
   "source": [
    "len(healthtap_data[healthtap_data['answer_word_count'] > 100])"
   ]
  },
  {
   "cell_type": "code",
   "execution_count": 140,
   "metadata": {},
   "outputs": [
    {
     "name": "stderr",
     "output_type": "stream",
     "text": [
      "<ipython-input-140-26f2a71a03cf>:2: SettingWithCopyWarning: \n",
      "A value is trying to be set on a copy of a slice from a DataFrame.\n",
      "Try using .loc[row_indexer,col_indexer] = value instead\n",
      "\n",
      "See the caveats in the documentation: https://pandas.pydata.org/pandas-docs/stable/user_guide/indexing.html#returning-a-view-versus-a-copy\n",
      "  less_than_100['answer_word_count_group'] = pd.cut(less_than_100['answer_word_count'], bins=10, precision=0)\n"
     ]
    },
    {
     "data": {
      "text/plain": [
       "<AxesSubplot:>"
      ]
     },
     "execution_count": 140,
     "metadata": {},
     "output_type": "execute_result"
    },
    {
     "data": {
      "image/png": "[encoded data removed]",
      "text/plain": [
       "<Figure size 1080x720 with 1 Axes>"
      ]
     },
     "metadata": {
      "needs_background": "light"
     },
     "output_type": "display_data"
    }
   ],
   "source": [
    "less_than_100 = healthtap_data[healthtap_data['answer_word_count'] < 100]\n",
    "less_than_100['answer_word_count_group'] = pd.cut(less_than_100['answer_word_count'], bins=10, precision=0)\n",
    "pd.value_counts(less_than_100['answer_word_count_group']).plot(kind=\"bar\", figsize=(15,10), rot=0)"
   ]
  },
  {
   "cell_type": "markdown",
   "metadata": {},
   "source": [
    "## Loading second healthtap dataset - json"
   ]
  },
  {
   "cell_type": "code",
   "execution_count": 141,
   "metadata": {},
   "outputs": [
    {
     "name": "stdout",
     "output_type": "stream",
     "text": [
      "<class 'pandas.core.frame.DataFrame'>\n",
      "RangeIndex: 137052 entries, 0 to 137051\n",
      "Data columns (total 5 columns):\n",
      " #   Column        Non-Null Count   Dtype \n",
      "---  ------        --------------   ----- \n",
      " 0   question      137052 non-null  object\n",
      " 1   short_answer  137052 non-null  object\n",
      " 2   answer        137052 non-null  object\n",
      " 3   tags          137052 non-null  object\n",
      " 4   url           137052 non-null  object\n",
      "dtypes: object(5)\n",
      "memory usage: 5.2+ MB\n"
     ]
    },
    {
     "data": {
      "text/plain": [
       "None"
      ]
     },
     "metadata": {},
     "output_type": "display_data"
    },
    {
     "data": {
      "text/html": [
       "<div>\n",
       "<style scoped>\n",
       "    .dataframe tbody tr th:only-of-type {\n",
       "        vertical-align: middle;\n",
       "    }\n",
       "\n",
       "    .dataframe tbody tr th {\n",
       "        vertical-align: top;\n",
       "    }\n",
       "\n",
       "    .dataframe thead th {\n",
       "        text-align: right;\n",
       "    }\n",
       "</style>\n",
       "<table border=\"1\" class=\"dataframe\">\n",
       "  <thead>\n",
       "    <tr style=\"text-align: right;\">\n",
       "      <th></th>\n",
       "      <th>question</th>\n",
       "      <th>short_answer</th>\n",
       "      <th>answer</th>\n",
       "      <th>tags</th>\n",
       "      <th>url</th>\n",
       "    </tr>\n",
       "  </thead>\n",
       "  <tbody>\n",
       "    <tr>\n",
       "      <th>0</th>\n",
       "      <td>zirconium dental implants. how common is it us...</td>\n",
       "      <td>\\nDental implants\\n</td>\n",
       "      <td>a majority of the dental implants placed are t...</td>\n",
       "      <td>[dentistry]</td>\n",
       "      <td>https://www.healthtap.com/user_questions/11605...</td>\n",
       "    </tr>\n",
       "    <tr>\n",
       "      <th>1</th>\n",
       "      <td>zirconium dental implants. how common is it us...</td>\n",
       "      <td>\\nTitanium is better\\n</td>\n",
       "      <td>and the data on zirconia implants is much more...</td>\n",
       "      <td>[dentistry]</td>\n",
       "      <td>https://www.healthtap.com/user_questions/11605...</td>\n",
       "    </tr>\n",
       "    <tr>\n",
       "      <th>2</th>\n",
       "      <td>zirconium dental implants. how common is it us...</td>\n",
       "      <td>\\nZirconium\\n</td>\n",
       "      <td>dental implants when loaded transfer stress to...</td>\n",
       "      <td>[dentistry]</td>\n",
       "      <td>https://www.healthtap.com/user_questions/11605...</td>\n",
       "    </tr>\n",
       "    <tr>\n",
       "      <th>3</th>\n",
       "      <td>zirconium dental implants. how common is it us...</td>\n",
       "      <td>\\nMore research\\n</td>\n",
       "      <td>stick with what we know works -- titanium. let...</td>\n",
       "      <td>[dentistry]</td>\n",
       "      <td>https://www.healthtap.com/user_questions/11605...</td>\n",
       "    </tr>\n",
       "    <tr>\n",
       "      <th>4</th>\n",
       "      <td>zirconium dental implants. how common is it us...</td>\n",
       "      <td>\\nNot very common\\n</td>\n",
       "      <td>the vast majority of dental implants placed ar...</td>\n",
       "      <td>[dentistry]</td>\n",
       "      <td>https://www.healthtap.com/user_questions/11605...</td>\n",
       "    </tr>\n",
       "  </tbody>\n",
       "</table>\n",
       "</div>"
      ],
      "text/plain": [
       "                                            question            short_answer  \\\n",
       "0  zirconium dental implants. how common is it us...     \\nDental implants\\n   \n",
       "1  zirconium dental implants. how common is it us...  \\nTitanium is better\\n   \n",
       "2  zirconium dental implants. how common is it us...           \\nZirconium\\n   \n",
       "3  zirconium dental implants. how common is it us...       \\nMore research\\n   \n",
       "4  zirconium dental implants. how common is it us...     \\nNot very common\\n   \n",
       "\n",
       "                                              answer         tags  \\\n",
       "0  a majority of the dental implants placed are t...  [dentistry]   \n",
       "1  and the data on zirconia implants is much more...  [dentistry]   \n",
       "2  dental implants when loaded transfer stress to...  [dentistry]   \n",
       "3  stick with what we know works -- titanium. let...  [dentistry]   \n",
       "4  the vast majority of dental implants placed ar...  [dentistry]   \n",
       "\n",
       "                                                 url  \n",
       "0  https://www.healthtap.com/user_questions/11605...  \n",
       "1  https://www.healthtap.com/user_questions/11605...  \n",
       "2  https://www.healthtap.com/user_questions/11605...  \n",
       "3  https://www.healthtap.com/user_questions/11605...  \n",
       "4  https://www.healthtap.com/user_questions/11605...  "
      ]
     },
     "metadata": {},
     "output_type": "display_data"
    }
   ],
   "source": [
    "healthtap2_dataset_path = './healthtap/healthtapQAs.json'\n",
    "healthtap2_data = pd.read_json(healthtap2_dataset_path, orient='records')\n",
    "display(healthtap2_data.info())\n",
    "display(healthtap2_data.head())"
   ]
  },
  {
   "cell_type": "code",
   "execution_count": 142,
   "metadata": {},
   "outputs": [
    {
     "data": {
      "text/plain": [
       "count    137052.000000\n",
       "mean         17.555205\n",
       "std           9.640957\n",
       "min           2.000000\n",
       "25%          10.000000\n",
       "50%          15.000000\n",
       "75%          25.000000\n",
       "max          63.000000\n",
       "Name: question_word_count, dtype: float64"
      ]
     },
     "metadata": {},
     "output_type": "display_data"
    },
    {
     "data": {
      "text/plain": [
       "count    137052.000000\n",
       "mean         40.628426\n",
       "std          22.993334\n",
       "min           1.000000\n",
       "25%          22.000000\n",
       "50%          40.000000\n",
       "75%          59.000000\n",
       "max         608.000000\n",
       "Name: answer_word_count, dtype: float64"
      ]
     },
     "metadata": {},
     "output_type": "display_data"
    }
   ],
   "source": [
    "healthtap2_data['question_word_count'] = healthtap2_data['question'].str.split().apply(len)\n",
    "healthtap2_data['answer_word_count'] = healthtap2_data['answer'].str.split().apply(len)\n",
    "display(healthtap2_data['question_word_count'].describe())\n",
    "display(healthtap2_data['answer_word_count'].describe())"
   ]
  },
  {
   "cell_type": "code",
   "execution_count": 143,
   "metadata": {},
   "outputs": [
    {
     "data": {
      "text/plain": [
       "<AxesSubplot:>"
      ]
     },
     "execution_count": 143,
     "metadata": {},
     "output_type": "execute_result"
    },
    {
     "data": {
      "image/png": "[encoded data removed]",
      "text/plain": [
       "<Figure size 1080x720 with 1 Axes>"
      ]
     },
     "metadata": {
      "needs_background": "light"
     },
     "output_type": "display_data"
    }
   ],
   "source": [
    "healthtap2_data['question_word_count_group'] = pd.cut(healthtap2_data['question_word_count'], bins=10, precision=0)\n",
    "pd.value_counts(healthtap2_data['question_word_count_group']).plot(kind=\"bar\", figsize=(15,10), rot=0)"
   ]
  },
  {
   "cell_type": "code",
   "execution_count": 144,
   "metadata": {},
   "outputs": [
    {
     "data": {
      "text/plain": [
       "<AxesSubplot:>"
      ]
     },
     "execution_count": 144,
     "metadata": {},
     "output_type": "execute_result"
    },
    {
     "data": {
      "image/png": "[encoded data removed]",
      "text/plain": [
       "<Figure size 1080x720 with 1 Axes>"
      ]
     },
     "metadata": {
      "needs_background": "light"
     },
     "output_type": "display_data"
    }
   ],
   "source": [
    "healthtap2_data['answer_word_count_group'] = pd.cut(healthtap2_data['answer_word_count'], bins=10, precision=0)\n",
    "pd.value_counts(healthtap2_data['answer_word_count_group']).plot(kind=\"bar\", figsize=(15,10), rot=0)"
   ]
  },
  {
   "cell_type": "code",
   "execution_count": 145,
   "metadata": {},
   "outputs": [
    {
     "name": "stderr",
     "output_type": "stream",
     "text": [
      "<ipython-input-145-3e093595c283>:2: SettingWithCopyWarning: \n",
      "A value is trying to be set on a copy of a slice from a DataFrame.\n",
      "Try using .loc[row_indexer,col_indexer] = value instead\n",
      "\n",
      "See the caveats in the documentation: https://pandas.pydata.org/pandas-docs/stable/user_guide/indexing.html#returning-a-view-versus-a-copy\n",
      "  less_than_100_2['answer_word_count_group'] = pd.cut(less_than_100_2['answer_word_count'], bins=10, precision=0)\n"
     ]
    },
    {
     "data": {
      "text/plain": [
       "<AxesSubplot:>"
      ]
     },
     "execution_count": 145,
     "metadata": {},
     "output_type": "execute_result"
    },
    {
     "data": {
      "image/png": "[encoded data removed]",
      "text/plain": [
       "<Figure size 1080x720 with 1 Axes>"
      ]
     },
     "metadata": {
      "needs_background": "light"
     },
     "output_type": "display_data"
    }
   ],
   "source": [
    "less_than_100_2 = healthtap2_data[healthtap2_data['answer_word_count'] < 100]\n",
    "less_than_100_2['answer_word_count_group'] = pd.cut(less_than_100_2['answer_word_count'], bins=10, precision=0)\n",
    "pd.value_counts(less_than_100_2['answer_word_count_group']).plot(kind=\"bar\", figsize=(15,10), rot=0)"
   ]
  },
  {
   "cell_type": "markdown",
   "metadata": {},
   "source": [
    "## QuestionDoctor dataset"
   ]
  },
  {
   "cell_type": "code",
   "execution_count": 3,
   "metadata": {},
   "outputs": [
    {
     "name": "stdout",
     "output_type": "stream",
     "text": [
      "<class 'pandas.core.frame.DataFrame'>\n",
      "RangeIndex: 5679 entries, 0 to 5678\n",
      "Data columns (total 6 columns):\n",
      " #   Column         Non-Null Count  Dtype \n",
      "---  ------         --------------  ----- \n",
      " 0   answer         5679 non-null   object\n",
      " 1   answer_author  5679 non-null   object\n",
      " 2   question       5679 non-null   object\n",
      " 3   question_text  5679 non-null   object\n",
      " 4   tags           5679 non-null   object\n",
      " 5   url            5679 non-null   object\n",
      "dtypes: object(6)\n",
      "memory usage: 266.3+ KB\n"
     ]
    },
    {
     "data": {
      "text/plain": [
       "None"
      ]
     },
     "metadata": {},
     "output_type": "display_data"
    },
    {
     "data": {
      "text/html": [
       "<div>\n",
       "<style scoped>\n",
       "    .dataframe tbody tr th:only-of-type {\n",
       "        vertical-align: middle;\n",
       "    }\n",
       "\n",
       "    .dataframe tbody tr th {\n",
       "        vertical-align: top;\n",
       "    }\n",
       "\n",
       "    .dataframe thead th {\n",
       "        text-align: right;\n",
       "    }\n",
       "</style>\n",
       "<table border=\"1\" class=\"dataframe\">\n",
       "  <thead>\n",
       "    <tr style=\"text-align: right;\">\n",
       "      <th></th>\n",
       "      <th>answer</th>\n",
       "      <th>answer_author</th>\n",
       "      <th>question</th>\n",
       "      <th>question_text</th>\n",
       "      <th>tags</th>\n",
       "      <th>url</th>\n",
       "    </tr>\n",
       "  </thead>\n",
       "  <tbody>\n",
       "    <tr>\n",
       "      <th>0</th>\n",
       "      <td>you can stay assured you are fine free of hiv....</td>\n",
       "      <td>Dr. Ayman Darrag</td>\n",
       "      <td>is my anti hiv test conclusive or need retest?</td>\n",
       "      <td>Is my Anti Hiv Test Conclusive or need retest?</td>\n",
       "      <td>[hiv test]</td>\n",
       "      <td>https://questiondoctors.com/is-my-anti-hiv-tes...</td>\n",
       "    </tr>\n",
       "    <tr>\n",
       "      <th>1</th>\n",
       "      <td>hi you are 100 % hiv free good luck</td>\n",
       "      <td>Dr Ahmed Fawzy</td>\n",
       "      <td>is my anti hiv test conclusive or need retest?</td>\n",
       "      <td>Is my Anti Hiv Test Conclusive or need retest?</td>\n",
       "      <td>[hiv test]</td>\n",
       "      <td>https://questiondoctors.com/is-my-anti-hiv-tes...</td>\n",
       "    </tr>\n",
       "    <tr>\n",
       "      <th>2</th>\n",
       "      <td>your time slots of the tests and the final res...</td>\n",
       "      <td>Dr.Honey</td>\n",
       "      <td>is my anti hiv test conclusive or need retest?</td>\n",
       "      <td>Is my Anti Hiv Test Conclusive or need retest?</td>\n",
       "      <td>[hiv test]</td>\n",
       "      <td>https://questiondoctors.com/is-my-anti-hiv-tes...</td>\n",
       "    </tr>\n",
       "    <tr>\n",
       "      <th>3</th>\n",
       "      <td>hi i see no labrum tear however i see acetabul...</td>\n",
       "      <td>Dr Ahmed Fawzy</td>\n",
       "      <td>i have some hip pain 9 weeks. had mra image re...</td>\n",
       "      <td>I have some hip pain 9 weeks. Had MRA image re...</td>\n",
       "      <td>[magnetic resonance angiography (mra)]</td>\n",
       "      <td>https://questiondoctors.com/i-have-some-hip-pa...</td>\n",
       "    </tr>\n",
       "    <tr>\n",
       "      <th>4</th>\n",
       "      <td>no visible tear in labrum but obviously calcif...</td>\n",
       "      <td>Dr. Ayman Darrag</td>\n",
       "      <td>i have some hip pain 9 weeks. had mra image re...</td>\n",
       "      <td>I have some hip pain 9 weeks. Had MRA image re...</td>\n",
       "      <td>[magnetic resonance angiography (mra)]</td>\n",
       "      <td>https://questiondoctors.com/i-have-some-hip-pa...</td>\n",
       "    </tr>\n",
       "  </tbody>\n",
       "</table>\n",
       "</div>"
      ],
      "text/plain": [
       "                                              answer     answer_author  \\\n",
       "0  you can stay assured you are fine free of hiv....  Dr. Ayman Darrag   \n",
       "1                hi you are 100 % hiv free good luck    Dr Ahmed Fawzy   \n",
       "2  your time slots of the tests and the final res...          Dr.Honey   \n",
       "3  hi i see no labrum tear however i see acetabul...    Dr Ahmed Fawzy   \n",
       "4  no visible tear in labrum but obviously calcif...  Dr. Ayman Darrag   \n",
       "\n",
       "                                            question  \\\n",
       "0     is my anti hiv test conclusive or need retest?   \n",
       "1     is my anti hiv test conclusive or need retest?   \n",
       "2     is my anti hiv test conclusive or need retest?   \n",
       "3  i have some hip pain 9 weeks. had mra image re...   \n",
       "4  i have some hip pain 9 weeks. had mra image re...   \n",
       "\n",
       "                                       question_text  \\\n",
       "0     Is my Anti Hiv Test Conclusive or need retest?   \n",
       "1     Is my Anti Hiv Test Conclusive or need retest?   \n",
       "2     Is my Anti Hiv Test Conclusive or need retest?   \n",
       "3  I have some hip pain 9 weeks. Had MRA image re...   \n",
       "4  I have some hip pain 9 weeks. Had MRA image re...   \n",
       "\n",
       "                                     tags  \\\n",
       "0                              [hiv test]   \n",
       "1                              [hiv test]   \n",
       "2                              [hiv test]   \n",
       "3  [magnetic resonance angiography (mra)]   \n",
       "4  [magnetic resonance angiography (mra)]   \n",
       "\n",
       "                                                 url  \n",
       "0  https://questiondoctors.com/is-my-anti-hiv-tes...  \n",
       "1  https://questiondoctors.com/is-my-anti-hiv-tes...  \n",
       "2  https://questiondoctors.com/is-my-anti-hiv-tes...  \n",
       "3  https://questiondoctors.com/i-have-some-hip-pa...  \n",
       "4  https://questiondoctors.com/i-have-some-hip-pa...  "
      ]
     },
     "metadata": {},
     "output_type": "display_data"
    }
   ],
   "source": [
    "qd_dataset_path = '../../data/questionDoctorQAs.json'\n",
    "qd_data = pd.read_json(qd_dataset_path, orient='records')\n",
    "display(qd_data.info())\n",
    "display(qd_data.head())"
   ]
  },
  {
   "cell_type": "code",
   "execution_count": 4,
   "metadata": {},
   "outputs": [
    {
     "data": {
      "text/plain": [
       "count    5679.000000\n",
       "mean       13.553971\n",
       "std         4.220607\n",
       "min         3.000000\n",
       "25%        11.000000\n",
       "50%        13.000000\n",
       "75%        16.000000\n",
       "max        30.000000\n",
       "Name: question_word_count, dtype: float64"
      ]
     },
     "metadata": {},
     "output_type": "display_data"
    },
    {
     "data": {
      "text/plain": [
       "count    5679.000000\n",
       "mean       41.352879\n",
       "std        19.330120\n",
       "min         1.000000\n",
       "25%        27.000000\n",
       "50%        38.000000\n",
       "75%        52.500000\n",
       "max       112.000000\n",
       "Name: answer_word_count, dtype: float64"
      ]
     },
     "metadata": {},
     "output_type": "display_data"
    }
   ],
   "source": [
    "qd_data['question_word_count'] = qd_data['question'].str.split().apply(len)\n",
    "qd_data['answer_word_count'] = qd_data['answer'].str.split().apply(len)\n",
    "display(qd_data['question_word_count'].describe())\n",
    "display(qd_data['answer_word_count'].describe())"
   ]
  },
  {
   "cell_type": "code",
   "execution_count": null,
   "metadata": {},
   "outputs": [],
   "source": []
  },
  {
   "cell_type": "code",
   "execution_count": 6,
   "metadata": {},
   "outputs": [
    {
     "data": {
      "text/plain": [
       "<AxesSubplot:>"
      ]
     },
     "execution_count": 6,
     "metadata": {},
     "output_type": "execute_result"
    },
    {
     "data": {
      "image/png": "[encoded data removed]",
      "text/plain": [
       "<Figure size 1080x720 with 1 Axes>"
      ]
     },
     "metadata": {
      "needs_background": "light"
     },
     "output_type": "display_data"
    }
   ],
   "source": [
    "qd_data['question_word_count_group'] = pd.cut(qd_data['question_word_count'], bins=10, precision=0)\n",
    "pd.value_counts(qd_data['question_word_count']).sort_index().plot(kind=\"bar\", figsize=(15,10), rot=0)"
   ]
  },
  {
   "cell_type": "code",
   "execution_count": 149,
   "metadata": {},
   "outputs": [
    {
     "data": {
      "text/plain": [
       "<AxesSubplot:>"
      ]
     },
     "execution_count": 149,
     "metadata": {},
     "output_type": "execute_result"
    },
    {
     "data": {
      "image/png": "[encoded data removed]",
      "text/plain": [
       "<Figure size 1080x720 with 1 Axes>"
      ]
     },
     "metadata": {
      "needs_background": "light"
     },
     "output_type": "display_data"
    }
   ],
   "source": [
    "qd_data['answer_word_count_group'] = pd.cut(qd_data['answer_word_count'], bins=10, precision=0)\n",
    "pd.value_counts(qd_data['answer_word_count_group']).plot(kind=\"bar\", figsize=(15,10), rot=0)"
   ]
  },
  {
   "cell_type": "markdown",
   "metadata": {},
   "source": [
    "## WebMd dataset"
   ]
  },
  {
   "cell_type": "code",
   "execution_count": 150,
   "metadata": {},
   "outputs": [
    {
     "name": "stdout",
     "output_type": "stream",
     "text": [
      "<class 'pandas.core.frame.DataFrame'>\n",
      "RangeIndex: 23437 entries, 0 to 23436\n",
      "Data columns (total 4 columns):\n",
      " #   Column    Non-Null Count  Dtype \n",
      "---  ------    --------------  ----- \n",
      " 0   answer    23437 non-null  object\n",
      " 1   question  23437 non-null  object\n",
      " 2   url       23437 non-null  object\n",
      " 3   tags      23437 non-null  object\n",
      "dtypes: object(4)\n",
      "memory usage: 732.5+ KB\n"
     ]
    },
    {
     "data": {
      "text/plain": [
       "None"
      ]
     },
     "metadata": {},
     "output_type": "display_data"
    },
    {
     "data": {
      "text/html": [
       "<div>\n",
       "<style scoped>\n",
       "    .dataframe tbody tr th:only-of-type {\n",
       "        vertical-align: middle;\n",
       "    }\n",
       "\n",
       "    .dataframe tbody tr th {\n",
       "        vertical-align: top;\n",
       "    }\n",
       "\n",
       "    .dataframe thead th {\n",
       "        text-align: right;\n",
       "    }\n",
       "</style>\n",
       "<table border=\"1\" class=\"dataframe\">\n",
       "  <thead>\n",
       "    <tr style=\"text-align: right;\">\n",
       "      <th></th>\n",
       "      <th>answer</th>\n",
       "      <th>question</th>\n",
       "      <th>url</th>\n",
       "      <th>tags</th>\n",
       "    </tr>\n",
       "  </thead>\n",
       "  <tbody>\n",
       "    <tr>\n",
       "      <th>0</th>\n",
       "      <td>adhd and bipolar mood disorder (bmd) can coexi...</td>\n",
       "      <td>my 5 1/2-year-old son displays adhd symptoms f...</td>\n",
       "      <td>http://answers.webmd.com/answers/1194205/my-5-...</td>\n",
       "      <td>[attention deficit hyperactivity disorder]</td>\n",
       "    </tr>\n",
       "    <tr>\n",
       "      <th>1</th>\n",
       "      <td>stimulants in general tend to decrease appetit...</td>\n",
       "      <td>my son has add and mild autism. he has been su...</td>\n",
       "      <td>http://answers.webmd.com/answers/1194206/my-so...</td>\n",
       "      <td>[autism, weight loss]</td>\n",
       "    </tr>\n",
       "    <tr>\n",
       "      <th>2</th>\n",
       "      <td>while any of the stimulant medications can inc...</td>\n",
       "      <td>my son is 13 and is depressed. he has been tak...</td>\n",
       "      <td>http://answers.webmd.com/answers/1198557/my-so...</td>\n",
       "      <td>[]</td>\n",
       "    </tr>\n",
       "    <tr>\n",
       "      <th>3</th>\n",
       "      <td>seventy percent of teens diagnosed when they a...</td>\n",
       "      <td>my 17-year-old has stopped taking concerta aft...</td>\n",
       "      <td>http://answers.webmd.com/answers/1195455/my-17...</td>\n",
       "      <td>[attention deficit hyperactivity disorder]</td>\n",
       "    </tr>\n",
       "    <tr>\n",
       "      <th>4</th>\n",
       "      <td>try claritin-d which is located behind the pha...</td>\n",
       "      <td>i've been taking respa-ar for allergies. i can...</td>\n",
       "      <td>http://answers.webmd.com/answers/1182576/i-ve-...</td>\n",
       "      <td>[allergy]</td>\n",
       "    </tr>\n",
       "  </tbody>\n",
       "</table>\n",
       "</div>"
      ],
      "text/plain": [
       "                                              answer  \\\n",
       "0  adhd and bipolar mood disorder (bmd) can coexi...   \n",
       "1  stimulants in general tend to decrease appetit...   \n",
       "2  while any of the stimulant medications can inc...   \n",
       "3  seventy percent of teens diagnosed when they a...   \n",
       "4  try claritin-d which is located behind the pha...   \n",
       "\n",
       "                                            question  \\\n",
       "0  my 5 1/2-year-old son displays adhd symptoms f...   \n",
       "1  my son has add and mild autism. he has been su...   \n",
       "2  my son is 13 and is depressed. he has been tak...   \n",
       "3  my 17-year-old has stopped taking concerta aft...   \n",
       "4  i've been taking respa-ar for allergies. i can...   \n",
       "\n",
       "                                                 url  \\\n",
       "0  http://answers.webmd.com/answers/1194205/my-5-...   \n",
       "1  http://answers.webmd.com/answers/1194206/my-so...   \n",
       "2  http://answers.webmd.com/answers/1198557/my-so...   \n",
       "3  http://answers.webmd.com/answers/1195455/my-17...   \n",
       "4  http://answers.webmd.com/answers/1182576/i-ve-...   \n",
       "\n",
       "                                         tags  \n",
       "0  [attention deficit hyperactivity disorder]  \n",
       "1                       [autism, weight loss]  \n",
       "2                                          []  \n",
       "3  [attention deficit hyperactivity disorder]  \n",
       "4                                   [allergy]  "
      ]
     },
     "metadata": {},
     "output_type": "display_data"
    }
   ],
   "source": [
    "webmd_dataset_path = './webmd/webmdQAs.json'\n",
    "webmd_data = pd.read_json(webmd_dataset_path, orient='records')\n",
    "display(webmd_data.info())\n",
    "display(webmd_data.head())"
   ]
  },
  {
   "cell_type": "code",
   "execution_count": 151,
   "metadata": {},
   "outputs": [
    {
     "data": {
      "text/plain": [
       "count    23437.000000\n",
       "mean        38.398814\n",
       "std         35.178750\n",
       "min          2.000000\n",
       "25%         10.000000\n",
       "50%         22.000000\n",
       "75%         62.000000\n",
       "max        139.000000\n",
       "Name: question_word_count, dtype: float64"
      ]
     },
     "metadata": {},
     "output_type": "display_data"
    },
    {
     "data": {
      "text/plain": [
       "count    23437.000000\n",
       "mean       101.828860\n",
       "std        101.793181\n",
       "min          1.000000\n",
       "25%         39.000000\n",
       "50%         70.000000\n",
       "75%        128.000000\n",
       "max       1308.000000\n",
       "Name: answer_word_count, dtype: float64"
      ]
     },
     "metadata": {},
     "output_type": "display_data"
    }
   ],
   "source": [
    "webmd_data['question_word_count'] = webmd_data['question'].str.split().apply(len)\n",
    "webmd_data['answer_word_count'] = webmd_data['answer'].str.split().apply(len)\n",
    "display(webmd_data['question_word_count'].describe())\n",
    "display(webmd_data['answer_word_count'].describe())"
   ]
  },
  {
   "cell_type": "code",
   "execution_count": 152,
   "metadata": {},
   "outputs": [
    {
     "data": {
      "text/plain": [
       "<AxesSubplot:>"
      ]
     },
     "execution_count": 152,
     "metadata": {},
     "output_type": "execute_result"
    },
    {
     "data": {
      "image/png": "[encoded data removed]",
      "text/plain": [
       "<Figure size 1080x720 with 1 Axes>"
      ]
     },
     "metadata": {
      "needs_background": "light"
     },
     "output_type": "display_data"
    }
   ],
   "source": [
    "webmd_data['question_word_count_group'] = pd.cut(webmd_data['question_word_count'], bins=10, precision=0)\n",
    "pd.value_counts(webmd_data['question_word_count_group']).plot(kind=\"bar\", figsize=(15,10), rot=0)"
   ]
  },
  {
   "cell_type": "code",
   "execution_count": 153,
   "metadata": {},
   "outputs": [
    {
     "data": {
      "text/plain": [
       "<AxesSubplot:>"
      ]
     },
     "execution_count": 153,
     "metadata": {},
     "output_type": "execute_result"
    },
    {
     "data": {
      "image/png": "[encoded data removed]",
      "text/plain": [
       "<Figure size 1080x720 with 1 Axes>"
      ]
     },
     "metadata": {
      "needs_background": "light"
     },
     "output_type": "display_data"
    }
   ],
   "source": [
    "webmd_data['answer_word_count_group'] = pd.cut(webmd_data['answer_word_count'], bins=10, precision=0)\n",
    "pd.value_counts(webmd_data['answer_word_count_group']).plot(kind=\"bar\", figsize=(15,10), rot=0)"
   ]
  },
  {
   "cell_type": "code",
   "execution_count": 154,
   "metadata": {},
   "outputs": [
    {
     "name": "stderr",
     "output_type": "stream",
     "text": [
      "<ipython-input-154-8f526c2bfd5f>:2: SettingWithCopyWarning: \n",
      "A value is trying to be set on a copy of a slice from a DataFrame.\n",
      "Try using .loc[row_indexer,col_indexer] = value instead\n",
      "\n",
      "See the caveats in the documentation: https://pandas.pydata.org/pandas-docs/stable/user_guide/indexing.html#returning-a-view-versus-a-copy\n",
      "  less_than_200['answer_word_count_group'] = pd.cut(less_than_200['answer_word_count'], bins=10, precision=0)\n"
     ]
    },
    {
     "data": {
      "text/plain": [
       "<AxesSubplot:>"
      ]
     },
     "execution_count": 154,
     "metadata": {},
     "output_type": "execute_result"
    },
    {
     "data": {
      "image/png": "[encoded data removed]",
      "text/plain": [
       "<Figure size 1080x720 with 1 Axes>"
      ]
     },
     "metadata": {
      "needs_background": "light"
     },
     "output_type": "display_data"
    }
   ],
   "source": [
    "less_than_200 = webmd_data[webmd_data['answer_word_count'] < 100]\n",
    "less_than_200['answer_word_count_group'] = pd.cut(less_than_200['answer_word_count'], bins=10, precision=0)\n",
    "pd.value_counts(less_than_200['answer_word_count_group']).plot(kind=\"bar\", figsize=(15,10), rot=0)"
   ]
  },
  {
   "cell_type": "markdown",
   "metadata": {},
   "source": [
    "## Ehealthforum dataset"
   ]
  },
  {
   "cell_type": "code",
   "execution_count": 155,
   "metadata": {},
   "outputs": [
    {
     "name": "stdout",
     "output_type": "stream",
     "text": [
      "<class 'pandas.core.frame.DataFrame'>\n",
      "RangeIndex: 171 entries, 0 to 170\n",
      "Data columns (total 4 columns):\n",
      " #   Column    Non-Null Count  Dtype \n",
      "---  ------    --------------  ----- \n",
      " 0   answer    171 non-null    object\n",
      " 1   question  171 non-null    object\n",
      " 2   url       171 non-null    object\n",
      " 3   tags      171 non-null    object\n",
      "dtypes: object(4)\n",
      "memory usage: 5.5+ KB\n"
     ]
    },
    {
     "data": {
      "text/plain": [
       "None"
      ]
     },
     "metadata": {},
     "output_type": "display_data"
    },
    {
     "data": {
      "text/html": [
       "<div>\n",
       "<style scoped>\n",
       "    .dataframe tbody tr th:only-of-type {\n",
       "        vertical-align: middle;\n",
       "    }\n",
       "\n",
       "    .dataframe tbody tr th {\n",
       "        vertical-align: top;\n",
       "    }\n",
       "\n",
       "    .dataframe thead th {\n",
       "        text-align: right;\n",
       "    }\n",
       "</style>\n",
       "<table border=\"1\" class=\"dataframe\">\n",
       "  <thead>\n",
       "    <tr style=\"text-align: right;\">\n",
       "      <th></th>\n",
       "      <th>answer</th>\n",
       "      <th>question</th>\n",
       "      <th>url</th>\n",
       "      <th>tags</th>\n",
       "    </tr>\n",
       "  </thead>\n",
       "  <tbody>\n",
       "    <tr>\n",
       "      <th>0</th>\n",
       "      <td>stopping smoking is about will power and being...</td>\n",
       "      <td>how do i stop smoking now</td>\n",
       "      <td>http://ehealthforum.com/health/stop-smoking-qu...</td>\n",
       "      <td>[addiction, stop smoking]</td>\n",
       "    </tr>\n",
       "    <tr>\n",
       "      <th>1</th>\n",
       "      <td>hello this sounds quite unfamiliar that due to...</td>\n",
       "      <td>i had a tubaligation 4 years ago and also have...</td>\n",
       "      <td>http://ehealthforum.com/health/endometriosis-q...</td>\n",
       "      <td>[pregnancy, diet, endometriosis]</td>\n",
       "    </tr>\n",
       "    <tr>\n",
       "      <th>2</th>\n",
       "      <td>extra caffeine can cause gastric discomfort th...</td>\n",
       "      <td>could extra caffeine consumption be a cause of...</td>\n",
       "      <td>http://ehealthforum.com/health/caffeine-consum...</td>\n",
       "      <td>[breast cancer, cancer, breasts]</td>\n",
       "    </tr>\n",
       "    <tr>\n",
       "      <th>3</th>\n",
       "      <td>hello thanks for submitting your question here...</td>\n",
       "      <td>hello- i am a 24 year old female 5\"4 &amp; 115 lb ...</td>\n",
       "      <td>http://ehealthforum.com/health/pcos-one-ovary-...</td>\n",
       "      <td>[hair loss, diet, acne, ovulation and ovaries]</td>\n",
       "    </tr>\n",
       "    <tr>\n",
       "      <th>4</th>\n",
       "      <td>i am glad to help you out. this is not possibl...</td>\n",
       "      <td>i was wanting to know if you could tell me if ...</td>\n",
       "      <td>http://ehealthforum.com/health/not-knowing-you...</td>\n",
       "      <td>[am i pregnant, pregnant, urine pregnancy test...</td>\n",
       "    </tr>\n",
       "  </tbody>\n",
       "</table>\n",
       "</div>"
      ],
      "text/plain": [
       "                                              answer  \\\n",
       "0  stopping smoking is about will power and being...   \n",
       "1  hello this sounds quite unfamiliar that due to...   \n",
       "2  extra caffeine can cause gastric discomfort th...   \n",
       "3  hello thanks for submitting your question here...   \n",
       "4  i am glad to help you out. this is not possibl...   \n",
       "\n",
       "                                            question  \\\n",
       "0                          how do i stop smoking now   \n",
       "1  i had a tubaligation 4 years ago and also have...   \n",
       "2  could extra caffeine consumption be a cause of...   \n",
       "3  hello- i am a 24 year old female 5\"4 & 115 lb ...   \n",
       "4  i was wanting to know if you could tell me if ...   \n",
       "\n",
       "                                                 url  \\\n",
       "0  http://ehealthforum.com/health/stop-smoking-qu...   \n",
       "1  http://ehealthforum.com/health/endometriosis-q...   \n",
       "2  http://ehealthforum.com/health/caffeine-consum...   \n",
       "3  http://ehealthforum.com/health/pcos-one-ovary-...   \n",
       "4  http://ehealthforum.com/health/not-knowing-you...   \n",
       "\n",
       "                                                tags  \n",
       "0                          [addiction, stop smoking]  \n",
       "1                   [pregnancy, diet, endometriosis]  \n",
       "2                   [breast cancer, cancer, breasts]  \n",
       "3     [hair loss, diet, acne, ovulation and ovaries]  \n",
       "4  [am i pregnant, pregnant, urine pregnancy test...  "
      ]
     },
     "metadata": {},
     "output_type": "display_data"
    }
   ],
   "source": [
    "ehealth_dataset_path = './ehealthforum/ehealthforumQAs.json'\n",
    "ehealth_data = pd.read_json(ehealth_dataset_path, orient='records')\n",
    "display(ehealth_data.info())\n",
    "display(ehealth_data.head())"
   ]
  },
  {
   "cell_type": "code",
   "execution_count": 156,
   "metadata": {},
   "outputs": [
    {
     "data": {
      "text/plain": [
       "count    171.000000\n",
       "mean      98.081871\n",
       "std       68.069897\n",
       "min        2.000000\n",
       "25%       43.000000\n",
       "50%       83.000000\n",
       "75%      158.500000\n",
       "max      399.000000\n",
       "Name: question_word_count, dtype: float64"
      ]
     },
     "metadata": {},
     "output_type": "display_data"
    },
    {
     "data": {
      "text/plain": [
       "count    171.000000\n",
       "mean     107.134503\n",
       "std       68.336017\n",
       "min        7.000000\n",
       "25%       64.000000\n",
       "50%       85.000000\n",
       "75%      136.500000\n",
       "max      480.000000\n",
       "Name: answer_word_count, dtype: float64"
      ]
     },
     "metadata": {},
     "output_type": "display_data"
    }
   ],
   "source": [
    "ehealth_data['question_word_count'] = ehealth_data['question'].str.split().apply(len)\n",
    "ehealth_data['answer_word_count'] = ehealth_data['answer'].str.split().apply(len)\n",
    "display(ehealth_data['question_word_count'].describe())\n",
    "display(ehealth_data['answer_word_count'].describe())"
   ]
  },
  {
   "cell_type": "markdown",
   "metadata": {},
   "source": [
    "## ICliniq dataset"
   ]
  },
  {
   "cell_type": "code",
   "execution_count": 157,
   "metadata": {},
   "outputs": [
    {
     "name": "stdout",
     "output_type": "stream",
     "text": [
      "<class 'pandas.core.frame.DataFrame'>\n",
      "RangeIndex: 465 entries, 0 to 464\n",
      "Data columns (total 5 columns):\n",
      " #   Column         Non-Null Count  Dtype \n",
      "---  ------         --------------  ----- \n",
      " 0   answer         465 non-null    object\n",
      " 1   question       465 non-null    object\n",
      " 2   question_text  465 non-null    object\n",
      " 3   tags           465 non-null    object\n",
      " 4   url            465 non-null    object\n",
      "dtypes: object(5)\n",
      "memory usage: 18.3+ KB\n"
     ]
    },
    {
     "data": {
      "text/plain": [
       "None"
      ]
     },
     "metadata": {},
     "output_type": "display_data"
    },
    {
     "data": {
      "text/html": [
       "<div>\n",
       "<style scoped>\n",
       "    .dataframe tbody tr th:only-of-type {\n",
       "        vertical-align: middle;\n",
       "    }\n",
       "\n",
       "    .dataframe tbody tr th {\n",
       "        vertical-align: top;\n",
       "    }\n",
       "\n",
       "    .dataframe thead th {\n",
       "        text-align: right;\n",
       "    }\n",
       "</style>\n",
       "<table border=\"1\" class=\"dataframe\">\n",
       "  <thead>\n",
       "    <tr style=\"text-align: right;\">\n",
       "      <th></th>\n",
       "      <th>answer</th>\n",
       "      <th>question</th>\n",
       "      <th>question_text</th>\n",
       "      <th>tags</th>\n",
       "      <th>url</th>\n",
       "    </tr>\n",
       "  </thead>\n",
       "  <tbody>\n",
       "    <tr>\n",
       "      <th>0</th>\n",
       "      <td>from your description it appears that you may ...</td>\n",
       "      <td>is it fine to exercise with knee pain?</td>\n",
       "      <td>\\r\\n\\r\\n\\r\\n\\t\\t\\t\\t\\tHi doctor,\\nI am a 24 ye...</td>\n",
       "      <td>[exercises]</td>\n",
       "      <td>https://www.icliniq.com/qa/knee-pain/is-it-fin...</td>\n",
       "    </tr>\n",
       "    <tr>\n",
       "      <th>1</th>\n",
       "      <td>depression anxiety restlessness and panic atta...</td>\n",
       "      <td>suffering from anxiety restlessness and taking...</td>\n",
       "      <td>\\r\\n\\r\\n\\r\\n\\t\\t\\t\\t\\tDear Doctor,\\nI am suffe...</td>\n",
       "      <td>[anxiety]</td>\n",
       "      <td>https://www.icliniq.com/qa/anxiety/suffering-f...</td>\n",
       "    </tr>\n",
       "    <tr>\n",
       "      <th>2</th>\n",
       "      <td>patients with hypothyroidism usually gain weig...</td>\n",
       "      <td>can a thyroid patient eat soybean and fenugreek?</td>\n",
       "      <td>\\r\\n\\r\\n\\r\\n\\t\\t\\t\\t\\tHi doctor,I am a 23 year...</td>\n",
       "      <td>[hypothyroidism]</td>\n",
       "      <td>https://www.icliniq.com/qa/thyroid-problem/can...</td>\n",
       "    </tr>\n",
       "    <tr>\n",
       "      <th>3</th>\n",
       "      <td>fenugreek seed cannot affect your fertility do...</td>\n",
       "      <td>i am not getting my periods after taking fenug...</td>\n",
       "      <td>\\r\\n\\r\\n\\r\\n\\t\\t\\t\\t\\tHi doctor,\\nI am a 23 ye...</td>\n",
       "      <td>[delayed period]</td>\n",
       "      <td>https://www.icliniq.com/qa/missed-period/i-am-...</td>\n",
       "    </tr>\n",
       "    <tr>\n",
       "      <th>4</th>\n",
       "      <td>your problem is a characteristic of cholinergi...</td>\n",
       "      <td>kindly suggest me a therapy to overcome heat a...</td>\n",
       "      <td>\\r\\n\\r\\n\\r\\n\\t\\t\\t\\t\\tHello doctor,\\nFrom one ...</td>\n",
       "      <td>[levocetirizine]</td>\n",
       "      <td>https://www.icliniq.com/qa/cholinergic-urticar...</td>\n",
       "    </tr>\n",
       "  </tbody>\n",
       "</table>\n",
       "</div>"
      ],
      "text/plain": [
       "                                              answer  \\\n",
       "0  from your description it appears that you may ...   \n",
       "1  depression anxiety restlessness and panic atta...   \n",
       "2  patients with hypothyroidism usually gain weig...   \n",
       "3  fenugreek seed cannot affect your fertility do...   \n",
       "4  your problem is a characteristic of cholinergi...   \n",
       "\n",
       "                                            question  \\\n",
       "0             is it fine to exercise with knee pain?   \n",
       "1  suffering from anxiety restlessness and taking...   \n",
       "2   can a thyroid patient eat soybean and fenugreek?   \n",
       "3  i am not getting my periods after taking fenug...   \n",
       "4  kindly suggest me a therapy to overcome heat a...   \n",
       "\n",
       "                                       question_text              tags  \\\n",
       "0  \\r\\n\\r\\n\\r\\n\\t\\t\\t\\t\\tHi doctor,\\nI am a 24 ye...       [exercises]   \n",
       "1  \\r\\n\\r\\n\\r\\n\\t\\t\\t\\t\\tDear Doctor,\\nI am suffe...         [anxiety]   \n",
       "2  \\r\\n\\r\\n\\r\\n\\t\\t\\t\\t\\tHi doctor,I am a 23 year...  [hypothyroidism]   \n",
       "3  \\r\\n\\r\\n\\r\\n\\t\\t\\t\\t\\tHi doctor,\\nI am a 23 ye...  [delayed period]   \n",
       "4  \\r\\n\\r\\n\\r\\n\\t\\t\\t\\t\\tHello doctor,\\nFrom one ...  [levocetirizine]   \n",
       "\n",
       "                                                 url  \n",
       "0  https://www.icliniq.com/qa/knee-pain/is-it-fin...  \n",
       "1  https://www.icliniq.com/qa/anxiety/suffering-f...  \n",
       "2  https://www.icliniq.com/qa/thyroid-problem/can...  \n",
       "3  https://www.icliniq.com/qa/missed-period/i-am-...  \n",
       "4  https://www.icliniq.com/qa/cholinergic-urticar...  "
      ]
     },
     "metadata": {},
     "output_type": "display_data"
    }
   ],
   "source": [
    "icliniq_dataset_path = './icliniq/icliniqQAs.json'\n",
    "icliniq_data = pd.read_json(icliniq_dataset_path, orient='records')\n",
    "display(icliniq_data.info())\n",
    "display(icliniq_data.head())"
   ]
  },
  {
   "cell_type": "code",
   "execution_count": 158,
   "metadata": {},
   "outputs": [
    {
     "data": {
      "text/plain": [
       "count    465.000000\n",
       "mean      10.647312\n",
       "std        3.856298\n",
       "min        3.000000\n",
       "25%        8.000000\n",
       "50%       10.000000\n",
       "75%       13.000000\n",
       "max       25.000000\n",
       "Name: question_word_count, dtype: float64"
      ]
     },
     "metadata": {},
     "output_type": "display_data"
    },
    {
     "data": {
      "text/plain": [
       "count    465.000000\n",
       "mean     145.303226\n",
       "std       82.687304\n",
       "min       21.000000\n",
       "25%       96.000000\n",
       "50%      122.000000\n",
       "75%      173.000000\n",
       "max      646.000000\n",
       "Name: answer_word_count, dtype: float64"
      ]
     },
     "metadata": {},
     "output_type": "display_data"
    }
   ],
   "source": [
    "icliniq_data['question_word_count'] = icliniq_data['question'].str.split().apply(len)\n",
    "icliniq_data['answer_word_count'] = icliniq_data['answer'].str.split().apply(len)\n",
    "display(icliniq_data['question_word_count'].describe())\n",
    "display(icliniq_data['answer_word_count'].describe())"
   ]
  }
 ],
 "metadata": {
  "colab": {
   "name": "MedicalChatbotData.ipynb",
   "provenance": []
  },
  "kernelspec": {
   "display_name": "Python 3",
   "language": "python",
   "name": "python3"
  },
  "language_info": {
   "codemirror_mode": {
    "name": "ipython",
    "version": 3
   },
   "file_extension": ".py",
   "mimetype": "text/x-python",
   "name": "python",
   "nbconvert_exporter": "python",
   "pygments_lexer": "ipython3",
   "version": "3.8.3"
  }
 },
 "nbformat": 4,
 "nbformat_minor": 1
}
